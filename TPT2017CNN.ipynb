{
  "nbformat": 4,
  "nbformat_minor": 0,
  "metadata": {
    "colab": {
      "name": "TPT2017CNN.ipynb",
      "provenance": [],
      "collapsed_sections": [],
      "toc_visible": true,
      "machine_shape": "hm",
      "authorship_tag": "ABX9TyO5a+aZeNxqGhrjwJnGyXl5",
      "include_colab_link": true
    },
    "kernelspec": {
      "name": "python3",
      "display_name": "Python 3"
    },
    "accelerator": "GPU"
  },
  "cells": [
    {
      "cell_type": "markdown",
      "metadata": {
        "id": "view-in-github",
        "colab_type": "text"
      },
      "source": [
        "<a href=\"https://colab.research.google.com/github/ryanjameskim/public/blob/master/TPT2017CNN.ipynb\" target=\"_parent\"><img src=\"https://colab.research.google.com/assets/colab-badge.svg\" alt=\"Open In Colab\"/></a>"
      ]
    },
    {
      "cell_type": "markdown",
      "metadata": {
        "id": "WkFMAJtmyYzn",
        "colab_type": "text"
      },
      "source": [
        "# Simple CNN\n",
        "Infrastructure copied from Tsantekidis, Passalis, Tefas, et al 2017 with few addition of Dropout layers\n",
        "\n",
        "Data is organized as follows:\n",
        "*   X and Y numpy file pairs for each trading date of various lengths\n",
        "*   X data and Y data are time ordered by 200ms\n",
        "*   X is a numpy array of shape (???, 16, 2) with 8 closest bid and offer sizes in one channel and the standardized price based on the last 1500 (5 min) mids and variance\n",
        "*   Y is a unidimensional numpy array of shape (???,) which labels whether future average price over the next minute is higher (1), lower (-1), or unchanged (0) than the previous minute's price with a tolerance of 0.00005 (half pip)\n"
      ]
    },
    {
      "cell_type": "code",
      "metadata": {
        "id": "Dg-AU6YvVpvw",
        "colab_type": "code",
        "colab": {
          "base_uri": "https://localhost:8080/",
          "height": 34
        },
        "outputId": "455b6dc8-a404-42b5-a684-c0def58772e7"
      },
      "source": [
        "import numpy as np\n",
        "import tensorflow as tf\n",
        "import os\n",
        "import matplotlib.pyplot as plt\n",
        "import keras\n",
        "import random\n",
        "\n",
        "#print(keras.__version__)"
      ],
      "execution_count": 3,
      "outputs": [
        {
          "output_type": "stream",
          "text": [
            "2.4.3\n"
          ],
          "name": "stdout"
        }
      ]
    },
    {
      "cell_type": "markdown",
      "metadata": {
        "id": "vIuOz0aqOlfQ",
        "colab_type": "text"
      },
      "source": [
        "# Determine Y splits\n",
        "\n",
        "Steps:\n",
        "\n",
        "*   Find all the data files\n",
        "*   Find total distribution of Y's\n"
      ]
    },
    {
      "cell_type": "code",
      "metadata": {
        "id": "VueU6SygV1g9",
        "colab_type": "code",
        "colab": {
          "base_uri": "https://localhost:8080/",
          "height": 35
        },
        "outputId": "9ed2cd0d-c397-4bc4-a724-43087044cf04"
      },
      "source": [
        "os.getcwd()"
      ],
      "execution_count": 4,
      "outputs": [
        {
          "output_type": "execute_result",
          "data": {
            "application/vnd.google.colaboratory.intrinsic+json": {
              "type": "string"
            },
            "text/plain": [
              "'/content'"
            ]
          },
          "metadata": {
            "tags": []
          },
          "execution_count": 4
        }
      ]
    },
    {
      "cell_type": "code",
      "metadata": {
        "id": "wOG8byujiNPj",
        "colab_type": "code",
        "colab": {
          "base_uri": "https://localhost:8080/",
          "height": 54
        },
        "outputId": "db9ac6c1-279d-43da-f2a4-5e59c8727bff"
      },
      "source": [
        "data_files = []\n",
        "for root, dirs, files in os.walk('/content'):\n",
        "  for f in files:\n",
        "    if '.npy' in f:\n",
        "      data_files.append(f)\n",
        "print(data_files)\n",
        "\n",
        "os.chdir('/content')"
      ],
      "execution_count": 5,
      "outputs": [
        {
          "output_type": "stream",
          "text": [
            "['20200616_Y.npy', '20200617_Y.npy', '20200630_Y.npy', '20200723_Y.npy', '20200612_Y.npy', '20200723_X.npy', '20200612_X.npy', '20200623_X.npy', '20200610_Y.npy', '20200717_Y.npy', '20200603_Y.npy', '20200602_X.npy', '20200701_Y.npy', '20200611_X.npy', '20200622_X.npy', '20200722_Y.npy', '20200605_Y.npy', '20200618_Y.npy', '20200720_Y.npy', '20200611_Y.npy', '20200624_X.npy', '20200618_X.npy', '20200616_X.npy', '20200609_X.npy', '20200602_Y.npy', '20200608_Y.npy', '20200625_X.npy', '20200615_X.npy', '20200619_Y.npy', '20200623_Y.npy', '20200603_X.npy', '20200716_X.npy', '20200710_X.npy', '20200717_X.npy', '20200714_X.npy', '20200605_X.npy', '20200604_Y.npy', '20200626_X.npy', '20200714_Y.npy', '20200609_Y.npy', '20200619_X.npy', '20200721_X.npy', '20200622_Y.npy', '20200608_X.npy', '20200701_X.npy', '20200713_X.npy', '20200610_X.npy', '20200721_Y.npy', '20200625_Y.npy', '20200617_X.npy', '20200624_Y.npy', '20200722_X.npy', '20200713_Y.npy', '20200626_Y.npy', '20200715_Y.npy', '20200630_X.npy', '20200724_X.npy', '20200604_X.npy', '20200715_X.npy', '20200724_Y.npy', '20200710_Y.npy', '20200720_X.npy', '20200615_Y.npy', '20200716_Y.npy']\n"
          ],
          "name": "stdout"
        }
      ]
    },
    {
      "cell_type": "code",
      "metadata": {
        "id": "tW6nFyc1OtGG",
        "colab_type": "code",
        "colab": {}
      },
      "source": [
        "#collect Y's\n",
        "y_files = [f for f in data_files if '_Y' in f]\n",
        "all_Y = np.load(y_files[0]).reshape(-1,1)\n",
        "for f in y_files[1:]:\n",
        "  all_Y = np.vstack((all_Y, np.load(f).reshape(-1,1)))\n",
        "all_Y.shape\n",
        "\n",
        "y_length = all_Y.shape[0]"
      ],
      "execution_count": 6,
      "outputs": []
    },
    {
      "cell_type": "code",
      "metadata": {
        "id": "8YPLj9yhR0uf",
        "colab_type": "code",
        "colab": {
          "base_uri": "https://localhost:8080/",
          "height": 51
        },
        "outputId": "c959216f-6f50-4265-fa67-db6cf0698079"
      },
      "source": [
        "unique, counts = np.unique(all_Y, return_counts=True)\n",
        "print(dict(zip(unique, counts)))\n",
        "print(f'Third of Y values: {int(y_length / 3)}')\n"
      ],
      "execution_count": 7,
      "outputs": [
        {
          "output_type": "stream",
          "text": [
            "{-1: 754826, 0: 1031519, 1: 751865}\n",
            "Third of Y values: 846070\n"
          ],
          "name": "stdout"
        }
      ]
    },
    {
      "cell_type": "markdown",
      "metadata": {
        "id": "04w5bU3zZGSA",
        "colab_type": "text"
      },
      "source": [
        "#  Collect X's\n",
        "\n",
        "Steps:\n",
        "\n",
        "*   Store all lengths of X as dictionary\n",
        "*   Number all X files\n",
        "*   Create index of all files with replacement --> lines without replacement\n",
        "*   array will look like this: [(1,500), (8, 200), ...] and so on\n",
        "*   Generator looks up the first 32 index tuples and then appends chosen X and Y's to batch\n",
        "*   Yield a batch"
      ]
    },
    {
      "cell_type": "code",
      "metadata": {
        "id": "brvaHHnuVyMy",
        "colab_type": "code",
        "colab": {
          "base_uri": "https://localhost:8080/",
          "height": 578
        },
        "outputId": "cb681575-8c9e-4e0b-bec1-ee6c4c2910d2"
      },
      "source": [
        "# Collect X files\n",
        "x_files = [f for f in data_files if '_X' in f]\n",
        "\n",
        "# Collect X file lengths into dictionary\n",
        "x_file_lengths = {f : len(np.load(f)) for f in x_files}\n",
        "\n",
        "# Print X file lengths\n",
        "print(f'X File Lengths by Filename:')\n",
        "x_file_lengths"
      ],
      "execution_count": 8,
      "outputs": [
        {
          "output_type": "stream",
          "text": [
            "X File Lengths by Filename:\n"
          ],
          "name": "stdout"
        },
        {
          "output_type": "execute_result",
          "data": {
            "text/plain": [
              "{'20200602_X.npy': 28379,\n",
              " '20200603_X.npy': 16713,\n",
              " '20200604_X.npy': 31017,\n",
              " '20200605_X.npy': 17401,\n",
              " '20200608_X.npy': 26935,\n",
              " '20200609_X.npy': 79595,\n",
              " '20200610_X.npy': 24953,\n",
              " '20200611_X.npy': 16927,\n",
              " '20200612_X.npy': 26935,\n",
              " '20200615_X.npy': 51527,\n",
              " '20200616_X.npy': 60372,\n",
              " '20200617_X.npy': 72435,\n",
              " '20200618_X.npy': 53521,\n",
              " '20200619_X.npy': 104322,\n",
              " '20200622_X.npy': 218779,\n",
              " '20200623_X.npy': 25739,\n",
              " '20200624_X.npy': 131306,\n",
              " '20200625_X.npy': 253311,\n",
              " '20200626_X.npy': 26285,\n",
              " '20200630_X.npy': 59392,\n",
              " '20200701_X.npy': 148620,\n",
              " '20200710_X.npy': 76908,\n",
              " '20200713_X.npy': 112906,\n",
              " '20200714_X.npy': 112752,\n",
              " '20200715_X.npy': 88974,\n",
              " '20200716_X.npy': 134879,\n",
              " '20200717_X.npy': 89638,\n",
              " '20200720_X.npy': 52409,\n",
              " '20200721_X.npy': 103925,\n",
              " '20200722_X.npy': 105472,\n",
              " '20200723_X.npy': 100946,\n",
              " '20200724_X.npy': 84937}"
            ]
          },
          "metadata": {
            "tags": []
          },
          "execution_count": 8
        }
      ]
    },
    {
      "cell_type": "code",
      "metadata": {
        "id": "zq2R_YiDW8mG",
        "colab_type": "code",
        "colab": {
          "base_uri": "https://localhost:8080/",
          "height": 88
        },
        "outputId": "f9aae42e-f2da-4618-a155-98c1069521ef"
      },
      "source": [
        "# Ensure x and y files are sorted\n",
        "x_files = sorted(x_files)\n",
        "print(x_files)\n",
        "\n",
        "y_files = sorted(y_files)\n",
        "print(y_files)\n",
        "\n",
        "if not len(x_files) == len(y_files):\n",
        "  print(f'Check uploaded files!')\n",
        "\n",
        "print(x_file_lengths)"
      ],
      "execution_count": 9,
      "outputs": [
        {
          "output_type": "stream",
          "text": [
            "['20200602_X.npy', '20200603_X.npy', '20200604_X.npy', '20200605_X.npy', '20200608_X.npy', '20200609_X.npy', '20200610_X.npy', '20200611_X.npy', '20200612_X.npy', '20200615_X.npy', '20200616_X.npy', '20200617_X.npy', '20200618_X.npy', '20200619_X.npy', '20200622_X.npy', '20200623_X.npy', '20200624_X.npy', '20200625_X.npy', '20200626_X.npy', '20200630_X.npy', '20200701_X.npy', '20200710_X.npy', '20200713_X.npy', '20200714_X.npy', '20200715_X.npy', '20200716_X.npy', '20200717_X.npy', '20200720_X.npy', '20200721_X.npy', '20200722_X.npy', '20200723_X.npy', '20200724_X.npy']\n",
            "['20200602_Y.npy', '20200603_Y.npy', '20200604_Y.npy', '20200605_Y.npy', '20200608_Y.npy', '20200609_Y.npy', '20200610_Y.npy', '20200611_Y.npy', '20200612_Y.npy', '20200615_Y.npy', '20200616_Y.npy', '20200617_Y.npy', '20200618_Y.npy', '20200619_Y.npy', '20200622_Y.npy', '20200623_Y.npy', '20200624_Y.npy', '20200625_Y.npy', '20200626_Y.npy', '20200630_Y.npy', '20200701_Y.npy', '20200710_Y.npy', '20200713_Y.npy', '20200714_Y.npy', '20200715_Y.npy', '20200716_Y.npy', '20200717_Y.npy', '20200720_Y.npy', '20200721_Y.npy', '20200722_Y.npy', '20200723_Y.npy', '20200724_Y.npy']\n",
            "{'20200723_X.npy': 100946, '20200612_X.npy': 26935, '20200623_X.npy': 25739, '20200602_X.npy': 28379, '20200611_X.npy': 16927, '20200622_X.npy': 218779, '20200624_X.npy': 131306, '20200618_X.npy': 53521, '20200616_X.npy': 60372, '20200609_X.npy': 79595, '20200625_X.npy': 253311, '20200615_X.npy': 51527, '20200603_X.npy': 16713, '20200716_X.npy': 134879, '20200710_X.npy': 76908, '20200717_X.npy': 89638, '20200714_X.npy': 112752, '20200605_X.npy': 17401, '20200626_X.npy': 26285, '20200619_X.npy': 104322, '20200721_X.npy': 103925, '20200608_X.npy': 26935, '20200701_X.npy': 148620, '20200713_X.npy': 112906, '20200610_X.npy': 24953, '20200617_X.npy': 72435, '20200722_X.npy': 105472, '20200630_X.npy': 59392, '20200724_X.npy': 84937, '20200604_X.npy': 31017, '20200715_X.npy': 88974, '20200720_X.npy': 52409}\n"
          ],
          "name": "stdout"
        }
      ]
    },
    {
      "cell_type": "code",
      "metadata": {
        "id": "rQHyD9ifY9dw",
        "colab_type": "code",
        "colab": {
          "base_uri": "https://localhost:8080/",
          "height": 34
        },
        "outputId": "6fad5fa4-7212-4e02-9a5e-c194cf4fb97d"
      },
      "source": [
        "# Sum total lines in X files\n",
        "total_X_length = sum(x_file_lengths[key] for key in x_file_lengths)\n",
        "\n",
        "# Ensure match with Y length\n",
        "if not total_X_length == y_length:\n",
        "  print(f'Check X and Y lengths!')\n",
        "\n",
        "# Total number of lines\n",
        "print(f'Total number of lines in training set: {total_X_length}')"
      ],
      "execution_count": 10,
      "outputs": [
        {
          "output_type": "stream",
          "text": [
            "Total number of lines in training set: 2538210\n"
          ],
          "name": "stdout"
        }
      ]
    },
    {
      "cell_type": "markdown",
      "metadata": {
        "id": "OGNWuz9Ku5Y0",
        "colab_type": "text"
      },
      "source": [
        "# Create index lookup for X\n",
        "\n",
        "Using example of three files of 10 length each. 3 lookback.\n",
        "*  total_X_length = 30\n",
        "*  index_to_file = {7: first.npy, 14: second.npy, 21: third.npy}\n",
        "   *   if up to 7, goes to first.npy (0 --> first.npy(0,1,2), 7 --> first.npy(7,8,9))\n",
        "   *   if goes to 8, need to subtract (7+1) row in second.npy (8 --> second.npy(0,1,2), 15 --> second.npy(7,8,9))\n",
        "      *   last valid line in second.npy is 7 + (7+1) = 15\n",
        "   *   if goes to 16, need to subtract (15 + 1) row in third.npy (16 --> third,npy(0,1,2), 23 --> third.npy(7,8,9))\n",
        "\n",
        "index_list = [0, 1, 2, 3, ... , 21, 22, 23]\n",
        "\n",
        "x_file_length[0] - lookback + 1 --> -1 + 10 - 3 + 1 = 7\n",
        "*   x_file_length[1] - lookback + 1 --> 7 + 10 - 3 + 1 = 15\n",
        "*   x_file_length[2] - lookback + 1 --> 15 + 10 - 3 + 1 = 23\n",
        "\n",
        "index_list = range(total_X_length - lookback * 3 + (3))  <--- remember this is RANGE, so it's 24 items, but ends in 23\n",
        "\n",
        "\n"
      ]
    },
    {
      "cell_type": "code",
      "metadata": {
        "id": "EgArOYwv70Nl",
        "colab_type": "code",
        "colab": {
          "base_uri": "https://localhost:8080/",
          "height": 71
        },
        "outputId": "57eb13be-5a76-4368-fda4-6294f48b8f98"
      },
      "source": [
        "orderbook_look_size = 300\n",
        "index_list = list(range(total_X_length-orderbook_look_size * len(x_file_lengths) + (len(x_file_lengths))))\n",
        "\n",
        "max_index = -1\n",
        "tuple_to_key = {}\n",
        "low = 0\n",
        "for date_key in sorted(x_file_lengths):\n",
        "  max_index += x_file_lengths[date_key] - orderbook_look_size + 1\n",
        "  tuple_to_key[(low, max_index)] = date_key\n",
        "  low = max_index + 1\n",
        "\n",
        "print(tuple_to_key)\n",
        "print(index_list[-1])"
      ],
      "execution_count": 11,
      "outputs": [
        {
          "output_type": "stream",
          "text": [
            "{(0, 28079): '20200602_X.npy', (28080, 44493): '20200603_X.npy', (44494, 75211): '20200604_X.npy', (75212, 92313): '20200605_X.npy', (92314, 118949): '20200608_X.npy', (118950, 198245): '20200609_X.npy', (198246, 222899): '20200610_X.npy', (222900, 239527): '20200611_X.npy', (239528, 266163): '20200612_X.npy', (266164, 317391): '20200615_X.npy', (317392, 377464): '20200616_X.npy', (377465, 449600): '20200617_X.npy', (449601, 502822): '20200618_X.npy', (502823, 606845): '20200619_X.npy', (606846, 825325): '20200622_X.npy', (825326, 850765): '20200623_X.npy', (850766, 981772): '20200624_X.npy', (981773, 1234784): '20200625_X.npy', (1234785, 1260770): '20200626_X.npy', (1260771, 1319863): '20200630_X.npy', (1319864, 1468184): '20200701_X.npy', (1468185, 1544793): '20200710_X.npy', (1544794, 1657400): '20200713_X.npy', (1657401, 1769853): '20200714_X.npy', (1769854, 1858528): '20200715_X.npy', (1858529, 1993108): '20200716_X.npy', (1993109, 2082447): '20200717_X.npy', (2082448, 2134557): '20200720_X.npy', (2134558, 2238183): '20200721_X.npy', (2238184, 2343356): '20200722_X.npy', (2343357, 2444003): '20200723_X.npy', (2444004, 2528641): '20200724_X.npy'}\n",
            "2528641\n"
          ],
          "name": "stdout"
        }
      ]
    },
    {
      "cell_type": "markdown",
      "metadata": {
        "id": "yjtZijUodc4q",
        "colab_type": "text"
      },
      "source": [
        "# Repeat process for validation set"
      ]
    },
    {
      "cell_type": "code",
      "metadata": {
        "id": "GCxpQdMMdbpg",
        "colab_type": "code",
        "colab": {
          "base_uri": "https://localhost:8080/",
          "height": 85
        },
        "outputId": "0494c843-5a9f-4074-f916-0102f29c39ce"
      },
      "source": [
        "val_files = []\n",
        "for root, dirs, files in os.walk('/validation'):\n",
        "  for f in files:\n",
        "    if '.npy' in f:\n",
        "      val_files.append(''.join(root + '/' + f))\n",
        "print(val_files)\n",
        "\n",
        "#collect Y's\n",
        "val_y_files = [f for f in val_files if '_Y' in f]\n",
        "val_all_Y = np.load(val_y_files[0]).reshape(-1,1)\n",
        "for f in val_y_files[1:]:\n",
        "  val_all_Y = np.vstack((val_all_Y, np.load(f).reshape(-1,1)))\n",
        "val_y_length = val_all_Y.shape[0]\n",
        "\n",
        "# Collect X files\n",
        "val_x_files = [f for f in val_files if '_X' in f]\n",
        "\n",
        "# Collect X file lengths into dictionary\n",
        "val_x_file_lengths = {f : len(np.load(f)) for f in val_x_files}\n",
        "\n",
        "# Ensure x and y files are sorted\n",
        "val_x_files = sorted(x_files)\n",
        "val_y_files = sorted(y_files)\n",
        "\n",
        "# Sum total lines in X files\n",
        "val_total_X_length = sum(val_x_file_lengths[key] for key in val_x_file_lengths)\n",
        "\n",
        "# Ensure match with Y length\n",
        "if not val_total_X_length == val_y_length:\n",
        "  print(f'Check Validation X and Y lengths!')\n",
        "\n",
        "# Total number of lines\n",
        "print(f'Total number of lines in validation set: {val_total_X_length}')\n",
        "\n",
        "#create validation tuple to key\n",
        "val_index_list = list(range(val_total_X_length-orderbook_look_size * len(val_x_file_lengths) + (len(val_x_file_lengths))))\n",
        "\n",
        "val_max_index = -1\n",
        "val_tuple_to_key = {}\n",
        "val_low = 0\n",
        "for date_key in sorted(val_x_file_lengths):\n",
        "  val_max_index += val_x_file_lengths[date_key] - orderbook_look_size + 1\n",
        "  val_tuple_to_key[(val_low, val_max_index)] = date_key\n",
        "  val_low = val_max_index + 1\n",
        "\n",
        "print(val_tuple_to_key)\n",
        "print(val_index_list[-1])\n"
      ],
      "execution_count": 12,
      "outputs": [
        {
          "output_type": "stream",
          "text": [
            "['/validation/20200727_X.npy', '/validation/20200728_X.npy', '/validation/20200728_Y.npy', '/validation/20200729_Y.npy', '/validation/20200727_Y.npy', '/validation/20200729_X.npy']\n",
            "Total number of lines in validation set: 220529\n",
            "{(0, 79175): '/validation/20200727_X.npy', (79176, 160156): '/validation/20200728_X.npy', (160157, 219631): '/validation/20200729_X.npy'}\n",
            "219631\n"
          ],
          "name": "stdout"
        }
      ]
    },
    {
      "cell_type": "markdown",
      "metadata": {
        "id": "XHDzaXXq2gQH",
        "colab_type": "text"
      },
      "source": [
        "#   Create Data Generator\n",
        "\n",
        "*    This randomly selects integers from a range and then looks up which trading file to open\n",
        "*    Collects 300 (1 minute) pictures of data with which to train the CNN"
      ]
    },
    {
      "cell_type": "code",
      "metadata": {
        "id": "x-afYmJ8Ht9O",
        "colab_type": "code",
        "colab": {}
      },
      "source": [
        "class DataGenerator(keras.utils.Sequence):\n",
        "#Adapted from https://stanford.edu/~shervine/blog/keras-how-to-generate-data-on-the-fly\n",
        "    'Generates data for Keras'\n",
        "    def __init__(self, tuple_to_key, index_list, batch_size=32, dim=(300,16), n_channels=2,\n",
        "                 n_classes=3, split=.00005, shuffle=True, verbose=False, orderbook_look_size=300):\n",
        "        'Initialization'\n",
        "        self.dim = dim\n",
        "        self.batch_size = batch_size\n",
        "        self.tuple_to_key = tuple_to_key\n",
        "        self.n_channels = n_channels\n",
        "        self.n_classes = n_classes\n",
        "        self.shuffle = shuffle\n",
        "        self.index_list = index_list\n",
        "        self.orderbook_look_size = orderbook_look_size\n",
        "        self.verbose=verbose\n",
        "        self.split = split\n",
        "        self.on_epoch_end()\n",
        "\n",
        "    def __len__(self):\n",
        "        'Denotes the number of batches per epoch'\n",
        "        return int(np.floor(len(self.index_list) / self.batch_size))\n",
        "\n",
        "    def __getitem__(self, index):\n",
        "        'Generate one batch of data'\n",
        "        # Generate indexes of the batch\n",
        "        indexes = self.indexes[index*self.batch_size:(index+1)*self.batch_size]\n",
        "\n",
        "        # Generate data\n",
        "        X, y = self.__data_generation(indexes)\n",
        "\n",
        "        return X, y\n",
        "\n",
        "    def on_epoch_end(self, verbose=True):\n",
        "        'Updates indexes after each epoch'\n",
        "        self.indexes = np.arange(len(self.index_list))\n",
        "        if self.shuffle == True:\n",
        "            np.random.shuffle(self.indexes)\n",
        "        if verbose:\n",
        "          print(f'New Shuffle! Index beginning {self.indexes[:3]}')\n",
        "\n",
        "    def Y_one_hot(self, single_Y):\n",
        "      category_Y = np.zeros((self.n_classes, single_Y.shape[0]))\n",
        "      for i in range(single_Y.shape[0]):\n",
        "        if single_Y[i] > self.split:\n",
        "          category_Y[2, i] = 1\n",
        "        elif single_Y[i] > -self.split:\n",
        "          category_Y[1, i] = 1\n",
        "        else:\n",
        "          category_Y[0, i] = 1\n",
        "        return category_Y[:,0]\n",
        "\n",
        "    def __data_generation(self, indexes, verbose = False):\n",
        "        'Generates data containing batch_size samples' # X : (n_samples, *dim, n_channels)\n",
        "        # Initialization\n",
        "        X = np.empty((self.batch_size, *self.dim, self.n_channels))\n",
        "        y = np.empty((self.batch_size, self.n_classes), dtype=int)\n",
        "\n",
        "        # Generate data\n",
        "        for batch_i, ID in enumerate(indexes):\n",
        "            # Find index within tuple dictionary\n",
        "            for tuple_pair in self.tuple_to_key:\n",
        "              if ID >= tuple_pair[0] and ID < tuple_pair[1]:\n",
        "                f = self.tuple_to_key[tuple_pair]\n",
        "                y_file = f.split('_')[0]+'_Y.npy'\n",
        "\n",
        "                # Print index range with file name\n",
        "                if verbose:\n",
        "                  print(f'{ID} uses X: {f} lines {ID-tuple_pair[0]} to {ID-tuple_pair[0]+self.orderbook_look_size} \\nY: {y_file} line {ID-tuple_pair[0]+self.orderbook_look_size}')\n",
        "                  \n",
        "                # Store X sample\n",
        "                X[batch_i,] = np.load(f)[ID-tuple_pair[0]:ID-tuple_pair[0]+self.orderbook_look_size, :]\n",
        "\n",
        "                # Determine y sample\n",
        "                pre_cat_y = np.load(y_file).reshape(-1,1)[ID-tuple_pair[0]+self.orderbook_look_size]\n",
        "                y[batch_i] = self.Y_one_hot(pre_cat_y)\n",
        "\n",
        "        return X, y"
      ],
      "execution_count": 13,
      "outputs": []
    },
    {
      "cell_type": "markdown",
      "metadata": {
        "id": "KVvk5cEn217U",
        "colab_type": "text"
      },
      "source": [
        "#  CNN Model"
      ]
    },
    {
      "cell_type": "code",
      "metadata": {
        "id": "6rNbblyLcEoX",
        "colab_type": "code",
        "colab": {}
      },
      "source": [
        "from functools import partial\n",
        "\n",
        "DefaultConv2D = partial(keras.layers.Conv2D,\n",
        "                        kernel_size=3, activation='relu', padding=\"SAME\")\n",
        "DefaultConv1D = partial(keras.layers.Conv1D,\n",
        "                        kernel_size=3, activation='relu', padding=\"SAME\")\n",
        "\n",
        "model = keras.models.Sequential([\n",
        "    DefaultConv2D(filters=16, kernel_size=(2, 40), input_shape=[300, 16, 2]),\n",
        "    DefaultConv1D(filters=16, kernel_size=2),\n",
        "    keras.layers.MaxPooling2D(pool_size=2),\n",
        "    DefaultConv1D(filters=32, kernel_size=3),\n",
        "    DefaultConv1D(filters=32, kernel_size=3),\n",
        "    keras.layers.MaxPooling2D(pool_size=2),\n",
        "    keras.layers.Flatten(),\n",
        "    keras.layers.Dense(units=64, activation='relu'),\n",
        "    keras.layers.Dropout(0.5),\n",
        "    keras.layers.Dense(units=64, activation='relu'),\n",
        "    keras.layers.Dropout(0.5),\n",
        "    keras.layers.Dense(units=3, activation='softmax'),\n",
        "])"
      ],
      "execution_count": 14,
      "outputs": []
    },
    {
      "cell_type": "markdown",
      "metadata": {
        "id": "ILuYfwWW26qZ",
        "colab_type": "text"
      },
      "source": [
        "#  Training step\n",
        "\n",
        "*    Takes about 3 hours for 1 epoch on Colabs Pro\n"
      ]
    },
    {
      "cell_type": "code",
      "metadata": {
        "id": "y_FgKzGxN19a",
        "colab_type": "code",
        "colab": {
          "base_uri": "https://localhost:8080/",
          "height": 221
        },
        "outputId": "7068a254-a21a-4b60-f917-a571297602ed"
      },
      "source": [
        "# Parameters\n",
        "params = {'dim': (300,16),\n",
        "          'batch_size': 128,\n",
        "          'n_classes': 3,\n",
        "          'n_channels': 2,\n",
        "          'shuffle': True}\n",
        "\n",
        "training_generator = DataGenerator(tuple_to_key, index_list, **params)\n",
        "validation_generator = DataGenerator(val_tuple_to_key, val_index_list, **params)\n",
        "\n",
        "model.compile(loss=\"categorical_crossentropy\", optimizer=\"nadam\", metrics=[\"accuracy\"])\n",
        "\n",
        "history = model.fit_generator(generator=training_generator,\n",
        "                              use_multiprocessing=True,\n",
        "                              epochs = 2,\n",
        "                              workers=6)\n",
        "\n",
        "model.save_weights('ZZR2019simplecnnweights')"
      ],
      "execution_count": null,
      "outputs": [
        {
          "output_type": "stream",
          "text": [
            "New Shuffle! Index beginning [ 729886 2409842 1895984]\n",
            "New Shuffle! Index beginning [169073  35465 144431]\n",
            "WARNING:tensorflow:From <ipython-input-15-df9a2438e383>:16: Model.fit_generator (from tensorflow.python.keras.engine.training) is deprecated and will be removed in a future version.\n",
            "Instructions for updating:\n",
            "Please use Model.fit, which supports generators.\n",
            "Epoch 1/2\n",
            "WARNING:tensorflow:multiprocessing can interact badly with TensorFlow, causing nondeterministic deadlocks. For high performance data pipelines tf.data is recommended.\n",
            "19755/19755 [==============================] - 11513s 583ms/step - loss: 1.0869 - accuracy: 0.4068\n",
            "New Shuffle! Index beginning [1226096  823105 1723400]\n",
            "Epoch 2/2\n",
            "WARNING:tensorflow:multiprocessing can interact badly with TensorFlow, causing nondeterministic deadlocks. For high performance data pipelines tf.data is recommended.\n",
            " 9443/19755 [=============>................] - ETA: 1:37:39 - loss: 1.0870 - accuracy: 0.4063"
          ],
          "name": "stdout"
        }
      ]
    },
    {
      "cell_type": "code",
      "metadata": {
        "id": "I6zr5goInsPO",
        "colab_type": "code",
        "colab": {
          "base_uri": "https://localhost:8080/",
          "height": 51
        },
        "outputId": "614887ce-acad-4904-8c5e-6d4c17e21575"
      },
      "source": [
        "model.evaluate_generator(generator=validation_generator, steps = 1000)"
      ],
      "execution_count": null,
      "outputs": [
        {
          "output_type": "stream",
          "text": [
            "New Shuffle! Index beginning [135793  56909  53556]\n"
          ],
          "name": "stdout"
        },
        {
          "output_type": "execute_result",
          "data": {
            "text/plain": [
              "[1.099153995513916, 0.36931249499320984]"
            ]
          },
          "metadata": {
            "tags": []
          },
          "execution_count": 19
        }
      ]
    },
    {
      "cell_type": "markdown",
      "metadata": {
        "id": "9k-4tvjZyVXO",
        "colab_type": "text"
      },
      "source": [
        ""
      ]
    },
    {
      "cell_type": "code",
      "metadata": {
        "id": "zZPt3BTtnZNK",
        "colab_type": "code",
        "colab": {}
      },
      "source": [
        "loss = history.history['loss']\n",
        "val_loss = history.history['val_loss']"
      ],
      "execution_count": null,
      "outputs": []
    },
    {
      "cell_type": "code",
      "metadata": {
        "id": "MAZyj5bf5pEE",
        "colab_type": "code",
        "colab": {}
      },
      "source": [
        "epochs = range(1, len(loss) + 1)"
      ],
      "execution_count": null,
      "outputs": []
    },
    {
      "cell_type": "code",
      "metadata": {
        "id": "Ujqc6gKk5wnq",
        "colab_type": "code",
        "colab": {
          "base_uri": "https://localhost:8080/",
          "height": 295
        },
        "outputId": "e96ca6a4-56d7-4175-e783-8871aedfc1a0"
      },
      "source": [
        "plt.plot(epochs, loss, 'bo', label = 'Training Loss')\n",
        "plt.plot(epochs, val_loss, 'b', label = 'Validation Loss')\n",
        "plt.title('Training and validation loss')\n",
        "plt.xlabel('Epochs')\n",
        "plt.ylabel('Loss')\n",
        "plt.legend()\n",
        "plt.show()"
      ],
      "execution_count": null,
      "outputs": [
        {
          "output_type": "display_data",
          "data": {
            "image/png": "[encoded data removed]",
            "text/plain": [
              "<Figure size 432x288 with 1 Axes>"
            ]
          },
          "metadata": {
            "tags": [],
            "needs_background": "light"
          }
        }
      ]
    },
    {
      "cell_type": "code",
      "metadata": {
        "id": "Dlw_7RRT6C6F",
        "colab_type": "code",
        "colab": {}
      },
      "source": [
        "pred = model.predict(new_val_X)"
      ],
      "execution_count": null,
      "outputs": []
    },
    {
      "cell_type": "code",
      "metadata": {
        "id": "fRW7_tsn81cF",
        "colab_type": "code",
        "colab": {}
      },
      "source": [
        "preds_argmax = np.argmax(pred, axis=1)"
      ],
      "execution_count": null,
      "outputs": []
    },
    {
      "cell_type": "code",
      "metadata": {
        "id": "5xNcM90l8-TZ",
        "colab_type": "code",
        "colab": {
          "base_uri": "https://localhost:8080/",
          "height": 34
        },
        "outputId": "acc9ef85-8481-46d3-8bc1-83eb64ed9cb9"
      },
      "source": [
        "preds_argmax.shape"
      ],
      "execution_count": null,
      "outputs": [
        {
          "output_type": "execute_result",
          "data": {
            "text/plain": [
              "(16413,)"
            ]
          },
          "metadata": {
            "tags": []
          },
          "execution_count": 39
        }
      ]
    },
    {
      "cell_type": "code",
      "metadata": {
        "id": "gkQ4OnoT9AJi",
        "colab_type": "code",
        "colab": {}
      },
      "source": [
        "categories, counts = np.unique(preds_argmax, return_counts=True)"
      ],
      "execution_count": null,
      "outputs": []
    },
    {
      "cell_type": "code",
      "metadata": {
        "id": "IxKUpcPe9KA7",
        "colab_type": "code",
        "colab": {
          "base_uri": "https://localhost:8080/",
          "height": 68
        },
        "outputId": "80f20db0-c37c-4f26-a58b-31c253966557"
      },
      "source": [
        "np.asarray((categories, counts)).T"
      ],
      "execution_count": null,
      "outputs": [
        {
          "output_type": "execute_result",
          "data": {
            "text/plain": [
              "array([[   0, 5417],\n",
              "       [   1, 5473],\n",
              "       [   2, 5523]])"
            ]
          },
          "metadata": {
            "tags": []
          },
          "execution_count": 44
        }
      ]
    },
    {
      "cell_type": "code",
      "metadata": {
        "id": "MQCCSC8a-BKS",
        "colab_type": "code",
        "colab": {}
      },
      "source": [
        ""
      ],
      "execution_count": null,
      "outputs": []
    }
  ]
}