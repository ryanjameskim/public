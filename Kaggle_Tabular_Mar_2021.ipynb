{
  "nbformat": 4,
  "nbformat_minor": 0,
  "metadata": {
    "colab": {
      "name": "Kaggle_Tabular_Mar_2021.ipynb",
      "provenance": [],
      "collapsed_sections": [
        "udJsIJdj9aET",
        "clqhujIhPgnq",
        "ZxPRTlgarzim"
      ],
      "machine_shape": "hm",
      "authorship_tag": "ABX9TyML9kPP2P8h0eaam/k/8JkG",
      "include_colab_link": true
    },
    "kernelspec": {
      "name": "python3",
      "display_name": "Python 3"
    },
    "accelerator": "GPU"
  },
  "cells": [
    {
      "cell_type": "markdown",
      "metadata": {
        "id": "view-in-github",
        "colab_type": "text"
      },
      "source": [
        "<a href=\"https://colab.research.google.com/github/ryanjameskim/public/blob/master/Kaggle_Tabular_Mar_2021.ipynb\" target=\"_parent\"><img src=\"https://colab.research.google.com/assets/colab-badge.svg\" alt=\"Open In Colab\"/></a>"
      ]
    },
    {
      "cell_type": "markdown",
      "metadata": {
        "id": "6kbLpS259iX9"
      },
      "source": [
        "# Importing and Data upload"
      ]
    },
    {
      "cell_type": "code",
      "metadata": {
        "colab": {
          "base_uri": "https://localhost:8080/"
        },
        "id": "b52alOehqAnD",
        "outputId": "9cbc14b8-06ad-4695-fa4a-10c63c2af395"
      },
      "source": [
        "# Import OS for navigation and environment set up\n",
        "import os\n",
        "\n",
        "# Import Numpy\n",
        "import numpy as np\n",
        "\n",
        "# Import Pandas\n",
        "import pandas as pd\n",
        "\n",
        "# Needed for cleaner code\n",
        "from functools import partial\n",
        "\n",
        "# Import graphing libraries\n",
        "import matplotlib.pyplot as plt\n",
        "import seaborn as sns\n",
        "import plotly\n",
        "import plotly.graph_objects as go\n",
        "\n",
        "# Import encoding libraries\n",
        "from sklearn.preprocessing import LabelEncoder\n",
        "from copy import deepcopy\n",
        "!pip install category_encoders\n",
        "from category_encoders import CatBoostEncoder, LeaveOneOutEncoder\n",
        "\n",
        "# Import baseline models and other tools\n",
        "from sklearn.ensemble import RandomForestRegressor\n",
        "from xgboost import XGBRegressor\n",
        "from xgboost import XGBClassifier\n",
        "from lightgbm import LGBMRegressor\n",
        "from lightgbm import LGBMClassifier\n",
        "!pip install catboost\n",
        "from catboost import CatBoostClassifier\n",
        "from sklearn.linear_model import RidgeClassifier\n",
        "import lightgbm as lgb\n",
        "from sklearn.model_selection import train_test_split\n",
        "\n",
        "# Import for Ensemble Second Level Classification\n",
        "from scipy.special import expit\n",
        "from sklearn.calibration import CalibratedClassifierCV\n",
        "\n",
        "# Import cross validation tools\n",
        "from sklearn.model_selection import StratifiedKFold\n",
        "from sklearn.model_selection import GridSearchCV\n",
        "from sklearn.model_selection import KFold\n",
        "from sklearn.model_selection import cross_val_score\n",
        "\n",
        "# Import measurement tools\n",
        "from sklearn.metrics import roc_auc_score\n",
        "from sklearn.metrics import f1_score,confusion_matrix\n",
        "from sklearn.metrics import accuracy_score, mean_squared_error\n",
        "\n",
        "# Import Optuna for tuning\n",
        "!pip install optuna\n",
        "import optuna\n",
        "\n",
        "#mount google drive\n",
        "from google.colab import drive\n",
        "drive.mount('/gdrive')"
      ],
      "execution_count": null,
      "outputs": [
        {
          "output_type": "stream",
          "text": [
            "Requirement already satisfied: category_encoders in /usr/local/lib/python3.7/dist-packages (2.2.2)\n",
            "Requirement already satisfied: numpy>=1.14.0 in /usr/local/lib/python3.7/dist-packages (from category_encoders) (1.19.5)\n",
            "Requirement already satisfied: statsmodels>=0.9.0 in /usr/local/lib/python3.7/dist-packages (from category_encoders) (0.10.2)\n",
            "Requirement already satisfied: pandas>=0.21.1 in /usr/local/lib/python3.7/dist-packages (from category_encoders) (1.1.5)\n",
            "Requirement already satisfied: scikit-learn>=0.20.0 in /usr/local/lib/python3.7/dist-packages (from category_encoders) (0.22.2.post1)\n",
            "Requirement already satisfied: patsy>=0.5.1 in /usr/local/lib/python3.7/dist-packages (from category_encoders) (0.5.1)\n",
            "Requirement already satisfied: scipy>=1.0.0 in /usr/local/lib/python3.7/dist-packages (from category_encoders) (1.4.1)\n",
            "Requirement already satisfied: pytz>=2017.2 in /usr/local/lib/python3.7/dist-packages (from pandas>=0.21.1->category_encoders) (2018.9)\n",
            "Requirement already satisfied: python-dateutil>=2.7.3 in /usr/local/lib/python3.7/dist-packages (from pandas>=0.21.1->category_encoders) (2.8.1)\n",
            "Requirement already satisfied: joblib>=0.11 in /usr/local/lib/python3.7/dist-packages (from scikit-learn>=0.20.0->category_encoders) (1.0.1)\n",
            "Requirement already satisfied: six in /usr/local/lib/python3.7/dist-packages (from patsy>=0.5.1->category_encoders) (1.15.0)\n",
            "Requirement already satisfied: catboost in /usr/local/lib/python3.7/dist-packages (0.24.4)\n",
            "Requirement already satisfied: pandas>=0.24.0 in /usr/local/lib/python3.7/dist-packages (from catboost) (1.1.5)\n",
            "Requirement already satisfied: plotly in /usr/local/lib/python3.7/dist-packages (from catboost) (4.4.1)\n",
            "Requirement already satisfied: six in /usr/local/lib/python3.7/dist-packages (from catboost) (1.15.0)\n",
            "Requirement already satisfied: graphviz in /usr/local/lib/python3.7/dist-packages (from catboost) (0.10.1)\n",
            "Requirement already satisfied: scipy in /usr/local/lib/python3.7/dist-packages (from catboost) (1.4.1)\n",
            "Requirement already satisfied: numpy>=1.16.0 in /usr/local/lib/python3.7/dist-packages (from catboost) (1.19.5)\n",
            "Requirement already satisfied: matplotlib in /usr/local/lib/python3.7/dist-packages (from catboost) (3.2.2)\n",
            "Requirement already satisfied: python-dateutil>=2.7.3 in /usr/local/lib/python3.7/dist-packages (from pandas>=0.24.0->catboost) (2.8.1)\n",
            "Requirement already satisfied: pytz>=2017.2 in /usr/local/lib/python3.7/dist-packages (from pandas>=0.24.0->catboost) (2018.9)\n",
            "Requirement already satisfied: retrying>=1.3.3 in /usr/local/lib/python3.7/dist-packages (from plotly->catboost) (1.3.3)\n",
            "Requirement already satisfied: cycler>=0.10 in /usr/local/lib/python3.7/dist-packages (from matplotlib->catboost) (0.10.0)\n",
            "Requirement already satisfied: kiwisolver>=1.0.1 in /usr/local/lib/python3.7/dist-packages (from matplotlib->catboost) (1.3.1)\n",
            "Requirement already satisfied: pyparsing!=2.0.4,!=2.1.2,!=2.1.6,>=2.0.1 in /usr/local/lib/python3.7/dist-packages (from matplotlib->catboost) (2.4.7)\n",
            "Collecting optuna\n",
            "\u001b[?25l  Downloading https://files.pythonhosted.org/packages/50/67/ed0af7c66bcfb9a9a56fbafcca7d848452d78433208b59b003741879cc69/optuna-2.6.0-py3-none-any.whl (293kB)\n",
            "\u001b[K     |████████████████████████████████| 296kB 7.3MB/s \n",
            "\u001b[?25hRequirement already satisfied: numpy<1.20.0 in /usr/local/lib/python3.7/dist-packages (from optuna) (1.19.5)\n",
            "Collecting cmaes>=0.8.2\n",
            "  Downloading https://files.pythonhosted.org/packages/01/1f/43b01223a0366171f474320c6e966c39a11587287f098a5f09809b45e05f/cmaes-0.8.2-py3-none-any.whl\n",
            "Requirement already satisfied: packaging>=20.0 in /usr/local/lib/python3.7/dist-packages (from optuna) (20.9)\n",
            "Requirement already satisfied: sqlalchemy>=1.1.0 in /usr/local/lib/python3.7/dist-packages (from optuna) (1.3.23)\n",
            "Requirement already satisfied: tqdm in /usr/local/lib/python3.7/dist-packages (from optuna) (4.41.1)\n",
            "Collecting alembic\n",
            "\u001b[?25l  Downloading https://files.pythonhosted.org/packages/f7/29/ed5c134aba874053859ba3e8d4705b4a5c1b66156deabc26cbe643e83f2e/alembic-1.5.7-py2.py3-none-any.whl (159kB)\n",
            "\u001b[K     |████████████████████████████████| 163kB 12.8MB/s \n",
            "\u001b[?25hCollecting cliff\n",
            "\u001b[?25l  Downloading https://files.pythonhosted.org/packages/a2/d6/7d9acb68a77acd140be7fececb7f2701b2a29d2da9c54184cb8f93509590/cliff-3.7.0-py3-none-any.whl (80kB)\n",
            "\u001b[K     |████████████████████████████████| 81kB 7.8MB/s \n",
            "\u001b[?25hCollecting colorlog\n",
            "  Downloading https://files.pythonhosted.org/packages/51/62/61449c6bb74c2a3953c415b2cdb488e4f0518ac67b35e2b03a6d543035ca/colorlog-4.8.0-py2.py3-none-any.whl\n",
            "Requirement already satisfied: scipy!=1.4.0 in /usr/local/lib/python3.7/dist-packages (from optuna) (1.4.1)\n",
            "Requirement already satisfied: pyparsing>=2.0.2 in /usr/local/lib/python3.7/dist-packages (from packaging>=20.0->optuna) (2.4.7)\n",
            "Requirement already satisfied: python-dateutil in /usr/local/lib/python3.7/dist-packages (from alembic->optuna) (2.8.1)\n",
            "Collecting python-editor>=0.3\n",
            "  Downloading https://files.pythonhosted.org/packages/c6/d3/201fc3abe391bbae6606e6f1d598c15d367033332bd54352b12f35513717/python_editor-1.0.4-py3-none-any.whl\n",
            "Collecting Mako\n",
            "\u001b[?25l  Downloading https://files.pythonhosted.org/packages/f3/54/dbc07fbb20865d3b78fdb7cf7fa713e2cba4f87f71100074ef2dc9f9d1f7/Mako-1.1.4-py2.py3-none-any.whl (75kB)\n",
            "\u001b[K     |████████████████████████████████| 81kB 8.0MB/s \n",
            "\u001b[?25hCollecting pbr!=2.1.0,>=2.0.0\n",
            "\u001b[?25l  Downloading https://files.pythonhosted.org/packages/fb/48/69046506f6ac61c1eaa9a0d42d22d54673b69e176d30ca98e3f61513e980/pbr-5.5.1-py2.py3-none-any.whl (106kB)\n",
            "\u001b[K     |████████████████████████████████| 112kB 9.0MB/s \n",
            "\u001b[?25hCollecting stevedore>=2.0.1\n",
            "\u001b[?25l  Downloading https://files.pythonhosted.org/packages/d4/49/b602307aeac3df3384ff1fcd05da9c0376c622a6c48bb5325f28ab165b57/stevedore-3.3.0-py3-none-any.whl (49kB)\n",
            "\u001b[K     |████████████████████████████████| 51kB 5.8MB/s \n",
            "\u001b[?25hRequirement already satisfied: PyYAML>=3.12 in /usr/local/lib/python3.7/dist-packages (from cliff->optuna) (3.13)\n",
            "Requirement already satisfied: PrettyTable>=0.7.2 in /usr/local/lib/python3.7/dist-packages (from cliff->optuna) (2.1.0)\n",
            "Collecting cmd2>=1.0.0\n",
            "\u001b[?25l  Downloading https://files.pythonhosted.org/packages/15/8b/15061b32332bb35ea2a2f6263d0f616779d576e82739ec8e7fcf3c94abf5/cmd2-1.5.0-py3-none-any.whl (133kB)\n",
            "\u001b[K     |████████████████████████████████| 143kB 12.8MB/s \n",
            "\u001b[?25hRequirement already satisfied: six>=1.5 in /usr/local/lib/python3.7/dist-packages (from python-dateutil->alembic->optuna) (1.15.0)\n",
            "Requirement already satisfied: MarkupSafe>=0.9.2 in /usr/local/lib/python3.7/dist-packages (from Mako->alembic->optuna) (1.1.1)\n",
            "Requirement already satisfied: importlib-metadata>=1.7.0; python_version < \"3.8\" in /usr/local/lib/python3.7/dist-packages (from stevedore>=2.0.1->cliff->optuna) (3.7.2)\n",
            "Requirement already satisfied: wcwidth in /usr/local/lib/python3.7/dist-packages (from PrettyTable>=0.7.2->cliff->optuna) (0.2.5)\n",
            "Collecting colorama>=0.3.7\n",
            "  Downloading https://files.pythonhosted.org/packages/44/98/5b86278fbbf250d239ae0ecb724f8572af1c91f4a11edf4d36a206189440/colorama-0.4.4-py2.py3-none-any.whl\n",
            "Requirement already satisfied: attrs>=16.3.0 in /usr/local/lib/python3.7/dist-packages (from cmd2>=1.0.0->cliff->optuna) (20.3.0)\n",
            "Collecting pyperclip>=1.6\n",
            "  Downloading https://files.pythonhosted.org/packages/a7/2c/4c64579f847bd5d539803c8b909e54ba087a79d01bb3aba433a95879a6c5/pyperclip-1.8.2.tar.gz\n",
            "Requirement already satisfied: typing-extensions>=3.6.4; python_version < \"3.8\" in /usr/local/lib/python3.7/dist-packages (from importlib-metadata>=1.7.0; python_version < \"3.8\"->stevedore>=2.0.1->cliff->optuna) (3.7.4.3)\n",
            "Requirement already satisfied: zipp>=0.5 in /usr/local/lib/python3.7/dist-packages (from importlib-metadata>=1.7.0; python_version < \"3.8\"->stevedore>=2.0.1->cliff->optuna) (3.4.1)\n",
            "Building wheels for collected packages: pyperclip\n",
            "  Building wheel for pyperclip (setup.py) ... \u001b[?25l\u001b[?25hdone\n",
            "  Created wheel for pyperclip: filename=pyperclip-1.8.2-cp37-none-any.whl size=11107 sha256=9e50df6e45efa660c86562056da6dfd12dca5501da1bcd765dc37724584929cb\n",
            "  Stored in directory: /root/.cache/pip/wheels/25/af/b8/3407109267803f4015e1ee2ff23be0c8c19ce4008665931ee1\n",
            "Successfully built pyperclip\n",
            "Installing collected packages: cmaes, python-editor, Mako, alembic, pbr, stevedore, colorama, pyperclip, cmd2, cliff, colorlog, optuna\n",
            "Successfully installed Mako-1.1.4 alembic-1.5.7 cliff-3.7.0 cmaes-0.8.2 cmd2-1.5.0 colorama-0.4.4 colorlog-4.8.0 optuna-2.6.0 pbr-5.5.1 pyperclip-1.8.2 python-editor-1.0.4 stevedore-3.3.0\n",
            "Drive already mounted at /gdrive; to attempt to forcibly remount, call drive.mount(\"/gdrive\", force_remount=True).\n"
          ],
          "name": "stdout"
        }
      ]
    },
    {
      "cell_type": "code",
      "metadata": {
        "colab": {
          "base_uri": "https://localhost:8080/"
        },
        "id": "kaCg0q4ytVHl",
        "outputId": "05bb9df7-be79-44bd-9bcc-49eb4bb1dce2"
      },
      "source": [
        "# Enable the Kaggle environment, use the path to the directory your Kaggle API JSON is stored in\n",
        "os.environ['KAGGLE_CONFIG_DIR'] = '/gdrive/MyDrive/Kaggle'\n",
        "\n",
        "# install Kaggle library for kaggle terminal commands\n",
        "!pip install kaggle\n"
      ],
      "execution_count": null,
      "outputs": [
        {
          "output_type": "stream",
          "text": [
            "Requirement already satisfied: kaggle in /usr/local/lib/python3.7/dist-packages (1.5.10)\n",
            "Requirement already satisfied: requests in /usr/local/lib/python3.7/dist-packages (from kaggle) (2.23.0)\n",
            "Requirement already satisfied: certifi in /usr/local/lib/python3.7/dist-packages (from kaggle) (2020.12.5)\n",
            "Requirement already satisfied: python-dateutil in /usr/local/lib/python3.7/dist-packages (from kaggle) (2.8.1)\n",
            "Requirement already satisfied: urllib3 in /usr/local/lib/python3.7/dist-packages (from kaggle) (1.24.3)\n",
            "Requirement already satisfied: tqdm in /usr/local/lib/python3.7/dist-packages (from kaggle) (4.41.1)\n",
            "Requirement already satisfied: python-slugify in /usr/local/lib/python3.7/dist-packages (from kaggle) (4.0.1)\n",
            "Requirement already satisfied: six>=1.10 in /usr/local/lib/python3.7/dist-packages (from kaggle) (1.15.0)\n",
            "Requirement already satisfied: idna<3,>=2.5 in /usr/local/lib/python3.7/dist-packages (from requests->kaggle) (2.10)\n",
            "Requirement already satisfied: chardet<4,>=3.0.2 in /usr/local/lib/python3.7/dist-packages (from requests->kaggle) (3.0.4)\n",
            "Requirement already satisfied: text-unidecode>=1.3 in /usr/local/lib/python3.7/dist-packages (from python-slugify->kaggle) (1.3)\n"
          ],
          "name": "stdout"
        }
      ]
    },
    {
      "cell_type": "code",
      "metadata": {
        "colab": {
          "base_uri": "https://localhost:8080/"
        },
        "id": "tl8QxfAFtoRb",
        "outputId": "57c1bcc0-224f-44ae-ffab-067e68809203"
      },
      "source": [
        "#zip save directory\n",
        "zip_dir = '/gdrive/MyDrive/Kaggle/Tabular Playground Series - Mar 2021'\n",
        "\n",
        "#change directory to save zips\n",
        "os.chdir(zip_dir)\n",
        "\n",
        "!kaggle competitions download -c tabular-playground-series-mar-2021"
      ],
      "execution_count": null,
      "outputs": [
        {
          "output_type": "stream",
          "text": [
            "Warning: Looks like you're using an outdated API Version, please consider updating (server 1.5.12 / client 1.5.4)\n",
            "train.csv.zip: Skipping, found more recently modified local copy (use --force to force download)\n",
            "test.csv.zip: Skipping, found more recently modified local copy (use --force to force download)\n",
            "sample_submission.csv.zip: Skipping, found more recently modified local copy (use --force to force download)\n"
          ],
          "name": "stdout"
        }
      ]
    },
    {
      "cell_type": "code",
      "metadata": {
        "colab": {
          "base_uri": "https://localhost:8080/"
        },
        "id": "aWarUZ9MuMyn",
        "outputId": "882fb85d-9d2a-4b62-d032-0a768917ac40"
      },
      "source": [
        "# Complete path to storage location of the .zip file of data\n",
        "zip_files = []\n",
        "\n",
        "#collect all zip files\n",
        "for root, dirs, files in os.walk(zip_dir):\n",
        "  for name in files:\n",
        "    if 'zip' in name:\n",
        "      zip_files.append(os.path.join(root, name))\n",
        "\n",
        "# Change to colabs VM directory\n",
        "os.chdir('/content')\n",
        "\n",
        "#unzip\n",
        "for zip_file in zip_files:\n",
        "  !cp '{zip_file}' .\n",
        "  root, name = os.path.split(zip_file)\n",
        "  !unzip -q '{name}'\n",
        "\n",
        "#show directory\n",
        "os.listdir()"
      ],
      "execution_count": null,
      "outputs": [
        {
          "output_type": "execute_result",
          "data": {
            "text/plain": [
              "['.config',\n",
              " 'test.csv.zip',\n",
              " 'sample_submission.csv.zip',\n",
              " 'test.csv',\n",
              " 'sample_submission.csv',\n",
              " 'train.csv',\n",
              " 'train.csv.zip',\n",
              " 'sample_data']"
            ]
          },
          "metadata": {
            "tags": []
          },
          "execution_count": 4
        }
      ]
    },
    {
      "cell_type": "code",
      "metadata": {
        "colab": {
          "base_uri": "https://localhost:8080/"
        },
        "id": "zYmB7NvHvcfr",
        "outputId": "00b0c38b-1172-4833-c2c8-445a70a4680a"
      },
      "source": [
        "sample_sub = pd.read_csv('sample_submission.csv')\n",
        "print(sample_sub.head())\n",
        "print(len(sample_sub))\n"
      ],
      "execution_count": null,
      "outputs": [
        {
          "output_type": "stream",
          "text": [
            "   id  target\n",
            "0   5     0.5\n",
            "1   6     0.5\n",
            "2   8     0.5\n",
            "3   9     0.5\n",
            "4  11     0.5\n",
            "200000\n"
          ],
          "name": "stdout"
        }
      ]
    },
    {
      "cell_type": "code",
      "metadata": {
        "colab": {
          "base_uri": "https://localhost:8080/"
        },
        "id": "tP-ocCVcvsrs",
        "outputId": "a5da8d08-b927-4139-925c-35b418936e1c"
      },
      "source": [
        "train = pd.read_csv('train.csv')\n",
        "\n",
        "print(train.head())\n",
        "print(len(train))"
      ],
      "execution_count": null,
      "outputs": [
        {
          "output_type": "stream",
          "text": [
            "   id cat0 cat1 cat2 cat3  ...     cont7     cont8     cont9    cont10 target\n",
            "0   0    A    I    A    B  ...  0.791921  0.815254  0.965006  0.665915      0\n",
            "1   1    A    I    A    A  ...  0.408701  0.399353  0.927406  0.493729      0\n",
            "2   2    A    K    A    A  ...  0.388835  0.412303  0.292696  0.549452      0\n",
            "3   3    A    K    A    C  ...  0.897617  0.633669  0.760318  0.934242      0\n",
            "4   4    A    I    G    B  ...  0.279167  0.351103  0.357084  0.328960      1\n",
            "\n",
            "[5 rows x 32 columns]\n",
            "300000\n"
          ],
          "name": "stdout"
        }
      ]
    },
    {
      "cell_type": "code",
      "metadata": {
        "id": "gvGor9rF5Q5L"
      },
      "source": [
        "test = pd.read_csv('test.csv')"
      ],
      "execution_count": null,
      "outputs": []
    },
    {
      "cell_type": "code",
      "metadata": {
        "colab": {
          "base_uri": "https://localhost:8080/"
        },
        "id": "BBt_CGe_y45f",
        "outputId": "e9800a4b-3050-4650-e115-62bd22402d76"
      },
      "source": [
        "train.columns"
      ],
      "execution_count": null,
      "outputs": [
        {
          "output_type": "execute_result",
          "data": {
            "text/plain": [
              "Index(['id', 'cat0', 'cat1', 'cat2', 'cat3', 'cat4', 'cat5', 'cat6', 'cat7',\n",
              "       'cat8', 'cat9', 'cat10', 'cat11', 'cat12', 'cat13', 'cat14', 'cat15',\n",
              "       'cat16', 'cat17', 'cat18', 'cont0', 'cont1', 'cont2', 'cont3', 'cont4',\n",
              "       'cont5', 'cont6', 'cont7', 'cont8', 'cont9', 'cont10', 'target'],\n",
              "      dtype='object')"
            ]
          },
          "metadata": {
            "tags": []
          },
          "execution_count": 8
        }
      ]
    },
    {
      "cell_type": "code",
      "metadata": {
        "colab": {
          "base_uri": "https://localhost:8080/"
        },
        "id": "KF1HJ6vly_QQ",
        "outputId": "3b8a1b50-46ac-41c2-94c2-63ea89fbce39"
      },
      "source": [
        "train.target.value_counts()\n",
        "\n",
        "train.target.value_counts().div(len(train))"
      ],
      "execution_count": null,
      "outputs": [
        {
          "output_type": "execute_result",
          "data": {
            "text/plain": [
              "0    0.73513\n",
              "1    0.26487\n",
              "Name: target, dtype: float64"
            ]
          },
          "metadata": {
            "tags": []
          },
          "execution_count": 9
        }
      ]
    },
    {
      "cell_type": "code",
      "metadata": {
        "id": "MXAL6j1bzF6Y"
      },
      "source": [
        "cat_columns = [col_name for col_name in train.columns if 'cat' in col_name]\n",
        "cont_columns = [col_name for col_name in train.columns if 'cont' in col_name]"
      ],
      "execution_count": null,
      "outputs": []
    },
    {
      "cell_type": "code",
      "metadata": {
        "colab": {
          "base_uri": "https://localhost:8080/"
        },
        "id": "T8U2REbE1v9e",
        "outputId": "44e24ad5-dceb-4de0-f951-3c8bac76e323"
      },
      "source": [
        "train.info()"
      ],
      "execution_count": null,
      "outputs": [
        {
          "output_type": "stream",
          "text": [
            "<class 'pandas.core.frame.DataFrame'>\n",
            "RangeIndex: 300000 entries, 0 to 299999\n",
            "Data columns (total 32 columns):\n",
            " #   Column  Non-Null Count   Dtype  \n",
            "---  ------  --------------   -----  \n",
            " 0   id      300000 non-null  int64  \n",
            " 1   cat0    300000 non-null  object \n",
            " 2   cat1    300000 non-null  object \n",
            " 3   cat2    300000 non-null  object \n",
            " 4   cat3    300000 non-null  object \n",
            " 5   cat4    300000 non-null  object \n",
            " 6   cat5    300000 non-null  object \n",
            " 7   cat6    300000 non-null  object \n",
            " 8   cat7    300000 non-null  object \n",
            " 9   cat8    300000 non-null  object \n",
            " 10  cat9    300000 non-null  object \n",
            " 11  cat10   300000 non-null  object \n",
            " 12  cat11   300000 non-null  object \n",
            " 13  cat12   300000 non-null  object \n",
            " 14  cat13   300000 non-null  object \n",
            " 15  cat14   300000 non-null  object \n",
            " 16  cat15   300000 non-null  object \n",
            " 17  cat16   300000 non-null  object \n",
            " 18  cat17   300000 non-null  object \n",
            " 19  cat18   300000 non-null  object \n",
            " 20  cont0   300000 non-null  float64\n",
            " 21  cont1   300000 non-null  float64\n",
            " 22  cont2   300000 non-null  float64\n",
            " 23  cont3   300000 non-null  float64\n",
            " 24  cont4   300000 non-null  float64\n",
            " 25  cont5   300000 non-null  float64\n",
            " 26  cont6   300000 non-null  float64\n",
            " 27  cont7   300000 non-null  float64\n",
            " 28  cont8   300000 non-null  float64\n",
            " 29  cont9   300000 non-null  float64\n",
            " 30  cont10  300000 non-null  float64\n",
            " 31  target  300000 non-null  int64  \n",
            "dtypes: float64(11), int64(2), object(19)\n",
            "memory usage: 73.2+ MB\n"
          ],
          "name": "stdout"
        }
      ]
    },
    {
      "cell_type": "markdown",
      "metadata": {
        "id": "sWOjZRhV9uhZ"
      },
      "source": [
        "#Data exploration"
      ]
    },
    {
      "cell_type": "markdown",
      "metadata": {
        "id": "udJsIJdj9aET"
      },
      "source": [
        "## Continuous Features"
      ]
    },
    {
      "cell_type": "code",
      "metadata": {
        "colab": {
          "base_uri": "https://localhost:8080/",
          "height": 867
        },
        "id": "VGJVuQVL5sAT",
        "outputId": "0afc7598-b948-42a9-fc94-ea4ec6861322"
      },
      "source": [
        "#adapted from @AndresHG \n",
        "\n",
        "graph_rows, graph_cols = 4, 3\n",
        "fig, axes = plt.subplots(nrows=graph_rows, ncols=graph_cols, figsize=(12,12))\n",
        "fig.suptitle('Distribution of Features', fontsize=16)\n",
        "\n",
        "for index, column in enumerate(train[cont_columns].columns):\n",
        "  i, j = (index // graph_cols, index % graph_cols)\n",
        "  sns.kdeplot(train.loc[train.target == 0, column], color='m', shade=True, ax=axes[i,j])\n",
        "  sns.kdeplot(train.loc[train.target == 1, column], color='b', shade=True, ax=axes[i,j])\n",
        "\n",
        "fig.delaxes(axes[3,2])\n",
        "plt.tight_layout(pad=1.10, rect=(0,0,1,.95))\n",
        "plt.show()"
      ],
      "execution_count": null,
      "outputs": [
        {
          "output_type": "display_data",
          "data": {
            "image/png": "[encoded data removed]",
            "text/plain": [
              "<Figure size 864x864 with 11 Axes>"
            ]
          },
          "metadata": {
            "tags": [],
            "needs_background": "light"
          }
        }
      ]
    },
    {
      "cell_type": "code",
      "metadata": {
        "colab": {
          "base_uri": "https://localhost:8080/",
          "height": 726
        },
        "id": "c4oulj6h6kwU",
        "outputId": "907a30b3-342d-4866-ceb7-9b569a38780a"
      },
      "source": [
        "#adapted from @AndresHG \n",
        "\n",
        "corr = train[cont_columns].corr().abs()\n",
        "mask = np.triu(np.ones_like(corr, dtype=np.bool))\n",
        "\n",
        "fig, ax = plt.subplots(figsize=(10, 10))\n",
        "\n",
        "fig.suptitle('Feature Correlation Heatmap', fontsize=16)\n",
        "\n",
        "# plot heatmap\n",
        "sns.heatmap(corr, mask=mask, annot=True, fmt=\".2f\", cmap='coolwarm',\n",
        "            cbar_kws={\"shrink\": .8}, vmin=0, vmax=1)\n",
        "# yticks\n",
        "plt.yticks(rotation=0)\n",
        "\n",
        "plt.tight_layout(pad=1.10, rect=(0,0,1,.99))\n",
        "\n",
        "plt.show()\n",
        "\n"
      ],
      "execution_count": null,
      "outputs": [
        {
          "output_type": "display_data",
          "data": {
            "image/png": "[encoded data removed]",
            "text/plain": [
              "<Figure size 720x720 with 2 Axes>"
            ]
          },
          "metadata": {
            "tags": [],
            "needs_background": "light"
          }
        }
      ]
    },
    {
      "cell_type": "code",
      "metadata": {
        "colab": {
          "base_uri": "https://localhost:8080/",
          "height": 528
        },
        "id": "VFBZVJcU8gjt",
        "outputId": "1baa8910-3434-42d5-94ab-681d483285c4"
      },
      "source": [
        "#adapted from @dwin183287 via @AndresHG \n",
        "\n",
        "background_color = \"#f6f5f5\"\n",
        "\n",
        "fig = plt.figure(figsize=(12, 8), facecolor=background_color)\n",
        "gs = fig.add_gridspec(1, 1)\n",
        "ax0 = fig.add_subplot(gs[0, 0])\n",
        "\n",
        "ax0.set_facecolor(background_color)\n",
        "ax0.text(-1.1, 0.26, 'Correlation of Continuous Features with Target',\n",
        "         fontsize=20, fontweight='bold', fontfamily='serif')\n",
        "ax0.text(-1.1, 0.24, 'No large feature - target correlation',\n",
        "         fontsize=13, fontweight='light', fontfamily='serif')\n",
        "\n",
        "chart_df = pd.DataFrame(train[cont_columns].corrwith(train['target']))\n",
        "chart_df.columns = ['corr']\n",
        "sns.barplot(x=chart_df.index, y=chart_df['corr'], ax=ax0, color='blue',\n",
        "            zorder=3, edgecolor='black', linewidth=1.5)\n",
        "ax0.grid(which='major', axis='y', zorder=0, color='gray', linestyle=':', dashes=(5,10))\n",
        "ax0.set_ylabel('')\n",
        "\n",
        "for s in [\"top\",\"right\", 'left']:\n",
        "    ax0.spines[s].set_visible(False)\n",
        "\n",
        "plt.show()"
      ],
      "execution_count": null,
      "outputs": [
        {
          "output_type": "display_data",
          "data": {
            "image/png": "[encoded data removed]",
            "text/plain": [
              "<Figure size 864x576 with 1 Axes>"
            ]
          },
          "metadata": {
            "tags": []
          }
        }
      ]
    },
    {
      "cell_type": "code",
      "metadata": {
        "colab": {
          "base_uri": "https://localhost:8080/",
          "height": 390
        },
        "id": "GlsXn3Ax-sxQ",
        "outputId": "5f8e5101-6a1d-451f-96d0-407195b302aa"
      },
      "source": [
        "chart_df"
      ],
      "execution_count": null,
      "outputs": [
        {
          "output_type": "execute_result",
          "data": {
            "text/html": [
              "<div>\n",
              "<style scoped>\n",
              "    .dataframe tbody tr th:only-of-type {\n",
              "        vertical-align: middle;\n",
              "    }\n",
              "\n",
              "    .dataframe tbody tr th {\n",
              "        vertical-align: top;\n",
              "    }\n",
              "\n",
              "    .dataframe thead th {\n",
              "        text-align: right;\n",
              "    }\n",
              "</style>\n",
              "<table border=\"1\" class=\"dataframe\">\n",
              "  <thead>\n",
              "    <tr style=\"text-align: right;\">\n",
              "      <th></th>\n",
              "      <th>corr</th>\n",
              "    </tr>\n",
              "  </thead>\n",
              "  <tbody>\n",
              "    <tr>\n",
              "      <th>cont0</th>\n",
              "      <td>-0.015172</td>\n",
              "    </tr>\n",
              "    <tr>\n",
              "      <th>cont1</th>\n",
              "      <td>0.164655</td>\n",
              "    </tr>\n",
              "    <tr>\n",
              "      <th>cont2</th>\n",
              "      <td>0.140459</td>\n",
              "    </tr>\n",
              "    <tr>\n",
              "      <th>cont3</th>\n",
              "      <td>-0.148316</td>\n",
              "    </tr>\n",
              "    <tr>\n",
              "      <th>cont4</th>\n",
              "      <td>-0.075585</td>\n",
              "    </tr>\n",
              "    <tr>\n",
              "      <th>cont5</th>\n",
              "      <td>0.215184</td>\n",
              "    </tr>\n",
              "    <tr>\n",
              "      <th>cont6</th>\n",
              "      <td>0.189832</td>\n",
              "    </tr>\n",
              "    <tr>\n",
              "      <th>cont7</th>\n",
              "      <td>-0.040646</td>\n",
              "    </tr>\n",
              "    <tr>\n",
              "      <th>cont8</th>\n",
              "      <td>0.183726</td>\n",
              "    </tr>\n",
              "    <tr>\n",
              "      <th>cont9</th>\n",
              "      <td>0.059242</td>\n",
              "    </tr>\n",
              "    <tr>\n",
              "      <th>cont10</th>\n",
              "      <td>-0.047077</td>\n",
              "    </tr>\n",
              "  </tbody>\n",
              "</table>\n",
              "</div>"
            ],
            "text/plain": [
              "            corr\n",
              "cont0  -0.015172\n",
              "cont1   0.164655\n",
              "cont2   0.140459\n",
              "cont3  -0.148316\n",
              "cont4  -0.075585\n",
              "cont5   0.215184\n",
              "cont6   0.189832\n",
              "cont7  -0.040646\n",
              "cont8   0.183726\n",
              "cont9   0.059242\n",
              "cont10 -0.047077"
            ]
          },
          "metadata": {
            "tags": []
          },
          "execution_count": 16
        }
      ]
    },
    {
      "cell_type": "markdown",
      "metadata": {
        "id": "clqhujIhPgnq"
      },
      "source": [
        "## Categorical Features"
      ]
    },
    {
      "cell_type": "code",
      "metadata": {
        "colab": {
          "base_uri": "https://localhost:8080/"
        },
        "id": "DIMEADkQzb_Z",
        "outputId": "c9383a24-5c01-4cf6-aeb7-ad402a480655"
      },
      "source": [
        "for cat_col in cat_columns:\n",
        "  print(train[cat_col].value_counts())"
      ],
      "execution_count": null,
      "outputs": [
        {
          "output_type": "stream",
          "text": [
            "A    223525\n",
            "B     76475\n",
            "Name: cat0, dtype: int64\n",
            "I    90809\n",
            "F    43818\n",
            "K    41870\n",
            "L    31891\n",
            "H    17257\n",
            "N    13231\n",
            "M    11354\n",
            "G    11248\n",
            "A    10547\n",
            "J    10036\n",
            "O     8740\n",
            "B     6847\n",
            "C     1703\n",
            "D      414\n",
            "E      235\n",
            "Name: cat1, dtype: int64\n",
            "A    168694\n",
            "C     38875\n",
            "D     22720\n",
            "G     18225\n",
            "Q     10901\n",
            "F      9877\n",
            "J      9102\n",
            "M      8068\n",
            "I      5287\n",
            "L      3997\n",
            "O      2749\n",
            "N       340\n",
            "H       219\n",
            "B       218\n",
            "S       197\n",
            "U       166\n",
            "R       129\n",
            "K       126\n",
            "E       110\n",
            "Name: cat2, dtype: int64\n",
            "A    187251\n",
            "B     79951\n",
            "C     15957\n",
            "D      8676\n",
            "E      3318\n",
            "F      2489\n",
            "K       846\n",
            "G       372\n",
            "L       292\n",
            "J       286\n",
            "H       274\n",
            "I       177\n",
            "N       111\n",
            "Name: cat3, dtype: int64\n",
            "E    129385\n",
            "F     76678\n",
            "G     30754\n",
            "D     27919\n",
            "H     23388\n",
            "J      4307\n",
            "I      3241\n",
            "K      1481\n",
            "M       547\n",
            "C       506\n",
            "O       330\n",
            "B       301\n",
            "S       285\n",
            "T       215\n",
            "L       214\n",
            "Q       117\n",
            "P       100\n",
            "A        92\n",
            "N        81\n",
            "R        59\n",
            "Name: cat4, dtype: int64\n",
            "BI    238563\n",
            "AB     41639\n",
            "BU      6740\n",
            "K       2713\n",
            "G        683\n",
            "       ...  \n",
            "ZZ        25\n",
            "B         24\n",
            "BP        19\n",
            "AG        19\n",
            "CB        18\n",
            "Name: cat5, Length: 84, dtype: int64\n",
            "A    187896\n",
            "C     71427\n",
            "E     16581\n",
            "G     11198\n",
            "I      6648\n",
            "M      2182\n",
            "K      1552\n",
            "O       673\n",
            "S       583\n",
            "F       312\n",
            "D       214\n",
            "Y       212\n",
            "B       172\n",
            "U       155\n",
            "Q       124\n",
            "W        71\n",
            "Name: cat6, dtype: int64\n",
            "AH    45818\n",
            "E     39601\n",
            "AS    25326\n",
            "J     16135\n",
            "AN    16097\n",
            "U     15674\n",
            "N     14983\n",
            "AF    11455\n",
            "AK     9697\n",
            "AV     7958\n",
            "S      7921\n",
            "AI     7668\n",
            "A      6432\n",
            "K      6264\n",
            "Y      5896\n",
            "G      5656\n",
            "F      5550\n",
            "AW     5322\n",
            "C      4324\n",
            "AA     3692\n",
            "R      2991\n",
            "AX     2635\n",
            "O      2538\n",
            "AP     2311\n",
            "AD     1826\n",
            "V      1798\n",
            "AY     1749\n",
            "AO     1734\n",
            "AG     1706\n",
            "H      1692\n",
            "AL     1572\n",
            "W      1525\n",
            "B      1408\n",
            "Q      1306\n",
            "AM     1183\n",
            "AR     1121\n",
            "L       941\n",
            "AT      918\n",
            "M       907\n",
            "D       835\n",
            "BA      781\n",
            "AU      671\n",
            "X       662\n",
            "AC      660\n",
            "I       640\n",
            "P       611\n",
            "AB      539\n",
            "AE      458\n",
            "T       379\n",
            "AJ      229\n",
            "AQ      205\n",
            "Name: cat7, dtype: int64\n",
            "BM    42380\n",
            "AE    24442\n",
            "AX    22129\n",
            "Y     20864\n",
            "H     15561\n",
            "      ...  \n",
            "AQ       69\n",
            "T        67\n",
            "B        57\n",
            "AC       57\n",
            "AR       33\n",
            "Name: cat8, Length: 61, dtype: int64\n",
            "A    201945\n",
            "E     33046\n",
            "C     23360\n",
            "F     14371\n",
            "J      8982\n",
            "I      7931\n",
            "N      4785\n",
            "L      2957\n",
            "R       862\n",
            "V       360\n",
            "B       280\n",
            "G       214\n",
            "Q       211\n",
            "D       189\n",
            "W       125\n",
            "O       122\n",
            "U       101\n",
            "X        99\n",
            "S        60\n",
            "Name: cat9, dtype: int64\n",
            "DJ    31584\n",
            "HK    30998\n",
            "DP    23679\n",
            "GS    16619\n",
            "CR    14382\n",
            "      ...  \n",
            "LK        1\n",
            "ML        1\n",
            "GH        1\n",
            "AW        1\n",
            "MW        1\n",
            "Name: cat10, Length: 299, dtype: int64\n",
            "A    258932\n",
            "B     41068\n",
            "Name: cat11, dtype: int64\n",
            "A    257139\n",
            "B     42861\n",
            "Name: cat12, dtype: int64\n",
            "A    292712\n",
            "B      7288\n",
            "Name: cat13, dtype: int64\n",
            "A    160166\n",
            "B    139834\n",
            "Name: cat14, dtype: int64\n",
            "B    203574\n",
            "D     83188\n",
            "A     11072\n",
            "C      2166\n",
            "Name: cat15, dtype: int64\n",
            "D    206906\n",
            "B     84541\n",
            "C      5369\n",
            "A      3184\n",
            "Name: cat16, dtype: int64\n",
            "D    247125\n",
            "B     26136\n",
            "C     25325\n",
            "A      1414\n",
            "Name: cat17, dtype: int64\n",
            "B    255482\n",
            "D     22394\n",
            "C     21414\n",
            "A       710\n",
            "Name: cat18, dtype: int64\n"
          ],
          "name": "stdout"
        }
      ]
    },
    {
      "cell_type": "code",
      "metadata": {
        "colab": {
          "base_uri": "https://localhost:8080/",
          "height": 1000
        },
        "id": "s2kx8UmdPw8Y",
        "outputId": "2ce3cff4-c03a-4e1c-8fbe-aeff72a7bd0b"
      },
      "source": [
        "#adapted from @AndresHG \n",
        "\n",
        "train_0 = train.loc[train['target']==0]\n",
        "train_1 = train.loc[train['target']==1]\n",
        "\n",
        "graph_rows, graph_cols = 10,2\n",
        "fig = plotly.subplots.make_subplots(rows=graph_rows, cols=graph_cols)\n",
        "\n",
        "for index, feature in enumerate(cat_columns):\n",
        "  i,j = ((index // graph_cols)+1, (index % graph_cols)+1)\n",
        "  data = train_0.groupby(feature)[feature].count().sort_values(ascending=False)\n",
        "  data = data if len(data) < 10 else data[:10]\n",
        "  fig.add_trace(  go.Bar(x = data.index,\n",
        "                          y = data.values,\n",
        "                          name='Label: 0',),\n",
        "                row=i, col=j)\n",
        "\n",
        "  data = train_1.groupby(feature)[feature].count().sort_values(ascending=False)\n",
        "  data = data if len(data) < 10 else data[:10]\n",
        "  fig.add_trace(  go.Bar(x = data.index,\n",
        "                          y = data.values,\n",
        "                          name='Label: 1'),\n",
        "                row=i, col=j)\n",
        "  \n",
        "  fig.update_xaxes(title=feature, row=i, col=j)\n",
        "  fig.update_layout(barmode='stack')\n",
        "\n",
        "fig.update_layout(\n",
        "    autosize=False,\n",
        "    width=1000,\n",
        "    height=1600,\n",
        "    showlegend=False,\n",
        ")\n",
        "\n",
        "fig.show()"
      ],
      "execution_count": null,
      "outputs": [
        {
          "output_type": "display_data",
          "data": {
            "text/html": [
              "<html>\n",
              "<head><meta charset=\"utf-8\" /></head>\n",
              "<body>\n",
              "    <div>\n",
              "            <script src=\"https://cdnjs.cloudflare.com/ajax/libs/mathjax/2.7.5/MathJax.js?config=TeX-AMS-MML_SVG\"></script><script type=\"text/javascript\">if (window.MathJax) {MathJax.Hub.Config({SVG: {font: \"STIX-Web\"}});}</script>\n",
              "                <script type=\"text/javascript\">window.PlotlyConfig = {MathJaxConfig: 'local'};</script>\n",
              "        <script src=\"https://cdn.plot.ly/plotly-latest.min.js\"></script>    \n",
              "            <div id=\"e888b39c-3164-4dd9-ae05-eeeb85d0e335\" class=\"plotly-graph-div\" style=\"height:1600px; width:1000px;\"></div>\n",
              "            <script type=\"text/javascript\">\n",
              "                \n",
              "                    window.PLOTLYENV=window.PLOTLYENV || {};\n",
              "                    \n",
              "                if (document.getElementById(\"e888b39c-3164-4dd9-ae05-eeeb85d0e335\")) {\n",
              "                    Plotly.newPlot(\n",
              "                        'e888b39c-3164-4dd9-ae05-eeeb85d0e335',\n",
              "                        [{\"name\": \"Label: 0\", \"type\": \"bar\", \"x\": [\"A\", \"B\"], \"xaxis\": \"x\", \"y\": [148852, 71687], \"yaxis\": \"y\"}, {\"name\": \"Label: 1\", \"type\": \"bar\", \"x\": [\"A\", \"B\"], \"xaxis\": \"x\", \"y\": [74673, 4788], \"yaxis\": \"y\"}, {\"name\": \"Label: 0\", \"type\": \"bar\", \"x\": [\"I\", \"F\", \"K\", \"L\", \"A\", \"N\", \"H\", \"J\", \"M\", \"O\"], \"xaxis\": \"x2\", \"y\": [78807, 35110, 31846, 15654, 10081, 8614, 8573, 8478, 7599, 5203], \"yaxis\": \"y2\"}, {\"name\": \"Label: 1\", \"type\": \"bar\", \"x\": [\"L\", \"I\", \"K\", \"F\", \"H\", \"G\", \"N\", \"M\", \"O\", \"B\"], \"xaxis\": \"x2\", \"y\": [16237, 12002, 10024, 8708, 8684, 6451, 4617, 3755, 3537, 2699], \"yaxis\": \"y2\"}, {\"name\": \"Label: 0\", \"type\": \"bar\", \"x\": [\"A\", \"C\", \"D\", \"G\", \"F\", \"J\", \"I\", \"M\", \"Q\", \"L\"], \"xaxis\": \"x3\", \"y\": [133307, 32743, 18020, 12564, 6016, 5407, 3029, 2811, 2733, 1978], \"yaxis\": \"y3\"}, {\"name\": \"Label: 1\", \"type\": \"bar\", \"x\": [\"A\", \"Q\", \"C\", \"G\", \"M\", \"D\", \"F\", \"J\", \"I\", \"O\"], \"xaxis\": \"x3\", \"y\": [35387, 8168, 6132, 5661, 5257, 4700, 3861, 3695, 2258, 2024], \"yaxis\": \"y3\"}, {\"name\": \"Label: 0\", \"type\": \"bar\", \"x\": [\"A\", \"B\", \"C\", \"D\", \"E\", \"F\", \"H\", \"J\", \"G\", \"K\"], \"xaxis\": \"x4\", \"y\": [139026, 58620, 10841, 7074, 2438, 1526, 197, 196, 177, 158], \"yaxis\": \"y4\"}, {\"name\": \"Label: 1\", \"type\": \"bar\", \"x\": [\"A\", \"B\", \"C\", \"D\", \"F\", \"E\", \"K\", \"G\", \"L\", \"N\"], \"xaxis\": \"x4\", \"y\": [48225, 21331, 5116, 1602, 963, 880, 688, 195, 144, 93], \"yaxis\": \"y4\"}, {\"name\": \"Label: 0\", \"type\": \"bar\", \"x\": [\"E\", \"F\", \"D\", \"G\", \"H\", \"J\", \"K\", \"I\", \"C\", \"M\"], \"xaxis\": \"x5\", \"y\": [105953, 55373, 21762, 20310, 11742, 2101, 785, 700, 429, 326], \"yaxis\": \"y5\"}, {\"name\": \"Label: 1\", \"type\": \"bar\", \"x\": [\"E\", \"F\", \"H\", \"G\", \"D\", \"I\", \"J\", \"K\", \"M\", \"O\"], \"xaxis\": \"x5\", \"y\": [23432, 21305, 11646, 10444, 6157, 2541, 2206, 696, 221, 219], \"yaxis\": \"y5\"}, {\"name\": \"Label: 0\", \"type\": \"bar\", \"x\": [\"BI\", \"AB\", \"BU\", \"K\", \"G\", \"BQ\", \"N\", \"CL\", \"BO\", \"AY\"], \"xaxis\": \"x6\", \"y\": [175558, 28523, 5008, 2109, 653, 455, 431, 313, 223, 221], \"yaxis\": \"y6\"}, {\"name\": \"Label: 1\", \"type\": \"bar\", \"x\": [\"BI\", \"AB\", \"BU\", \"K\", \"AL\", \"I\", \"BC\", \"R\", \"G\", \"AT\"], \"xaxis\": \"x6\", \"y\": [63005, 13116, 1732, 604, 57, 51, 34, 32, 30, 29], \"yaxis\": \"y6\"}, {\"name\": \"Label: 0\", \"type\": \"bar\", \"x\": [\"A\", \"C\", \"E\", \"G\", \"I\", \"K\", \"M\", \"S\", \"O\", \"F\"], \"xaxis\": \"x7\", \"y\": [147717, 48720, 11410, 5894, 3196, 1318, 671, 367, 286, 225], \"yaxis\": \"y7\"}, {\"name\": \"Label: 1\", \"type\": \"bar\", \"x\": [\"A\", \"C\", \"G\", \"E\", \"I\", \"M\", \"O\", \"K\", \"S\", \"F\"], \"xaxis\": \"x7\", \"y\": [40179, 22707, 5304, 5171, 3452, 1511, 387, 234, 216, 87], \"yaxis\": \"y7\"}, {\"name\": \"Label: 0\", \"type\": \"bar\", \"x\": [\"E\", \"AH\", \"AS\", \"U\", \"N\", \"AN\", \"J\", \"AK\", \"AV\", \"AI\"], \"xaxis\": \"x8\", \"y\": [32474, 29056, 16452, 13077, 12452, 12434, 11082, 8302, 6640, 6440], \"yaxis\": \"y8\"}, {\"name\": \"Label: 1\", \"type\": \"bar\", \"x\": [\"AH\", \"AS\", \"E\", \"AF\", \"J\", \"AN\", \"C\", \"U\", \"N\", \"A\"], \"xaxis\": \"x8\", \"y\": [16762, 8874, 7127, 7112, 5053, 3663, 2602, 2597, 2531, 2221], \"yaxis\": \"y8\"}, {\"name\": \"Label: 0\", \"type\": \"bar\", \"x\": [\"BM\", \"AE\", \"Y\", \"AX\", \"S\", \"L\", \"AD\", \"X\", \"H\", \"AT\"], \"xaxis\": \"x9\", \"y\": [33136, 19655, 16885, 16865, 12272, 11603, 10962, 10062, 9345, 8697], \"yaxis\": \"y9\"}, {\"name\": \"Label: 1\", \"type\": \"bar\", \"x\": [\"BM\", \"K\", \"H\", \"AX\", \"AE\", \"AT\", \"X\", \"Y\", \"AD\", \"S\"], \"xaxis\": \"x9\", \"y\": [9244, 8734, 6216, 5264, 4787, 4519, 4157, 3979, 3701, 2719], \"yaxis\": \"y9\"}, {\"name\": \"Label: 0\", \"type\": \"bar\", \"x\": [\"A\", \"E\", \"C\", \"F\", \"J\", \"I\", \"N\", \"L\", \"R\", \"V\"], \"xaxis\": \"x10\", \"y\": [138767, 29518, 18693, 12164, 7439, 5906, 3412, 2594, 668, 219], \"yaxis\": \"y10\"}, {\"name\": \"Label: 1\", \"type\": \"bar\", \"x\": [\"A\", \"C\", \"E\", \"F\", \"I\", \"J\", \"N\", \"L\", \"R\", \"V\"], \"xaxis\": \"x10\", \"y\": [63178, 4667, 3528, 2207, 2025, 1543, 1373, 363, 194, 141], \"yaxis\": \"y10\"}, {\"name\": \"Label: 0\", \"type\": \"bar\", \"x\": [\"DJ\", \"HK\", \"DP\", \"GS\", \"CR\", \"HX\", \"CK\", \"DC\", \"LN\", \"HQ\"], \"xaxis\": \"x11\", \"y\": [24072, 20432, 17774, 13726, 13415, 10364, 7680, 6396, 6144, 6095], \"yaxis\": \"y11\"}, {\"name\": \"Label: 1\", \"type\": \"bar\", \"x\": [\"HK\", \"DJ\", \"DP\", \"DC\", \"HQ\", \"CK\", \"GS\", \"HX\", \"MD\", \"LF\"], \"xaxis\": \"x11\", \"y\": [10566, 7512, 5905, 3887, 3485, 2907, 2893, 2807, 2621, 2095], \"yaxis\": \"y11\"}, {\"name\": \"Label: 0\", \"type\": \"bar\", \"x\": [\"A\", \"B\"], \"xaxis\": \"x12\", \"y\": [203340, 17199], \"yaxis\": \"y12\"}, {\"name\": \"Label: 1\", \"type\": \"bar\", \"x\": [\"A\", \"B\"], \"xaxis\": \"x12\", \"y\": [55592, 23869], \"yaxis\": \"y12\"}, {\"name\": \"Label: 0\", \"type\": \"bar\", \"x\": [\"A\", \"B\"], \"xaxis\": \"x13\", \"y\": [185179, 35360], \"yaxis\": \"y13\"}, {\"name\": \"Label: 1\", \"type\": \"bar\", \"x\": [\"A\", \"B\"], \"xaxis\": \"x13\", \"y\": [71960, 7501], \"yaxis\": \"y13\"}, {\"name\": \"Label: 0\", \"type\": \"bar\", \"x\": [\"A\", \"B\"], \"xaxis\": \"x14\", \"y\": [219374, 1165], \"yaxis\": \"y14\"}, {\"name\": \"Label: 1\", \"type\": \"bar\", \"x\": [\"A\", \"B\"], \"xaxis\": \"x14\", \"y\": [73338, 6123], \"yaxis\": \"y14\"}, {\"name\": \"Label: 0\", \"type\": \"bar\", \"x\": [\"A\", \"B\"], \"xaxis\": \"x15\", \"y\": [137706, 82833], \"yaxis\": \"y15\"}, {\"name\": \"Label: 1\", \"type\": \"bar\", \"x\": [\"B\", \"A\"], \"xaxis\": \"x15\", \"y\": [57001, 22460], \"yaxis\": \"y15\"}, {\"name\": \"Label: 0\", \"type\": \"bar\", \"x\": [\"B\", \"D\", \"A\", \"C\"], \"xaxis\": \"x16\", \"y\": [176567, 33439, 8954, 1579], \"yaxis\": \"y16\"}, {\"name\": \"Label: 1\", \"type\": \"bar\", \"x\": [\"D\", \"B\", \"A\", \"C\"], \"xaxis\": \"x16\", \"y\": [49749, 27007, 2118, 587], \"yaxis\": \"y16\"}, {\"name\": \"Label: 0\", \"type\": \"bar\", \"x\": [\"D\", \"B\", \"C\", \"A\"], \"xaxis\": \"x17\", \"y\": [183031, 31016, 4003, 2489], \"yaxis\": \"y17\"}, {\"name\": \"Label: 1\", \"type\": \"bar\", \"x\": [\"B\", \"D\", \"C\", \"A\"], \"xaxis\": \"x17\", \"y\": [53525, 23875, 1366, 695], \"yaxis\": \"y17\"}, {\"name\": \"Label: 0\", \"type\": \"bar\", \"x\": [\"D\", \"B\", \"C\", \"A\"], \"xaxis\": \"x18\", \"y\": [195154, 14356, 9875, 1154], \"yaxis\": \"y18\"}, {\"name\": \"Label: 1\", \"type\": \"bar\", \"x\": [\"D\", \"C\", \"B\", \"A\"], \"xaxis\": \"x18\", \"y\": [51971, 15450, 11780, 260], \"yaxis\": \"y18\"}, {\"name\": \"Label: 0\", \"type\": \"bar\", \"x\": [\"B\", \"C\", \"D\", \"A\"], \"xaxis\": \"x19\", \"y\": [207067, 6880, 6037, 555], \"yaxis\": \"y19\"}, {\"name\": \"Label: 1\", \"type\": \"bar\", \"x\": [\"B\", \"D\", \"C\", \"A\"], \"xaxis\": \"x19\", \"y\": [48415, 16357, 14534, 155], \"yaxis\": \"y19\"}],\n",
              "                        {\"autosize\": false, \"barmode\": \"stack\", \"height\": 1600, \"showlegend\": false, \"template\": {\"data\": {\"bar\": [{\"error_x\": {\"color\": \"#2a3f5f\"}, \"error_y\": {\"color\": \"#2a3f5f\"}, \"marker\": {\"line\": {\"color\": \"#E5ECF6\", \"width\": 0.5}}, \"type\": \"bar\"}], \"barpolar\": [{\"marker\": {\"line\": {\"color\": \"#E5ECF6\", \"width\": 0.5}}, \"type\": \"barpolar\"}], \"carpet\": [{\"aaxis\": {\"endlinecolor\": \"#2a3f5f\", \"gridcolor\": \"white\", \"linecolor\": \"white\", \"minorgridcolor\": \"white\", \"startlinecolor\": \"#2a3f5f\"}, \"baxis\": {\"endlinecolor\": \"#2a3f5f\", \"gridcolor\": \"white\", \"linecolor\": \"white\", \"minorgridcolor\": \"white\", \"startlinecolor\": \"#2a3f5f\"}, \"type\": \"carpet\"}], \"choropleth\": [{\"colorbar\": {\"outlinewidth\": 0, \"ticks\": \"\"}, \"type\": \"choropleth\"}], \"contour\": [{\"colorbar\": {\"outlinewidth\": 0, \"ticks\": \"\"}, \"colorscale\": [[0.0, \"#0d0887\"], [0.1111111111111111, \"#46039f\"], [0.2222222222222222, \"#7201a8\"], [0.3333333333333333, \"#9c179e\"], [0.4444444444444444, \"#bd3786\"], [0.5555555555555556, \"#d8576b\"], [0.6666666666666666, \"#ed7953\"], [0.7777777777777778, \"#fb9f3a\"], [0.8888888888888888, \"#fdca26\"], [1.0, \"#f0f921\"]], \"type\": \"contour\"}], \"contourcarpet\": [{\"colorbar\": {\"outlinewidth\": 0, \"ticks\": \"\"}, \"type\": \"contourcarpet\"}], \"heatmap\": [{\"colorbar\": {\"outlinewidth\": 0, \"ticks\": \"\"}, \"colorscale\": [[0.0, \"#0d0887\"], [0.1111111111111111, \"#46039f\"], [0.2222222222222222, \"#7201a8\"], [0.3333333333333333, \"#9c179e\"], [0.4444444444444444, \"#bd3786\"], [0.5555555555555556, \"#d8576b\"], [0.6666666666666666, \"#ed7953\"], [0.7777777777777778, \"#fb9f3a\"], [0.8888888888888888, \"#fdca26\"], [1.0, \"#f0f921\"]], \"type\": \"heatmap\"}], \"heatmapgl\": [{\"colorbar\": {\"outlinewidth\": 0, \"ticks\": \"\"}, \"colorscale\": [[0.0, \"#0d0887\"], [0.1111111111111111, \"#46039f\"], [0.2222222222222222, \"#7201a8\"], [0.3333333333333333, \"#9c179e\"], [0.4444444444444444, \"#bd3786\"], [0.5555555555555556, \"#d8576b\"], [0.6666666666666666, \"#ed7953\"], [0.7777777777777778, \"#fb9f3a\"], [0.8888888888888888, \"#fdca26\"], [1.0, \"#f0f921\"]], \"type\": \"heatmapgl\"}], \"histogram\": [{\"marker\": {\"colorbar\": {\"outlinewidth\": 0, \"ticks\": \"\"}}, \"type\": \"histogram\"}], \"histogram2d\": [{\"colorbar\": {\"outlinewidth\": 0, \"ticks\": \"\"}, \"colorscale\": [[0.0, \"#0d0887\"], [0.1111111111111111, \"#46039f\"], [0.2222222222222222, \"#7201a8\"], [0.3333333333333333, \"#9c179e\"], [0.4444444444444444, \"#bd3786\"], [0.5555555555555556, \"#d8576b\"], [0.6666666666666666, \"#ed7953\"], [0.7777777777777778, \"#fb9f3a\"], [0.8888888888888888, \"#fdca26\"], [1.0, \"#f0f921\"]], \"type\": \"histogram2d\"}], \"histogram2dcontour\": [{\"colorbar\": {\"outlinewidth\": 0, \"ticks\": \"\"}, \"colorscale\": [[0.0, \"#0d0887\"], [0.1111111111111111, \"#46039f\"], [0.2222222222222222, \"#7201a8\"], [0.3333333333333333, \"#9c179e\"], [0.4444444444444444, \"#bd3786\"], [0.5555555555555556, \"#d8576b\"], [0.6666666666666666, \"#ed7953\"], [0.7777777777777778, \"#fb9f3a\"], [0.8888888888888888, \"#fdca26\"], [1.0, \"#f0f921\"]], \"type\": \"histogram2dcontour\"}], \"mesh3d\": [{\"colorbar\": {\"outlinewidth\": 0, \"ticks\": \"\"}, \"type\": \"mesh3d\"}], \"parcoords\": [{\"line\": {\"colorbar\": {\"outlinewidth\": 0, \"ticks\": \"\"}}, \"type\": \"parcoords\"}], \"pie\": [{\"automargin\": true, \"type\": \"pie\"}], \"scatter\": [{\"marker\": {\"colorbar\": {\"outlinewidth\": 0, \"ticks\": \"\"}}, \"type\": \"scatter\"}], \"scatter3d\": [{\"line\": {\"colorbar\": {\"outlinewidth\": 0, \"ticks\": \"\"}}, \"marker\": {\"colorbar\": {\"outlinewidth\": 0, \"ticks\": \"\"}}, \"type\": \"scatter3d\"}], \"scattercarpet\": [{\"marker\": {\"colorbar\": {\"outlinewidth\": 0, \"ticks\": \"\"}}, \"type\": \"scattercarpet\"}], \"scattergeo\": [{\"marker\": {\"colorbar\": {\"outlinewidth\": 0, \"ticks\": \"\"}}, \"type\": \"scattergeo\"}], \"scattergl\": [{\"marker\": {\"colorbar\": {\"outlinewidth\": 0, \"ticks\": \"\"}}, \"type\": \"scattergl\"}], \"scattermapbox\": [{\"marker\": {\"colorbar\": {\"outlinewidth\": 0, \"ticks\": \"\"}}, \"type\": \"scattermapbox\"}], \"scatterpolar\": [{\"marker\": {\"colorbar\": {\"outlinewidth\": 0, \"ticks\": \"\"}}, \"type\": \"scatterpolar\"}], \"scatterpolargl\": [{\"marker\": {\"colorbar\": {\"outlinewidth\": 0, \"ticks\": \"\"}}, \"type\": \"scatterpolargl\"}], \"scatterternary\": [{\"marker\": {\"colorbar\": {\"outlinewidth\": 0, \"ticks\": \"\"}}, \"type\": \"scatterternary\"}], \"surface\": [{\"colorbar\": {\"outlinewidth\": 0, \"ticks\": \"\"}, \"colorscale\": [[0.0, \"#0d0887\"], [0.1111111111111111, \"#46039f\"], [0.2222222222222222, \"#7201a8\"], [0.3333333333333333, \"#9c179e\"], [0.4444444444444444, \"#bd3786\"], [0.5555555555555556, \"#d8576b\"], [0.6666666666666666, \"#ed7953\"], [0.7777777777777778, \"#fb9f3a\"], [0.8888888888888888, \"#fdca26\"], [1.0, \"#f0f921\"]], \"type\": \"surface\"}], \"table\": [{\"cells\": {\"fill\": {\"color\": \"#EBF0F8\"}, \"line\": {\"color\": \"white\"}}, \"header\": {\"fill\": {\"color\": \"#C8D4E3\"}, \"line\": {\"color\": \"white\"}}, \"type\": \"table\"}]}, \"layout\": {\"annotationdefaults\": {\"arrowcolor\": \"#2a3f5f\", \"arrowhead\": 0, \"arrowwidth\": 1}, \"coloraxis\": {\"colorbar\": {\"outlinewidth\": 0, \"ticks\": \"\"}}, \"colorscale\": {\"diverging\": [[0, \"#8e0152\"], [0.1, \"#c51b7d\"], [0.2, \"#de77ae\"], [0.3, \"#f1b6da\"], [0.4, \"#fde0ef\"], [0.5, \"#f7f7f7\"], [0.6, \"#e6f5d0\"], [0.7, \"#b8e186\"], [0.8, \"#7fbc41\"], [0.9, \"#4d9221\"], [1, \"#276419\"]], \"sequential\": [[0.0, \"#0d0887\"], [0.1111111111111111, \"#46039f\"], [0.2222222222222222, \"#7201a8\"], [0.3333333333333333, \"#9c179e\"], [0.4444444444444444, \"#bd3786\"], [0.5555555555555556, \"#d8576b\"], [0.6666666666666666, \"#ed7953\"], [0.7777777777777778, \"#fb9f3a\"], [0.8888888888888888, \"#fdca26\"], [1.0, \"#f0f921\"]], \"sequentialminus\": [[0.0, \"#0d0887\"], [0.1111111111111111, \"#46039f\"], [0.2222222222222222, \"#7201a8\"], [0.3333333333333333, \"#9c179e\"], [0.4444444444444444, \"#bd3786\"], [0.5555555555555556, \"#d8576b\"], [0.6666666666666666, \"#ed7953\"], [0.7777777777777778, \"#fb9f3a\"], [0.8888888888888888, \"#fdca26\"], [1.0, \"#f0f921\"]]}, \"colorway\": [\"#636efa\", \"#EF553B\", \"#00cc96\", \"#ab63fa\", \"#FFA15A\", \"#19d3f3\", \"#FF6692\", \"#B6E880\", \"#FF97FF\", \"#FECB52\"], \"font\": {\"color\": \"#2a3f5f\"}, \"geo\": {\"bgcolor\": \"white\", \"lakecolor\": \"white\", \"landcolor\": \"#E5ECF6\", \"showlakes\": true, \"showland\": true, \"subunitcolor\": \"white\"}, \"hoverlabel\": {\"align\": \"left\"}, \"hovermode\": \"closest\", \"mapbox\": {\"style\": \"light\"}, \"paper_bgcolor\": \"white\", \"plot_bgcolor\": \"#E5ECF6\", \"polar\": {\"angularaxis\": {\"gridcolor\": \"white\", \"linecolor\": \"white\", \"ticks\": \"\"}, \"bgcolor\": \"#E5ECF6\", \"radialaxis\": {\"gridcolor\": \"white\", \"linecolor\": \"white\", \"ticks\": \"\"}}, \"scene\": {\"xaxis\": {\"backgroundcolor\": \"#E5ECF6\", \"gridcolor\": \"white\", \"gridwidth\": 2, \"linecolor\": \"white\", \"showbackground\": true, \"ticks\": \"\", \"zerolinecolor\": \"white\"}, \"yaxis\": {\"backgroundcolor\": \"#E5ECF6\", \"gridcolor\": \"white\", \"gridwidth\": 2, \"linecolor\": \"white\", \"showbackground\": true, \"ticks\": \"\", \"zerolinecolor\": \"white\"}, \"zaxis\": {\"backgroundcolor\": \"#E5ECF6\", \"gridcolor\": \"white\", \"gridwidth\": 2, \"linecolor\": \"white\", \"showbackground\": true, \"ticks\": \"\", \"zerolinecolor\": \"white\"}}, \"shapedefaults\": {\"line\": {\"color\": \"#2a3f5f\"}}, \"ternary\": {\"aaxis\": {\"gridcolor\": \"white\", \"linecolor\": \"white\", \"ticks\": \"\"}, \"baxis\": {\"gridcolor\": \"white\", \"linecolor\": \"white\", \"ticks\": \"\"}, \"bgcolor\": \"#E5ECF6\", \"caxis\": {\"gridcolor\": \"white\", \"linecolor\": \"white\", \"ticks\": \"\"}}, \"title\": {\"x\": 0.05}, \"xaxis\": {\"automargin\": true, \"gridcolor\": \"white\", \"linecolor\": \"white\", \"ticks\": \"\", \"title\": {\"standoff\": 15}, \"zerolinecolor\": \"white\", \"zerolinewidth\": 2}, \"yaxis\": {\"automargin\": true, \"gridcolor\": \"white\", \"linecolor\": \"white\", \"ticks\": \"\", \"title\": {\"standoff\": 15}, \"zerolinecolor\": \"white\", \"zerolinewidth\": 2}}}, \"width\": 1000, \"xaxis\": {\"anchor\": \"y\", \"domain\": [0.0, 0.45], \"title\": {\"text\": \"cat0\"}}, \"xaxis10\": {\"anchor\": \"y10\", \"domain\": [0.55, 1.0], \"title\": {\"text\": \"cat9\"}}, \"xaxis11\": {\"anchor\": \"y11\", \"domain\": [0.0, 0.45], \"title\": {\"text\": \"cat10\"}}, \"xaxis12\": {\"anchor\": \"y12\", \"domain\": [0.55, 1.0], \"title\": {\"text\": \"cat11\"}}, \"xaxis13\": {\"anchor\": \"y13\", \"domain\": [0.0, 0.45], \"title\": {\"text\": \"cat12\"}}, \"xaxis14\": {\"anchor\": \"y14\", \"domain\": [0.55, 1.0], \"title\": {\"text\": \"cat13\"}}, \"xaxis15\": {\"anchor\": \"y15\", \"domain\": [0.0, 0.45], \"title\": {\"text\": \"cat14\"}}, \"xaxis16\": {\"anchor\": \"y16\", \"domain\": [0.55, 1.0], \"title\": {\"text\": \"cat15\"}}, \"xaxis17\": {\"anchor\": \"y17\", \"domain\": [0.0, 0.45], \"title\": {\"text\": \"cat16\"}}, \"xaxis18\": {\"anchor\": \"y18\", \"domain\": [0.55, 1.0], \"title\": {\"text\": \"cat17\"}}, \"xaxis19\": {\"anchor\": \"y19\", \"domain\": [0.0, 0.45], \"title\": {\"text\": \"cat18\"}}, \"xaxis2\": {\"anchor\": \"y2\", \"domain\": [0.55, 1.0], \"title\": {\"text\": \"cat1\"}}, \"xaxis20\": {\"anchor\": \"y20\", \"domain\": [0.55, 1.0]}, \"xaxis3\": {\"anchor\": \"y3\", \"domain\": [0.0, 0.45], \"title\": {\"text\": \"cat2\"}}, \"xaxis4\": {\"anchor\": \"y4\", \"domain\": [0.55, 1.0], \"title\": {\"text\": \"cat3\"}}, \"xaxis5\": {\"anchor\": \"y5\", \"domain\": [0.0, 0.45], \"title\": {\"text\": \"cat4\"}}, \"xaxis6\": {\"anchor\": \"y6\", \"domain\": [0.55, 1.0], \"title\": {\"text\": \"cat5\"}}, \"xaxis7\": {\"anchor\": \"y7\", \"domain\": [0.0, 0.45], \"title\": {\"text\": \"cat6\"}}, \"xaxis8\": {\"anchor\": \"y8\", \"domain\": [0.55, 1.0], \"title\": {\"text\": \"cat7\"}}, \"xaxis9\": {\"anchor\": \"y9\", \"domain\": [0.0, 0.45], \"title\": {\"text\": \"cat8\"}}, \"yaxis\": {\"anchor\": \"x\", \"domain\": [0.9269999999999999, 0.9999999999999999]}, \"yaxis10\": {\"anchor\": \"x10\", \"domain\": [0.515, 0.588]}, \"yaxis11\": {\"anchor\": \"x11\", \"domain\": [0.412, 0.485]}, \"yaxis12\": {\"anchor\": \"x12\", \"domain\": [0.412, 0.485]}, \"yaxis13\": {\"anchor\": \"x13\", \"domain\": [0.30899999999999994, 0.38199999999999995]}, \"yaxis14\": {\"anchor\": \"x14\", \"domain\": [0.30899999999999994, 0.38199999999999995]}, \"yaxis15\": {\"anchor\": \"x15\", \"domain\": [0.206, 0.27899999999999997]}, \"yaxis16\": {\"anchor\": \"x16\", \"domain\": [0.206, 0.27899999999999997]}, \"yaxis17\": {\"anchor\": \"x17\", \"domain\": [0.103, 0.176]}, \"yaxis18\": {\"anchor\": \"x18\", \"domain\": [0.103, 0.176]}, \"yaxis19\": {\"anchor\": \"x19\", \"domain\": [0.0, 0.073]}, \"yaxis2\": {\"anchor\": \"x2\", \"domain\": [0.9269999999999999, 0.9999999999999999]}, \"yaxis20\": {\"anchor\": \"x20\", \"domain\": [0.0, 0.073]}, \"yaxis3\": {\"anchor\": \"x3\", \"domain\": [0.824, 0.8969999999999999]}, \"yaxis4\": {\"anchor\": \"x4\", \"domain\": [0.824, 0.8969999999999999]}, \"yaxis5\": {\"anchor\": \"x5\", \"domain\": [0.721, 0.7939999999999999]}, \"yaxis6\": {\"anchor\": \"x6\", \"domain\": [0.721, 0.7939999999999999]}, \"yaxis7\": {\"anchor\": \"x7\", \"domain\": [0.618, 0.691]}, \"yaxis8\": {\"anchor\": \"x8\", \"domain\": [0.618, 0.691]}, \"yaxis9\": {\"anchor\": \"x9\", \"domain\": [0.515, 0.588]}},\n",
              "                        {\"responsive\": true}\n",
              "                    ).then(function(){\n",
              "                            \n",
              "var gd = document.getElementById('e888b39c-3164-4dd9-ae05-eeeb85d0e335');\n",
              "var x = new MutationObserver(function (mutations, observer) {{\n",
              "        var display = window.getComputedStyle(gd).display;\n",
              "        if (!display || display === 'none') {{\n",
              "            console.log([gd, 'removed!']);\n",
              "            Plotly.purge(gd);\n",
              "            observer.disconnect();\n",
              "        }}\n",
              "}});\n",
              "\n",
              "// Listen for the removal of the full notebook cells\n",
              "var notebookContainer = gd.closest('#notebook-container');\n",
              "if (notebookContainer) {{\n",
              "    x.observe(notebookContainer, {childList: true});\n",
              "}}\n",
              "\n",
              "// Listen for the clearing of the current output cell\n",
              "var outputEl = gd.closest('.output');\n",
              "if (outputEl) {{\n",
              "    x.observe(outputEl, {childList: true});\n",
              "}}\n",
              "\n",
              "                        })\n",
              "                };\n",
              "                \n",
              "            </script>\n",
              "        </div>\n",
              "</body>\n",
              "</html>"
            ]
          },
          "metadata": {
            "tags": []
          }
        }
      ]
    },
    {
      "cell_type": "code",
      "metadata": {
        "colab": {
          "base_uri": "https://localhost:8080/",
          "height": 1000
        },
        "id": "Hd1D-kcKU5Xh",
        "outputId": "16463144-eb03-45d4-e1cf-c6482d365bab"
      },
      "source": [
        "#adapted from @AndresHG \n",
        "\n",
        "num_rows, num_cols = 10,1\n",
        "fig = plotly.subplots.make_subplots(rows=num_rows, cols=num_cols)\n",
        "cont = 1\n",
        "\n",
        "for index, feature in enumerate(cat_columns):\n",
        "  data = train_0.groupby(feature)[feature].count().sort_values(ascending=False) #find values of feature for target 0\n",
        "  if len(data) < 10:    #if less than 10, skip\n",
        "      continue\n",
        "  data = data if len(data) < 25 else data[:25]   #if greater than 25, choose largest 25\n",
        "  i,j = (cont, 1)   #set place in graphing\n",
        "  cont+=1\n",
        "  \n",
        "  fig.add_trace(  go.Bar(x = data.index,\n",
        "                          y = data.values,\n",
        "                          name='Label: 0',),\n",
        "                row=i, col=j)\n",
        "  \n",
        "  target_0_values = set(data.index)  #make a set of all the categories which have target 0\n",
        "  \n",
        "  data = train_1.groupby(feature)[feature].count().sort_values(ascending=False)\n",
        "  data = data if len(data) < 25 else data[:25]\n",
        "  \n",
        "  fig.add_trace(  go.Bar(x = data.index,\n",
        "                          y = data.values,\n",
        "                          name='Label: 1'),\n",
        "                row=i, col=j)\n",
        "  \n",
        "  target_1_values = set(data.index)   #make a set of all the categories which have target 1\n",
        "  \n",
        "  print('----------------------{}----------------------'.format(feature))\n",
        "  print('Unique values for class 0: {}'.format(target_0_values - target_1_values))\n",
        "  print('Unique values for class 1: {}'.format(target_1_values - target_0_values))\n",
        "  \n",
        "  fig.update_xaxes(title=feature, row=i, col=j)\n",
        "  fig.update_layout(barmode='stack')\n",
        "    \n",
        "fig.update_layout(\n",
        "    autosize=False,\n",
        "    width=900,\n",
        "    height=2000,\n",
        "    showlegend=False,\n",
        ")\n",
        "fig.show()"
      ],
      "execution_count": null,
      "outputs": [
        {
          "output_type": "stream",
          "text": [
            "----------------------cat1----------------------\n",
            "Unique values for class 0: set()\n",
            "Unique values for class 1: set()\n",
            "----------------------cat2----------------------\n",
            "Unique values for class 0: set()\n",
            "Unique values for class 1: set()\n",
            "----------------------cat3----------------------\n",
            "Unique values for class 0: set()\n",
            "Unique values for class 1: set()\n",
            "----------------------cat4----------------------\n",
            "Unique values for class 0: set()\n",
            "Unique values for class 1: set()\n",
            "----------------------cat5----------------------\n",
            "Unique values for class 0: {'BO', 'CI', 'BK', 'BV', 'N', 'AY', 'T', 'BG', 'CA', 'BS'}\n",
            "Unique values for class 1: {'BL', 'AH', 'AM', 'AQ', 'C', 'X', 'CK', 'F', 'BJ', 'I'}\n",
            "----------------------cat6----------------------\n",
            "Unique values for class 0: set()\n",
            "Unique values for class 1: set()\n",
            "----------------------cat7----------------------\n",
            "Unique values for class 0: {'Y', 'AA', 'R', 'O', 'AY', 'AP'}\n",
            "Unique values for class 1: {'V', 'L', 'AD', 'AL', 'BA', 'AC'}\n",
            "----------------------cat8----------------------\n",
            "Unique values for class 0: {'I', 'AS', 'BJ', 'AW', 'BC'}\n",
            "Unique values for class 1: {'BD', 'AO', 'AG', 'F', 'A'}\n",
            "----------------------cat9----------------------\n",
            "Unique values for class 0: set()\n",
            "Unique values for class 1: set()\n",
            "----------------------cat10----------------------\n",
            "Unique values for class 0: {'EK', 'LN', 'HJ', 'DF', 'GE', 'IG', 'HB'}\n",
            "Unique values for class 1: {'GK', 'FR', 'HC', 'GI', 'CD', 'JR', 'MC'}\n"
          ],
          "name": "stdout"
        },
        {
          "output_type": "display_data",
          "data": {
            "text/html": [
              "<html>\n",
              "<head><meta charset=\"utf-8\" /></head>\n",
              "<body>\n",
              "    <div>\n",
              "            <script src=\"https://cdnjs.cloudflare.com/ajax/libs/mathjax/2.7.5/MathJax.js?config=TeX-AMS-MML_SVG\"></script><script type=\"text/javascript\">if (window.MathJax) {MathJax.Hub.Config({SVG: {font: \"STIX-Web\"}});}</script>\n",
              "                <script type=\"text/javascript\">window.PlotlyConfig = {MathJaxConfig: 'local'};</script>\n",
              "        <script src=\"https://cdn.plot.ly/plotly-latest.min.js\"></script>    \n",
              "            <div id=\"adf46dbe-617c-40c4-82a4-50bd6c14fe39\" class=\"plotly-graph-div\" style=\"height:2000px; width:900px;\"></div>\n",
              "            <script type=\"text/javascript\">\n",
              "                \n",
              "                    window.PLOTLYENV=window.PLOTLYENV || {};\n",
              "                    \n",
              "                if (document.getElementById(\"adf46dbe-617c-40c4-82a4-50bd6c14fe39\")) {\n",
              "                    Plotly.newPlot(\n",
              "                        'adf46dbe-617c-40c4-82a4-50bd6c14fe39',\n",
              "                        [{\"name\": \"Label: 0\", \"type\": \"bar\", \"x\": [\"I\", \"F\", \"K\", \"L\", \"A\", \"N\", \"H\", \"J\", \"M\", \"O\", \"G\", \"B\", \"C\", \"D\", \"E\"], \"xaxis\": \"x\", \"y\": [78807, 35110, 31846, 15654, 10081, 8614, 8573, 8478, 7599, 5203, 4797, 4148, 1265, 226, 138], \"yaxis\": \"y\"}, {\"name\": \"Label: 1\", \"type\": \"bar\", \"x\": [\"L\", \"I\", \"K\", \"F\", \"H\", \"G\", \"N\", \"M\", \"O\", \"B\", \"J\", \"A\", \"C\", \"D\", \"E\"], \"xaxis\": \"x\", \"y\": [16237, 12002, 10024, 8708, 8684, 6451, 4617, 3755, 3537, 2699, 1558, 466, 438, 188, 97], \"yaxis\": \"y\"}, {\"name\": \"Label: 0\", \"type\": \"bar\", \"x\": [\"A\", \"C\", \"D\", \"G\", \"F\", \"J\", \"I\", \"M\", \"Q\", \"L\", \"O\", \"N\", \"B\", \"H\", \"U\", \"S\", \"R\", \"E\", \"K\"], \"xaxis\": \"x2\", \"y\": [133307, 32743, 18020, 12564, 6016, 5407, 3029, 2811, 2733, 1978, 725, 276, 200, 160, 154, 134, 95, 94, 93], \"yaxis\": \"y2\"}, {\"name\": \"Label: 1\", \"type\": \"bar\", \"x\": [\"A\", \"Q\", \"C\", \"G\", \"M\", \"D\", \"F\", \"J\", \"I\", \"O\", \"L\", \"N\", \"S\", \"H\", \"R\", \"K\", \"B\", \"E\", \"U\"], \"xaxis\": \"x2\", \"y\": [35387, 8168, 6132, 5661, 5257, 4700, 3861, 3695, 2258, 2024, 2019, 64, 63, 59, 34, 33, 18, 16, 12], \"yaxis\": \"y2\"}, {\"name\": \"Label: 0\", \"type\": \"bar\", \"x\": [\"A\", \"B\", \"C\", \"D\", \"E\", \"F\", \"H\", \"J\", \"G\", \"K\", \"L\", \"I\", \"N\"], \"xaxis\": \"x3\", \"y\": [139026, 58620, 10841, 7074, 2438, 1526, 197, 196, 177, 158, 148, 120, 18], \"yaxis\": \"y3\"}, {\"name\": \"Label: 1\", \"type\": \"bar\", \"x\": [\"A\", \"B\", \"C\", \"D\", \"F\", \"E\", \"K\", \"G\", \"L\", \"N\", \"J\", \"H\", \"I\"], \"xaxis\": \"x3\", \"y\": [48225, 21331, 5116, 1602, 963, 880, 688, 195, 144, 93, 90, 77, 57], \"yaxis\": \"y3\"}, {\"name\": \"Label: 0\", \"type\": \"bar\", \"x\": [\"E\", \"F\", \"D\", \"G\", \"H\", \"J\", \"K\", \"I\", \"C\", \"M\", \"S\", \"T\", \"B\", \"O\", \"L\", \"P\", \"Q\", \"N\", \"A\", \"R\"], \"xaxis\": \"x4\", \"y\": [105953, 55373, 21762, 20310, 11742, 2101, 785, 700, 429, 326, 211, 180, 159, 111, 100, 80, 74, 62, 45, 36], \"yaxis\": \"y4\"}, {\"name\": \"Label: 1\", \"type\": \"bar\", \"x\": [\"E\", \"F\", \"H\", \"G\", \"D\", \"I\", \"J\", \"K\", \"M\", \"O\", \"B\", \"L\", \"C\", \"S\", \"A\", \"Q\", \"T\", \"R\", \"P\", \"N\"], \"xaxis\": \"x4\", \"y\": [23432, 21305, 11646, 10444, 6157, 2541, 2206, 696, 221, 219, 142, 114, 77, 74, 47, 43, 35, 23, 20, 19], \"yaxis\": \"y4\"}, {\"name\": \"Label: 0\", \"type\": \"bar\", \"x\": [\"BI\", \"AB\", \"BU\", \"K\", \"G\", \"BQ\", \"N\", \"CL\", \"BO\", \"AY\", \"AL\", \"CI\", \"BA\", \"AW\", \"M\", \"T\", \"BG\", \"AT\", \"R\", \"BS\", \"BC\", \"BV\", \"CA\", \"BK\", \"L\"], \"xaxis\": \"x5\", \"y\": [175558, 28523, 5008, 2109, 653, 455, 431, 313, 223, 221, 215, 202, 189, 184, 177, 176, 166, 165, 157, 150, 149, 148, 141, 138, 133], \"yaxis\": \"y5\"}, {\"name\": \"Label: 1\", \"type\": \"bar\", \"x\": [\"BI\", \"AB\", \"BU\", \"K\", \"AL\", \"I\", \"BC\", \"R\", \"G\", \"AT\", \"BQ\", \"BJ\", \"M\", \"L\", \"CL\", \"CK\", \"AH\", \"AW\", \"F\", \"BL\", \"X\", \"BA\", \"AQ\", \"AM\", \"C\"], \"xaxis\": \"x5\", \"y\": [63005, 13116, 1732, 604, 57, 51, 34, 32, 30, 29, 28, 27, 26, 25, 23, 22, 22, 21, 21, 21, 20, 20, 19, 19, 17], \"yaxis\": \"y5\"}, {\"name\": \"Label: 0\", \"type\": \"bar\", \"x\": [\"A\", \"C\", \"E\", \"G\", \"I\", \"K\", \"M\", \"S\", \"O\", \"F\", \"Y\", \"D\", \"B\", \"U\", \"Q\", \"W\"], \"xaxis\": \"x6\", \"y\": [147717, 48720, 11410, 5894, 3196, 1318, 671, 367, 286, 225, 178, 169, 153, 120, 77, 38], \"yaxis\": \"y6\"}, {\"name\": \"Label: 1\", \"type\": \"bar\", \"x\": [\"A\", \"C\", \"G\", \"E\", \"I\", \"M\", \"O\", \"K\", \"S\", \"F\", \"Q\", \"D\", \"U\", \"Y\", \"W\", \"B\"], \"xaxis\": \"x6\", \"y\": [40179, 22707, 5304, 5171, 3452, 1511, 387, 234, 216, 87, 47, 45, 35, 34, 33, 19], \"yaxis\": \"y6\"}, {\"name\": \"Label: 0\", \"type\": \"bar\", \"x\": [\"E\", \"AH\", \"AS\", \"U\", \"N\", \"AN\", \"J\", \"AK\", \"AV\", \"AI\", \"S\", \"Y\", \"F\", \"AW\", \"AF\", \"A\", \"K\", \"G\", \"AA\", \"R\", \"O\", \"AP\", \"AX\", \"C\", \"AY\"], \"xaxis\": \"x7\", \"y\": [32474, 29056, 16452, 13077, 12452, 12434, 11082, 8302, 6640, 6440, 6104, 5569, 4863, 4499, 4343, 4211, 4100, 3709, 3380, 2704, 2171, 2016, 1819, 1722, 1585], \"yaxis\": \"y7\"}, {\"name\": \"Label: 1\", \"type\": \"bar\", \"x\": [\"AH\", \"AS\", \"E\", \"AF\", \"J\", \"AN\", \"C\", \"U\", \"N\", \"A\", \"K\", \"G\", \"S\", \"AK\", \"AV\", \"AI\", \"AL\", \"AW\", \"AX\", \"V\", \"F\", \"BA\", \"AC\", \"AD\", \"L\"], \"xaxis\": \"x7\", \"y\": [16762, 8874, 7127, 7112, 5053, 3663, 2602, 2597, 2531, 2221, 2164, 1947, 1817, 1395, 1318, 1228, 854, 823, 816, 786, 687, 594, 453, 417, 390], \"yaxis\": \"y7\"}, {\"name\": \"Label: 0\", \"type\": \"bar\", \"x\": [\"BM\", \"AE\", \"Y\", \"AX\", \"S\", \"L\", \"AD\", \"X\", \"H\", \"AT\", \"N\", \"I\", \"BC\", \"AS\", \"K\", \"AN\", \"BJ\", \"AF\", \"Q\", \"AK\", \"BN\", \"AJ\", \"M\", \"AW\", \"J\"], \"xaxis\": \"x8\", \"y\": [33136, 19655, 16885, 16865, 12272, 11603, 10962, 10062, 9345, 8697, 6687, 6382, 5078, 4568, 4376, 4162, 3646, 3401, 3345, 3111, 3046, 2350, 2113, 1955, 1879], \"yaxis\": \"y8\"}, {\"name\": \"Label: 1\", \"type\": \"bar\", \"x\": [\"BM\", \"K\", \"H\", \"AX\", \"AE\", \"AT\", \"X\", \"Y\", \"AD\", \"S\", \"AF\", \"L\", \"A\", \"BD\", \"BN\", \"AG\", \"AN\", \"N\", \"F\", \"M\", \"AK\", \"AO\", \"Q\", \"AJ\", \"J\"], \"xaxis\": \"x8\", \"y\": [9244, 8734, 6216, 5264, 4787, 4519, 4157, 3979, 3701, 2719, 2481, 1970, 1925, 1891, 1859, 1845, 1546, 1244, 1173, 996, 932, 844, 784, 711, 700], \"yaxis\": \"y8\"}, {\"name\": \"Label: 0\", \"type\": \"bar\", \"x\": [\"A\", \"E\", \"C\", \"F\", \"J\", \"I\", \"N\", \"L\", \"R\", \"V\", \"G\", \"D\", \"B\", \"Q\", \"W\", \"O\", \"X\", \"U\", \"S\"], \"xaxis\": \"x9\", \"y\": [138767, 29518, 18693, 12164, 7439, 5906, 3412, 2594, 668, 219, 193, 184, 172, 163, 118, 110, 90, 81, 48], \"yaxis\": \"y9\"}, {\"name\": \"Label: 1\", \"type\": \"bar\", \"x\": [\"A\", \"C\", \"E\", \"F\", \"I\", \"J\", \"N\", \"L\", \"R\", \"V\", \"B\", \"Q\", \"G\", \"U\", \"O\", \"S\", \"X\", \"W\", \"D\"], \"xaxis\": \"x9\", \"y\": [63178, 4667, 3528, 2207, 2025, 1543, 1373, 363, 194, 141, 108, 48, 21, 20, 12, 12, 9, 7, 5], \"yaxis\": \"y9\"}, {\"name\": \"Label: 0\", \"type\": \"bar\", \"x\": [\"DJ\", \"HK\", \"DP\", \"GS\", \"CR\", \"HX\", \"CK\", \"DC\", \"LN\", \"HQ\", \"LM\", \"IE\", \"MD\", \"LF\", \"IG\", \"HB\", \"DF\", \"HG\", \"KW\", \"LB\", \"HJ\", \"EK\", \"HV\", \"LO\", \"GE\"], \"xaxis\": \"x10\", \"y\": [24072, 20432, 17774, 13726, 13415, 10364, 7680, 6396, 6144, 6095, 5080, 4624, 4196, 4119, 3968, 3840, 3736, 3648, 3548, 3145, 2553, 2468, 2234, 2072, 1816], \"yaxis\": \"y10\"}, {\"name\": \"Label: 1\", \"type\": \"bar\", \"x\": [\"HK\", \"DJ\", \"DP\", \"DC\", \"HQ\", \"CK\", \"GS\", \"HX\", \"MD\", \"LF\", \"KW\", \"IE\", \"HC\", \"CD\", \"HV\", \"LO\", \"HG\", \"GK\", \"CR\", \"LM\", \"JR\", \"FR\", \"GI\", \"MC\", \"LB\"], \"xaxis\": \"x10\", \"y\": [10566, 7512, 5905, 3887, 3485, 2907, 2893, 2807, 2621, 2095, 1612, 1566, 1501, 1235, 1212, 1082, 1068, 987, 967, 837, 721, 714, 695, 653, 573], \"yaxis\": \"y10\"}],\n",
              "                        {\"autosize\": false, \"barmode\": \"stack\", \"height\": 2000, \"showlegend\": false, \"template\": {\"data\": {\"bar\": [{\"error_x\": {\"color\": \"#2a3f5f\"}, \"error_y\": {\"color\": \"#2a3f5f\"}, \"marker\": {\"line\": {\"color\": \"#E5ECF6\", \"width\": 0.5}}, \"type\": \"bar\"}], \"barpolar\": [{\"marker\": {\"line\": {\"color\": \"#E5ECF6\", \"width\": 0.5}}, \"type\": \"barpolar\"}], \"carpet\": [{\"aaxis\": {\"endlinecolor\": \"#2a3f5f\", \"gridcolor\": \"white\", \"linecolor\": \"white\", \"minorgridcolor\": \"white\", \"startlinecolor\": \"#2a3f5f\"}, \"baxis\": {\"endlinecolor\": \"#2a3f5f\", \"gridcolor\": \"white\", \"linecolor\": \"white\", \"minorgridcolor\": \"white\", \"startlinecolor\": \"#2a3f5f\"}, \"type\": \"carpet\"}], \"choropleth\": [{\"colorbar\": {\"outlinewidth\": 0, \"ticks\": \"\"}, \"type\": \"choropleth\"}], \"contour\": [{\"colorbar\": {\"outlinewidth\": 0, \"ticks\": \"\"}, \"colorscale\": [[0.0, \"#0d0887\"], [0.1111111111111111, \"#46039f\"], [0.2222222222222222, \"#7201a8\"], [0.3333333333333333, \"#9c179e\"], [0.4444444444444444, \"#bd3786\"], [0.5555555555555556, \"#d8576b\"], [0.6666666666666666, \"#ed7953\"], [0.7777777777777778, \"#fb9f3a\"], [0.8888888888888888, \"#fdca26\"], [1.0, \"#f0f921\"]], \"type\": \"contour\"}], \"contourcarpet\": [{\"colorbar\": {\"outlinewidth\": 0, \"ticks\": \"\"}, \"type\": \"contourcarpet\"}], \"heatmap\": [{\"colorbar\": {\"outlinewidth\": 0, \"ticks\": \"\"}, \"colorscale\": [[0.0, \"#0d0887\"], [0.1111111111111111, \"#46039f\"], [0.2222222222222222, \"#7201a8\"], [0.3333333333333333, \"#9c179e\"], [0.4444444444444444, \"#bd3786\"], [0.5555555555555556, \"#d8576b\"], [0.6666666666666666, \"#ed7953\"], [0.7777777777777778, \"#fb9f3a\"], [0.8888888888888888, \"#fdca26\"], [1.0, \"#f0f921\"]], \"type\": \"heatmap\"}], \"heatmapgl\": [{\"colorbar\": {\"outlinewidth\": 0, \"ticks\": \"\"}, \"colorscale\": [[0.0, \"#0d0887\"], [0.1111111111111111, \"#46039f\"], [0.2222222222222222, \"#7201a8\"], [0.3333333333333333, \"#9c179e\"], [0.4444444444444444, \"#bd3786\"], [0.5555555555555556, \"#d8576b\"], [0.6666666666666666, \"#ed7953\"], [0.7777777777777778, \"#fb9f3a\"], [0.8888888888888888, \"#fdca26\"], [1.0, \"#f0f921\"]], \"type\": \"heatmapgl\"}], \"histogram\": [{\"marker\": {\"colorbar\": {\"outlinewidth\": 0, \"ticks\": \"\"}}, \"type\": \"histogram\"}], \"histogram2d\": [{\"colorbar\": {\"outlinewidth\": 0, \"ticks\": \"\"}, \"colorscale\": [[0.0, \"#0d0887\"], [0.1111111111111111, \"#46039f\"], [0.2222222222222222, \"#7201a8\"], [0.3333333333333333, \"#9c179e\"], [0.4444444444444444, \"#bd3786\"], [0.5555555555555556, \"#d8576b\"], [0.6666666666666666, \"#ed7953\"], [0.7777777777777778, \"#fb9f3a\"], [0.8888888888888888, \"#fdca26\"], [1.0, \"#f0f921\"]], \"type\": \"histogram2d\"}], \"histogram2dcontour\": [{\"colorbar\": {\"outlinewidth\": 0, \"ticks\": \"\"}, \"colorscale\": [[0.0, \"#0d0887\"], [0.1111111111111111, \"#46039f\"], [0.2222222222222222, \"#7201a8\"], [0.3333333333333333, \"#9c179e\"], [0.4444444444444444, \"#bd3786\"], [0.5555555555555556, \"#d8576b\"], [0.6666666666666666, \"#ed7953\"], [0.7777777777777778, \"#fb9f3a\"], [0.8888888888888888, \"#fdca26\"], [1.0, \"#f0f921\"]], \"type\": \"histogram2dcontour\"}], \"mesh3d\": [{\"colorbar\": {\"outlinewidth\": 0, \"ticks\": \"\"}, \"type\": \"mesh3d\"}], \"parcoords\": [{\"line\": {\"colorbar\": {\"outlinewidth\": 0, \"ticks\": \"\"}}, \"type\": \"parcoords\"}], \"pie\": [{\"automargin\": true, \"type\": \"pie\"}], \"scatter\": [{\"marker\": {\"colorbar\": {\"outlinewidth\": 0, \"ticks\": \"\"}}, \"type\": \"scatter\"}], \"scatter3d\": [{\"line\": {\"colorbar\": {\"outlinewidth\": 0, \"ticks\": \"\"}}, \"marker\": {\"colorbar\": {\"outlinewidth\": 0, \"ticks\": \"\"}}, \"type\": \"scatter3d\"}], \"scattercarpet\": [{\"marker\": {\"colorbar\": {\"outlinewidth\": 0, \"ticks\": \"\"}}, \"type\": \"scattercarpet\"}], \"scattergeo\": [{\"marker\": {\"colorbar\": {\"outlinewidth\": 0, \"ticks\": \"\"}}, \"type\": \"scattergeo\"}], \"scattergl\": [{\"marker\": {\"colorbar\": {\"outlinewidth\": 0, \"ticks\": \"\"}}, \"type\": \"scattergl\"}], \"scattermapbox\": [{\"marker\": {\"colorbar\": {\"outlinewidth\": 0, \"ticks\": \"\"}}, \"type\": \"scattermapbox\"}], \"scatterpolar\": [{\"marker\": {\"colorbar\": {\"outlinewidth\": 0, \"ticks\": \"\"}}, \"type\": \"scatterpolar\"}], \"scatterpolargl\": [{\"marker\": {\"colorbar\": {\"outlinewidth\": 0, \"ticks\": \"\"}}, \"type\": \"scatterpolargl\"}], \"scatterternary\": [{\"marker\": {\"colorbar\": {\"outlinewidth\": 0, \"ticks\": \"\"}}, \"type\": \"scatterternary\"}], \"surface\": [{\"colorbar\": {\"outlinewidth\": 0, \"ticks\": \"\"}, \"colorscale\": [[0.0, \"#0d0887\"], [0.1111111111111111, \"#46039f\"], [0.2222222222222222, \"#7201a8\"], [0.3333333333333333, \"#9c179e\"], [0.4444444444444444, \"#bd3786\"], [0.5555555555555556, \"#d8576b\"], [0.6666666666666666, \"#ed7953\"], [0.7777777777777778, \"#fb9f3a\"], [0.8888888888888888, \"#fdca26\"], [1.0, \"#f0f921\"]], \"type\": \"surface\"}], \"table\": [{\"cells\": {\"fill\": {\"color\": \"#EBF0F8\"}, \"line\": {\"color\": \"white\"}}, \"header\": {\"fill\": {\"color\": \"#C8D4E3\"}, \"line\": {\"color\": \"white\"}}, \"type\": \"table\"}]}, \"layout\": {\"annotationdefaults\": {\"arrowcolor\": \"#2a3f5f\", \"arrowhead\": 0, \"arrowwidth\": 1}, \"coloraxis\": {\"colorbar\": {\"outlinewidth\": 0, \"ticks\": \"\"}}, \"colorscale\": {\"diverging\": [[0, \"#8e0152\"], [0.1, \"#c51b7d\"], [0.2, \"#de77ae\"], [0.3, \"#f1b6da\"], [0.4, \"#fde0ef\"], [0.5, \"#f7f7f7\"], [0.6, \"#e6f5d0\"], [0.7, \"#b8e186\"], [0.8, \"#7fbc41\"], [0.9, \"#4d9221\"], [1, \"#276419\"]], \"sequential\": [[0.0, \"#0d0887\"], [0.1111111111111111, \"#46039f\"], [0.2222222222222222, \"#7201a8\"], [0.3333333333333333, \"#9c179e\"], [0.4444444444444444, \"#bd3786\"], [0.5555555555555556, \"#d8576b\"], [0.6666666666666666, \"#ed7953\"], [0.7777777777777778, \"#fb9f3a\"], [0.8888888888888888, \"#fdca26\"], [1.0, \"#f0f921\"]], \"sequentialminus\": [[0.0, \"#0d0887\"], [0.1111111111111111, \"#46039f\"], [0.2222222222222222, \"#7201a8\"], [0.3333333333333333, \"#9c179e\"], [0.4444444444444444, \"#bd3786\"], [0.5555555555555556, \"#d8576b\"], [0.6666666666666666, \"#ed7953\"], [0.7777777777777778, \"#fb9f3a\"], [0.8888888888888888, \"#fdca26\"], [1.0, \"#f0f921\"]]}, \"colorway\": [\"#636efa\", \"#EF553B\", \"#00cc96\", \"#ab63fa\", \"#FFA15A\", \"#19d3f3\", \"#FF6692\", \"#B6E880\", \"#FF97FF\", \"#FECB52\"], \"font\": {\"color\": \"#2a3f5f\"}, \"geo\": {\"bgcolor\": \"white\", \"lakecolor\": \"white\", \"landcolor\": \"#E5ECF6\", \"showlakes\": true, \"showland\": true, \"subunitcolor\": \"white\"}, \"hoverlabel\": {\"align\": \"left\"}, \"hovermode\": \"closest\", \"mapbox\": {\"style\": \"light\"}, \"paper_bgcolor\": \"white\", \"plot_bgcolor\": \"#E5ECF6\", \"polar\": {\"angularaxis\": {\"gridcolor\": \"white\", \"linecolor\": \"white\", \"ticks\": \"\"}, \"bgcolor\": \"#E5ECF6\", \"radialaxis\": {\"gridcolor\": \"white\", \"linecolor\": \"white\", \"ticks\": \"\"}}, \"scene\": {\"xaxis\": {\"backgroundcolor\": \"#E5ECF6\", \"gridcolor\": \"white\", \"gridwidth\": 2, \"linecolor\": \"white\", \"showbackground\": true, \"ticks\": \"\", \"zerolinecolor\": \"white\"}, \"yaxis\": {\"backgroundcolor\": \"#E5ECF6\", \"gridcolor\": \"white\", \"gridwidth\": 2, \"linecolor\": \"white\", \"showbackground\": true, \"ticks\": \"\", \"zerolinecolor\": \"white\"}, \"zaxis\": {\"backgroundcolor\": \"#E5ECF6\", \"gridcolor\": \"white\", \"gridwidth\": 2, \"linecolor\": \"white\", \"showbackground\": true, \"ticks\": \"\", \"zerolinecolor\": \"white\"}}, \"shapedefaults\": {\"line\": {\"color\": \"#2a3f5f\"}}, \"ternary\": {\"aaxis\": {\"gridcolor\": \"white\", \"linecolor\": \"white\", \"ticks\": \"\"}, \"baxis\": {\"gridcolor\": \"white\", \"linecolor\": \"white\", \"ticks\": \"\"}, \"bgcolor\": \"#E5ECF6\", \"caxis\": {\"gridcolor\": \"white\", \"linecolor\": \"white\", \"ticks\": \"\"}}, \"title\": {\"x\": 0.05}, \"xaxis\": {\"automargin\": true, \"gridcolor\": \"white\", \"linecolor\": \"white\", \"ticks\": \"\", \"title\": {\"standoff\": 15}, \"zerolinecolor\": \"white\", \"zerolinewidth\": 2}, \"yaxis\": {\"automargin\": true, \"gridcolor\": \"white\", \"linecolor\": \"white\", \"ticks\": \"\", \"title\": {\"standoff\": 15}, \"zerolinecolor\": \"white\", \"zerolinewidth\": 2}}}, \"width\": 900, \"xaxis\": {\"anchor\": \"y\", \"domain\": [0.0, 1.0], \"title\": {\"text\": \"cat1\"}}, \"xaxis10\": {\"anchor\": \"y10\", \"domain\": [0.0, 1.0], \"title\": {\"text\": \"cat10\"}}, \"xaxis2\": {\"anchor\": \"y2\", \"domain\": [0.0, 1.0], \"title\": {\"text\": \"cat2\"}}, \"xaxis3\": {\"anchor\": \"y3\", \"domain\": [0.0, 1.0], \"title\": {\"text\": \"cat3\"}}, \"xaxis4\": {\"anchor\": \"y4\", \"domain\": [0.0, 1.0], \"title\": {\"text\": \"cat4\"}}, \"xaxis5\": {\"anchor\": \"y5\", \"domain\": [0.0, 1.0], \"title\": {\"text\": \"cat5\"}}, \"xaxis6\": {\"anchor\": \"y6\", \"domain\": [0.0, 1.0], \"title\": {\"text\": \"cat6\"}}, \"xaxis7\": {\"anchor\": \"y7\", \"domain\": [0.0, 1.0], \"title\": {\"text\": \"cat7\"}}, \"xaxis8\": {\"anchor\": \"y8\", \"domain\": [0.0, 1.0], \"title\": {\"text\": \"cat8\"}}, \"xaxis9\": {\"anchor\": \"y9\", \"domain\": [0.0, 1.0], \"title\": {\"text\": \"cat9\"}}, \"yaxis\": {\"anchor\": \"x\", \"domain\": [0.9269999999999999, 0.9999999999999999]}, \"yaxis10\": {\"anchor\": \"x10\", \"domain\": [0.0, 0.073]}, \"yaxis2\": {\"anchor\": \"x2\", \"domain\": [0.824, 0.8969999999999999]}, \"yaxis3\": {\"anchor\": \"x3\", \"domain\": [0.721, 0.7939999999999999]}, \"yaxis4\": {\"anchor\": \"x4\", \"domain\": [0.618, 0.691]}, \"yaxis5\": {\"anchor\": \"x5\", \"domain\": [0.515, 0.588]}, \"yaxis6\": {\"anchor\": \"x6\", \"domain\": [0.412, 0.485]}, \"yaxis7\": {\"anchor\": \"x7\", \"domain\": [0.30899999999999994, 0.38199999999999995]}, \"yaxis8\": {\"anchor\": \"x8\", \"domain\": [0.206, 0.27899999999999997]}, \"yaxis9\": {\"anchor\": \"x9\", \"domain\": [0.103, 0.176]}},\n",
              "                        {\"responsive\": true}\n",
              "                    ).then(function(){\n",
              "                            \n",
              "var gd = document.getElementById('adf46dbe-617c-40c4-82a4-50bd6c14fe39');\n",
              "var x = new MutationObserver(function (mutations, observer) {{\n",
              "        var display = window.getComputedStyle(gd).display;\n",
              "        if (!display || display === 'none') {{\n",
              "            console.log([gd, 'removed!']);\n",
              "            Plotly.purge(gd);\n",
              "            observer.disconnect();\n",
              "        }}\n",
              "}});\n",
              "\n",
              "// Listen for the removal of the full notebook cells\n",
              "var notebookContainer = gd.closest('#notebook-container');\n",
              "if (notebookContainer) {{\n",
              "    x.observe(notebookContainer, {childList: true});\n",
              "}}\n",
              "\n",
              "// Listen for the clearing of the current output cell\n",
              "var outputEl = gd.closest('.output');\n",
              "if (outputEl) {{\n",
              "    x.observe(outputEl, {childList: true});\n",
              "}}\n",
              "\n",
              "                        })\n",
              "                };\n",
              "                \n",
              "            </script>\n",
              "        </div>\n",
              "</body>\n",
              "</html>"
            ]
          },
          "metadata": {
            "tags": []
          }
        }
      ]
    },
    {
      "cell_type": "code",
      "metadata": {
        "id": "7mrhf8k5QvV9"
      },
      "source": [
        "def print_value_counts(cat):\n",
        "  label0 = train_0[cat].value_counts()\n",
        "  label1 = train_1[cat].value_counts()\n",
        "  output = pd.DataFrame(data={'label 0': label0,\n",
        "                              'label 1': label1,\n",
        "                              'total' : train[cat].value_counts()})\n",
        "  output['label1share'] = output['label 1'].div(output['total'], axis=0).round(2)\n",
        "  print(output.sort_values('total', ascending=False))\n",
        "  return output\n"
      ],
      "execution_count": null,
      "outputs": []
    },
    {
      "cell_type": "code",
      "metadata": {
        "colab": {
          "base_uri": "https://localhost:8080/"
        },
        "id": "PEqHQpP4GWdN",
        "outputId": "14815025-ecbb-4f53-8ef9-c169a05279c8"
      },
      "source": [
        "#----------------------cat0----------------------\n",
        "\n",
        "output = print_value_counts('cat0')\n",
        "#Almost no label 1's in category B"
      ],
      "execution_count": null,
      "outputs": [
        {
          "output_type": "stream",
          "text": [
            "   label 0  label 1   total  label1share\n",
            "A   148852    74673  223525         0.33\n",
            "B    71687     4788   76475         0.06\n"
          ],
          "name": "stdout"
        }
      ]
    },
    {
      "cell_type": "code",
      "metadata": {
        "colab": {
          "base_uri": "https://localhost:8080/"
        },
        "id": "eJuo51VOGUjt",
        "outputId": "d534cacd-35d1-4876-ed73-404a563a16ab"
      },
      "source": [
        "#----------------------cat1----------------------\n",
        "\n",
        "output = print_value_counts('cat1')\n",
        "#D and E are small but split evenly"
      ],
      "execution_count": null,
      "outputs": [
        {
          "output_type": "stream",
          "text": [
            "   label 0  label 1  total  label1share\n",
            "I    78807    12002  90809         0.13\n",
            "F    35110     8708  43818         0.20\n",
            "K    31846    10024  41870         0.24\n",
            "L    15654    16237  31891         0.51\n",
            "H     8573     8684  17257         0.50\n",
            "N     8614     4617  13231         0.35\n",
            "M     7599     3755  11354         0.33\n",
            "G     4797     6451  11248         0.57\n",
            "A    10081      466  10547         0.04\n",
            "J     8478     1558  10036         0.16\n",
            "O     5203     3537   8740         0.40\n",
            "B     4148     2699   6847         0.39\n",
            "C     1265      438   1703         0.26\n",
            "D      226      188    414         0.45\n",
            "E      138       97    235         0.41\n"
          ],
          "name": "stdout"
        }
      ]
    },
    {
      "cell_type": "code",
      "metadata": {
        "colab": {
          "base_uri": "https://localhost:8080/"
        },
        "id": "fZH7QHJJQ1iq",
        "outputId": "24fdd80a-3a94-413d-9529-5d44e92d3d5f"
      },
      "source": [
        "#----------------------cat2----------------------\n",
        "\n",
        "output = print_value_counts('cat2')\n",
        "#'N', 'H', 'B', 'S', 'U', 'R', 'K', 'E' all have less than 400 representation, average total label share\n",
        "# Could possibly combine, but portions aren't all that similar"
      ],
      "execution_count": null,
      "outputs": [
        {
          "output_type": "stream",
          "text": [
            "   label 0  label 1   total  label1share\n",
            "A   133307    35387  168694         0.21\n",
            "C    32743     6132   38875         0.16\n",
            "D    18020     4700   22720         0.21\n",
            "G    12564     5661   18225         0.31\n",
            "Q     2733     8168   10901         0.75\n",
            "F     6016     3861    9877         0.39\n",
            "J     5407     3695    9102         0.41\n",
            "M     2811     5257    8068         0.65\n",
            "I     3029     2258    5287         0.43\n",
            "L     1978     2019    3997         0.51\n",
            "O      725     2024    2749         0.74\n",
            "N      276       64     340         0.19\n",
            "H      160       59     219         0.27\n",
            "B      200       18     218         0.08\n",
            "S      134       63     197         0.32\n",
            "U      154       12     166         0.07\n",
            "R       95       34     129         0.26\n",
            "K       93       33     126         0.26\n",
            "E       94       16     110         0.15\n"
          ],
          "name": "stdout"
        }
      ]
    },
    {
      "cell_type": "code",
      "metadata": {
        "colab": {
          "base_uri": "https://localhost:8080/",
          "height": 328
        },
        "id": "KXuH0VGqIHOq",
        "outputId": "d643740b-bb45-443f-8cf1-3bc4d6147b19"
      },
      "source": [
        "output.loc['subtotal'] = output.loc[['N', 'H', 'B', 'S', 'U', 'R', 'K', 'E']].sum(axis=0)[['label 0', 'label 1', 'total']]\n",
        "output.loc['subtotal', 'label1share'] = output.loc['subtotal', 'label 1'] / output.loc['subtotal', 'total']\n",
        "output.loc[['N', 'H', 'B', 'S', 'U', 'R', 'K', 'E', 'subtotal']]\n"
      ],
      "execution_count": null,
      "outputs": [
        {
          "output_type": "execute_result",
          "data": {
            "text/html": [
              "<div>\n",
              "<style scoped>\n",
              "    .dataframe tbody tr th:only-of-type {\n",
              "        vertical-align: middle;\n",
              "    }\n",
              "\n",
              "    .dataframe tbody tr th {\n",
              "        vertical-align: top;\n",
              "    }\n",
              "\n",
              "    .dataframe thead th {\n",
              "        text-align: right;\n",
              "    }\n",
              "</style>\n",
              "<table border=\"1\" class=\"dataframe\">\n",
              "  <thead>\n",
              "    <tr style=\"text-align: right;\">\n",
              "      <th></th>\n",
              "      <th>label 0</th>\n",
              "      <th>label 1</th>\n",
              "      <th>total</th>\n",
              "      <th>label1share</th>\n",
              "    </tr>\n",
              "  </thead>\n",
              "  <tbody>\n",
              "    <tr>\n",
              "      <th>N</th>\n",
              "      <td>276.0</td>\n",
              "      <td>64.0</td>\n",
              "      <td>340.0</td>\n",
              "      <td>0.190000</td>\n",
              "    </tr>\n",
              "    <tr>\n",
              "      <th>H</th>\n",
              "      <td>160.0</td>\n",
              "      <td>59.0</td>\n",
              "      <td>219.0</td>\n",
              "      <td>0.270000</td>\n",
              "    </tr>\n",
              "    <tr>\n",
              "      <th>B</th>\n",
              "      <td>200.0</td>\n",
              "      <td>18.0</td>\n",
              "      <td>218.0</td>\n",
              "      <td>0.080000</td>\n",
              "    </tr>\n",
              "    <tr>\n",
              "      <th>S</th>\n",
              "      <td>134.0</td>\n",
              "      <td>63.0</td>\n",
              "      <td>197.0</td>\n",
              "      <td>0.320000</td>\n",
              "    </tr>\n",
              "    <tr>\n",
              "      <th>U</th>\n",
              "      <td>154.0</td>\n",
              "      <td>12.0</td>\n",
              "      <td>166.0</td>\n",
              "      <td>0.070000</td>\n",
              "    </tr>\n",
              "    <tr>\n",
              "      <th>R</th>\n",
              "      <td>95.0</td>\n",
              "      <td>34.0</td>\n",
              "      <td>129.0</td>\n",
              "      <td>0.260000</td>\n",
              "    </tr>\n",
              "    <tr>\n",
              "      <th>K</th>\n",
              "      <td>93.0</td>\n",
              "      <td>33.0</td>\n",
              "      <td>126.0</td>\n",
              "      <td>0.260000</td>\n",
              "    </tr>\n",
              "    <tr>\n",
              "      <th>E</th>\n",
              "      <td>94.0</td>\n",
              "      <td>16.0</td>\n",
              "      <td>110.0</td>\n",
              "      <td>0.150000</td>\n",
              "    </tr>\n",
              "    <tr>\n",
              "      <th>subtotal</th>\n",
              "      <td>1206.0</td>\n",
              "      <td>299.0</td>\n",
              "      <td>1505.0</td>\n",
              "      <td>0.198671</td>\n",
              "    </tr>\n",
              "  </tbody>\n",
              "</table>\n",
              "</div>"
            ],
            "text/plain": [
              "          label 0  label 1   total  label1share\n",
              "N           276.0     64.0   340.0     0.190000\n",
              "H           160.0     59.0   219.0     0.270000\n",
              "B           200.0     18.0   218.0     0.080000\n",
              "S           134.0     63.0   197.0     0.320000\n",
              "U           154.0     12.0   166.0     0.070000\n",
              "R            95.0     34.0   129.0     0.260000\n",
              "K            93.0     33.0   126.0     0.260000\n",
              "E            94.0     16.0   110.0     0.150000\n",
              "subtotal   1206.0    299.0  1505.0     0.198671"
            ]
          },
          "metadata": {
            "tags": []
          },
          "execution_count": 31
        }
      ]
    },
    {
      "cell_type": "code",
      "metadata": {
        "colab": {
          "base_uri": "https://localhost:8080/"
        },
        "id": "ep1YigqrwcRB",
        "outputId": "ecaba4f6-450d-4b8b-8fd8-3b01e8ce8823"
      },
      "source": [
        "#----------------------cat3----------------------\n",
        "\n",
        "output = print_value_counts('cat3')\n",
        "#'G', 'L', 'J', 'H', 'I', 'N' all have less than 400 representation, fairly split between classes"
      ],
      "execution_count": null,
      "outputs": [
        {
          "output_type": "stream",
          "text": [
            "   label 0  label 1   total  label1share\n",
            "A   139026    48225  187251         0.26\n",
            "B    58620    21331   79951         0.27\n",
            "C    10841     5116   15957         0.32\n",
            "D     7074     1602    8676         0.18\n",
            "E     2438      880    3318         0.27\n",
            "F     1526      963    2489         0.39\n",
            "K      158      688     846         0.81\n",
            "G      177      195     372         0.52\n",
            "L      148      144     292         0.49\n",
            "J      196       90     286         0.31\n",
            "H      197       77     274         0.28\n",
            "I      120       57     177         0.32\n",
            "N       18       93     111         0.84\n"
          ],
          "name": "stdout"
        }
      ]
    },
    {
      "cell_type": "code",
      "metadata": {
        "colab": {
          "base_uri": "https://localhost:8080/"
        },
        "id": "kAnP8BXEJsMi",
        "outputId": "324473b6-4a15-486e-88b5-9946e9b2a7e6"
      },
      "source": [
        "output.loc['subtotal'] = output.loc[['G', 'L', 'J', 'H', 'I', 'N']].sum(axis=0)[['label 0', 'label 1', 'total']]\n",
        "output.loc['subtotal', 'label1share'] = output.loc['subtotal', 'label 1'] / output.loc['subtotal', 'total']\n",
        "print(output.loc[['G', 'L', 'J', 'H', 'I', 'N', 'subtotal']])\n"
      ],
      "execution_count": null,
      "outputs": [
        {
          "output_type": "stream",
          "text": [
            "          label 0  label 1   total  label1share\n",
            "G           177.0    195.0   372.0     0.520000\n",
            "L           148.0    144.0   292.0     0.490000\n",
            "J           196.0     90.0   286.0     0.310000\n",
            "H           197.0     77.0   274.0     0.280000\n",
            "I           120.0     57.0   177.0     0.320000\n",
            "N            18.0     93.0   111.0     0.840000\n",
            "subtotal    856.0    656.0  1512.0     0.433862\n"
          ],
          "name": "stdout"
        }
      ]
    },
    {
      "cell_type": "code",
      "metadata": {
        "colab": {
          "base_uri": "https://localhost:8080/"
        },
        "id": "PHFsJ0GLxu_r",
        "outputId": "8c3a5446-31ad-4154-c2f3-c5f36eeeac56"
      },
      "source": [
        "#----------------------cat4----------------------\n",
        "\n",
        "output = print_value_counts('cat4')\n",
        "#'O', 'B', 'S', 'T', 'L', 'Q', 'P', 'A', 'N', 'R' are below 400"
      ],
      "execution_count": null,
      "outputs": [
        {
          "output_type": "stream",
          "text": [
            "   label 0  label 1   total  label1share\n",
            "E   105953    23432  129385         0.18\n",
            "F    55373    21305   76678         0.28\n",
            "G    20310    10444   30754         0.34\n",
            "D    21762     6157   27919         0.22\n",
            "H    11742    11646   23388         0.50\n",
            "J     2101     2206    4307         0.51\n",
            "I      700     2541    3241         0.78\n",
            "K      785      696    1481         0.47\n",
            "M      326      221     547         0.40\n",
            "C      429       77     506         0.15\n",
            "O      111      219     330         0.66\n",
            "B      159      142     301         0.47\n",
            "S      211       74     285         0.26\n",
            "T      180       35     215         0.16\n",
            "L      100      114     214         0.53\n",
            "Q       74       43     117         0.37\n",
            "P       80       20     100         0.20\n",
            "A       45       47      92         0.51\n",
            "N       62       19      81         0.23\n",
            "R       36       23      59         0.39\n"
          ],
          "name": "stdout"
        }
      ]
    },
    {
      "cell_type": "code",
      "metadata": {
        "colab": {
          "base_uri": "https://localhost:8080/"
        },
        "id": "j6QlgvCdKxkM",
        "outputId": "5ea0314a-0d21-4035-907e-f86d32daca86"
      },
      "source": [
        "output.loc[output['total'] < 400].sort_values('total', ascending=False).index"
      ],
      "execution_count": null,
      "outputs": [
        {
          "output_type": "execute_result",
          "data": {
            "text/plain": [
              "Index(['O', 'B', 'S', 'T', 'L', 'Q', 'P', 'A', 'N', 'R'], dtype='object')"
            ]
          },
          "metadata": {
            "tags": []
          },
          "execution_count": 44
        }
      ]
    },
    {
      "cell_type": "code",
      "metadata": {
        "colab": {
          "base_uri": "https://localhost:8080/"
        },
        "id": "cU-DIZRlyvHF",
        "outputId": "1c66773e-f9db-4bf6-9069-44094c6c2f53"
      },
      "source": [
        "#----------------------cat5----------------------\n",
        "#Unique values for class 0: {'BG', 'BK', 'BO', 'BV', 'T', 'CI', 'CA', 'BS', 'AY', 'N'}\n",
        "#Unique values for class 1: {'CK', 'I', 'AH', 'F', 'BJ', 'C', 'AQ', 'AM', 'BL', 'X'}\n",
        "\n",
        "output = print_value_counts('cat5')\n",
        "#'BI', 'AB', 'BU', 'K', 'G', 'BQ', 'N' are the only ones above 400\n",
        "#Interesting that G, BQ, N, CL and BO have almost no positive representation"
      ],
      "execution_count": null,
      "outputs": [
        {
          "output_type": "stream",
          "text": [
            "    label 0  label 1   total  label1share\n",
            "BI   175558  63005.0  238563         0.26\n",
            "AB    28523  13116.0   41639         0.31\n",
            "BU     5008   1732.0    6740         0.26\n",
            "K      2109    604.0    2713         0.22\n",
            "G       653     30.0     683         0.04\n",
            "..      ...      ...     ...          ...\n",
            "ZZ       25      NaN      25          NaN\n",
            "B        24      NaN      24          NaN\n",
            "BP       19      NaN      19          NaN\n",
            "AG       19      NaN      19          NaN\n",
            "CB       18      NaN      18          NaN\n",
            "\n",
            "[84 rows x 4 columns]\n"
          ],
          "name": "stdout"
        }
      ]
    },
    {
      "cell_type": "code",
      "metadata": {
        "colab": {
          "base_uri": "https://localhost:8080/",
          "height": 359
        },
        "id": "_RcIJpQPL-P-",
        "outputId": "94fd3f99-bd86-4a4f-8972-a78780e19a48"
      },
      "source": [
        "output.sort_values('total', ascending=False).iloc[:10]"
      ],
      "execution_count": null,
      "outputs": [
        {
          "output_type": "execute_result",
          "data": {
            "text/html": [
              "<div>\n",
              "<style scoped>\n",
              "    .dataframe tbody tr th:only-of-type {\n",
              "        vertical-align: middle;\n",
              "    }\n",
              "\n",
              "    .dataframe tbody tr th {\n",
              "        vertical-align: top;\n",
              "    }\n",
              "\n",
              "    .dataframe thead th {\n",
              "        text-align: right;\n",
              "    }\n",
              "</style>\n",
              "<table border=\"1\" class=\"dataframe\">\n",
              "  <thead>\n",
              "    <tr style=\"text-align: right;\">\n",
              "      <th></th>\n",
              "      <th>label 0</th>\n",
              "      <th>label 1</th>\n",
              "      <th>total</th>\n",
              "      <th>label1share</th>\n",
              "    </tr>\n",
              "  </thead>\n",
              "  <tbody>\n",
              "    <tr>\n",
              "      <th>BI</th>\n",
              "      <td>175558</td>\n",
              "      <td>63005.0</td>\n",
              "      <td>238563</td>\n",
              "      <td>0.26</td>\n",
              "    </tr>\n",
              "    <tr>\n",
              "      <th>AB</th>\n",
              "      <td>28523</td>\n",
              "      <td>13116.0</td>\n",
              "      <td>41639</td>\n",
              "      <td>0.31</td>\n",
              "    </tr>\n",
              "    <tr>\n",
              "      <th>BU</th>\n",
              "      <td>5008</td>\n",
              "      <td>1732.0</td>\n",
              "      <td>6740</td>\n",
              "      <td>0.26</td>\n",
              "    </tr>\n",
              "    <tr>\n",
              "      <th>K</th>\n",
              "      <td>2109</td>\n",
              "      <td>604.0</td>\n",
              "      <td>2713</td>\n",
              "      <td>0.22</td>\n",
              "    </tr>\n",
              "    <tr>\n",
              "      <th>G</th>\n",
              "      <td>653</td>\n",
              "      <td>30.0</td>\n",
              "      <td>683</td>\n",
              "      <td>0.04</td>\n",
              "    </tr>\n",
              "    <tr>\n",
              "      <th>BQ</th>\n",
              "      <td>455</td>\n",
              "      <td>28.0</td>\n",
              "      <td>483</td>\n",
              "      <td>0.06</td>\n",
              "    </tr>\n",
              "    <tr>\n",
              "      <th>N</th>\n",
              "      <td>431</td>\n",
              "      <td>16.0</td>\n",
              "      <td>447</td>\n",
              "      <td>0.04</td>\n",
              "    </tr>\n",
              "    <tr>\n",
              "      <th>CL</th>\n",
              "      <td>313</td>\n",
              "      <td>23.0</td>\n",
              "      <td>336</td>\n",
              "      <td>0.07</td>\n",
              "    </tr>\n",
              "    <tr>\n",
              "      <th>AL</th>\n",
              "      <td>215</td>\n",
              "      <td>57.0</td>\n",
              "      <td>272</td>\n",
              "      <td>0.21</td>\n",
              "    </tr>\n",
              "    <tr>\n",
              "      <th>BO</th>\n",
              "      <td>223</td>\n",
              "      <td>16.0</td>\n",
              "      <td>239</td>\n",
              "      <td>0.07</td>\n",
              "    </tr>\n",
              "  </tbody>\n",
              "</table>\n",
              "</div>"
            ],
            "text/plain": [
              "    label 0  label 1   total  label1share\n",
              "BI   175558  63005.0  238563         0.26\n",
              "AB    28523  13116.0   41639         0.31\n",
              "BU     5008   1732.0    6740         0.26\n",
              "K      2109    604.0    2713         0.22\n",
              "G       653     30.0     683         0.04\n",
              "BQ      455     28.0     483         0.06\n",
              "N       431     16.0     447         0.04\n",
              "CL      313     23.0     336         0.07\n",
              "AL      215     57.0     272         0.21\n",
              "BO      223     16.0     239         0.07"
            ]
          },
          "metadata": {
            "tags": []
          },
          "execution_count": 49
        }
      ]
    },
    {
      "cell_type": "code",
      "metadata": {
        "colab": {
          "base_uri": "https://localhost:8080/"
        },
        "id": "upqqyVNiFtjZ",
        "outputId": "4b752d1a-d0d2-4cd6-ec2d-2377852326ac"
      },
      "source": [
        "output.loc[output['total'] > 400].sort_values('total', ascending=False).index"
      ],
      "execution_count": null,
      "outputs": [
        {
          "output_type": "execute_result",
          "data": {
            "text/plain": [
              "Index(['BI', 'AB', 'BU', 'K', 'G', 'BQ', 'N'], dtype='object')"
            ]
          },
          "metadata": {
            "tags": []
          },
          "execution_count": 51
        }
      ]
    },
    {
      "cell_type": "code",
      "metadata": {
        "colab": {
          "base_uri": "https://localhost:8080/"
        },
        "id": "_qRM8lEPzHc1",
        "outputId": "4a4d3c34-4abf-4558-846b-70558500b383"
      },
      "source": [
        "#----------------------cat6----------------------\n",
        "\n",
        "output = print_value_counts('cat6')\n",
        "#'F', 'D', 'Y', 'B', 'U', 'Q', 'W' are less than 400"
      ],
      "execution_count": null,
      "outputs": [
        {
          "output_type": "stream",
          "text": [
            "   label 0  label 1   total  label1share\n",
            "A   147717    40179  187896         0.21\n",
            "C    48720    22707   71427         0.32\n",
            "E    11410     5171   16581         0.31\n",
            "G     5894     5304   11198         0.47\n",
            "I     3196     3452    6648         0.52\n",
            "M      671     1511    2182         0.69\n",
            "K     1318      234    1552         0.15\n",
            "O      286      387     673         0.58\n",
            "S      367      216     583         0.37\n",
            "F      225       87     312         0.28\n",
            "D      169       45     214         0.21\n",
            "Y      178       34     212         0.16\n",
            "B      153       19     172         0.11\n",
            "U      120       35     155         0.23\n",
            "Q       77       47     124         0.38\n",
            "W       38       33      71         0.46\n"
          ],
          "name": "stdout"
        }
      ]
    },
    {
      "cell_type": "code",
      "metadata": {
        "colab": {
          "base_uri": "https://localhost:8080/"
        },
        "id": "kRac6lOuNHvv",
        "outputId": "80830ff3-9522-46ad-99ee-4a994a70817d"
      },
      "source": [
        "output.loc[output['total'] < 400].sort_values('total', ascending=False).index"
      ],
      "execution_count": null,
      "outputs": [
        {
          "output_type": "execute_result",
          "data": {
            "text/plain": [
              "Index(['F', 'D', 'Y', 'B', 'U', 'Q', 'W'], dtype='object')"
            ]
          },
          "metadata": {
            "tags": []
          },
          "execution_count": 53
        }
      ]
    },
    {
      "cell_type": "code",
      "metadata": {
        "colab": {
          "base_uri": "https://localhost:8080/"
        },
        "id": "5Kxsz4CQzg-d",
        "outputId": "3ec6ab7d-ad57-4c17-b35b-9e4172adfdcf"
      },
      "source": [
        "#----------------------cat7----------------------\n",
        "\n",
        "#Unique values for class 0: {'O', 'R', 'AP', 'AA', 'Y', 'AY'}\n",
        "#Unique values for class 1: {'BA', 'AL', 'AD', 'AC', 'L', 'V'}\n",
        "\n",
        "output = print_value_counts('cat7')"
      ],
      "execution_count": null,
      "outputs": [
        {
          "output_type": "stream",
          "text": [
            "    label 0  label 1  total  label1share\n",
            "AH    29056    16762  45818         0.37\n",
            "E     32474     7127  39601         0.18\n",
            "AS    16452     8874  25326         0.35\n",
            "J     11082     5053  16135         0.31\n",
            "AN    12434     3663  16097         0.23\n",
            "U     13077     2597  15674         0.17\n",
            "N     12452     2531  14983         0.17\n",
            "AF     4343     7112  11455         0.62\n",
            "AK     8302     1395   9697         0.14\n",
            "AV     6640     1318   7958         0.17\n",
            "S      6104     1817   7921         0.23\n",
            "AI     6440     1228   7668         0.16\n",
            "A      4211     2221   6432         0.35\n",
            "K      4100     2164   6264         0.35\n",
            "Y      5569      327   5896         0.06\n",
            "G      3709     1947   5656         0.34\n",
            "F      4863      687   5550         0.12\n",
            "AW     4499      823   5322         0.15\n",
            "C      1722     2602   4324         0.60\n",
            "AA     3380      312   3692         0.08\n",
            "R      2704      287   2991         0.10\n",
            "AX     1819      816   2635         0.31\n",
            "O      2171      367   2538         0.14\n",
            "AP     2016      295   2311         0.13\n",
            "AD     1409      417   1826         0.23\n",
            "V      1012      786   1798         0.44\n",
            "AY     1585      164   1749         0.09\n",
            "AO     1398      336   1734         0.19\n",
            "AG     1495      211   1706         0.12\n",
            "H      1490      202   1692         0.12\n",
            "AL      718      854   1572         0.54\n",
            "W      1223      302   1525         0.20\n",
            "B      1195      213   1408         0.15\n",
            "Q      1074      232   1306         0.18\n",
            "AM      961      222   1183         0.19\n",
            "AR      828      293   1121         0.26\n",
            "L       551      390    941         0.41\n",
            "AT      845       73    918         0.08\n",
            "M       529      378    907         0.42\n",
            "D       793       42    835         0.05\n",
            "BA      187      594    781         0.76\n",
            "AU      604       67    671         0.10\n",
            "X       588       74    662         0.11\n",
            "AC      207      453    660         0.69\n",
            "I       302      338    640         0.53\n",
            "P       497      114    611         0.19\n",
            "AB      461       78    539         0.14\n",
            "AE      319      139    458         0.30\n",
            "T       321       58    379         0.15\n",
            "AJ      182       47    229         0.21\n",
            "AQ      146       59    205         0.29\n"
          ],
          "name": "stdout"
        }
      ]
    },
    {
      "cell_type": "code",
      "metadata": {
        "colab": {
          "base_uri": "https://localhost:8080/",
          "height": 204
        },
        "id": "FKWr6hie5b8i",
        "outputId": "ca2712de-c65a-4dfa-e633-7df935053621"
      },
      "source": [
        "#Low number (<1000) criteria too restrictive (not enough to merge)\n",
        "output.loc[(output['label1share'] < .15) &\n",
        "           (output['total'] < 1000)]"
      ],
      "execution_count": null,
      "outputs": [
        {
          "output_type": "execute_result",
          "data": {
            "text/html": [
              "<div>\n",
              "<style scoped>\n",
              "    .dataframe tbody tr th:only-of-type {\n",
              "        vertical-align: middle;\n",
              "    }\n",
              "\n",
              "    .dataframe tbody tr th {\n",
              "        vertical-align: top;\n",
              "    }\n",
              "\n",
              "    .dataframe thead th {\n",
              "        text-align: right;\n",
              "    }\n",
              "</style>\n",
              "<table border=\"1\" class=\"dataframe\">\n",
              "  <thead>\n",
              "    <tr style=\"text-align: right;\">\n",
              "      <th></th>\n",
              "      <th>label 0</th>\n",
              "      <th>label 1</th>\n",
              "      <th>total</th>\n",
              "      <th>label1share</th>\n",
              "    </tr>\n",
              "  </thead>\n",
              "  <tbody>\n",
              "    <tr>\n",
              "      <th>AB</th>\n",
              "      <td>461</td>\n",
              "      <td>78</td>\n",
              "      <td>539</td>\n",
              "      <td>0.14</td>\n",
              "    </tr>\n",
              "    <tr>\n",
              "      <th>AT</th>\n",
              "      <td>845</td>\n",
              "      <td>73</td>\n",
              "      <td>918</td>\n",
              "      <td>0.08</td>\n",
              "    </tr>\n",
              "    <tr>\n",
              "      <th>AU</th>\n",
              "      <td>604</td>\n",
              "      <td>67</td>\n",
              "      <td>671</td>\n",
              "      <td>0.10</td>\n",
              "    </tr>\n",
              "    <tr>\n",
              "      <th>D</th>\n",
              "      <td>793</td>\n",
              "      <td>42</td>\n",
              "      <td>835</td>\n",
              "      <td>0.05</td>\n",
              "    </tr>\n",
              "    <tr>\n",
              "      <th>X</th>\n",
              "      <td>588</td>\n",
              "      <td>74</td>\n",
              "      <td>662</td>\n",
              "      <td>0.11</td>\n",
              "    </tr>\n",
              "  </tbody>\n",
              "</table>\n",
              "</div>"
            ],
            "text/plain": [
              "    label 0  label 1  total  label1share\n",
              "AB      461       78    539         0.14\n",
              "AT      845       73    918         0.08\n",
              "AU      604       67    671         0.10\n",
              "D       793       42    835         0.05\n",
              "X       588       74    662         0.11"
            ]
          },
          "metadata": {
            "tags": []
          },
          "execution_count": 104
        }
      ]
    },
    {
      "cell_type": "code",
      "metadata": {
        "colab": {
          "base_uri": "https://localhost:8080/",
          "height": 204
        },
        "id": "59u0lyS26iGa",
        "outputId": "273e5011-477a-438c-840f-f5b0ccd1b5eb"
      },
      "source": [
        "#Low number (<1000) criteria too restrictive (not enough to merge)\n",
        "output.loc[(output['label1share'] > .40) &\n",
        "           (output['total'] < 1000)]"
      ],
      "execution_count": null,
      "outputs": [
        {
          "output_type": "execute_result",
          "data": {
            "text/html": [
              "<div>\n",
              "<style scoped>\n",
              "    .dataframe tbody tr th:only-of-type {\n",
              "        vertical-align: middle;\n",
              "    }\n",
              "\n",
              "    .dataframe tbody tr th {\n",
              "        vertical-align: top;\n",
              "    }\n",
              "\n",
              "    .dataframe thead th {\n",
              "        text-align: right;\n",
              "    }\n",
              "</style>\n",
              "<table border=\"1\" class=\"dataframe\">\n",
              "  <thead>\n",
              "    <tr style=\"text-align: right;\">\n",
              "      <th></th>\n",
              "      <th>label 0</th>\n",
              "      <th>label 1</th>\n",
              "      <th>total</th>\n",
              "      <th>label1share</th>\n",
              "    </tr>\n",
              "  </thead>\n",
              "  <tbody>\n",
              "    <tr>\n",
              "      <th>AC</th>\n",
              "      <td>207</td>\n",
              "      <td>453</td>\n",
              "      <td>660</td>\n",
              "      <td>0.69</td>\n",
              "    </tr>\n",
              "    <tr>\n",
              "      <th>BA</th>\n",
              "      <td>187</td>\n",
              "      <td>594</td>\n",
              "      <td>781</td>\n",
              "      <td>0.76</td>\n",
              "    </tr>\n",
              "    <tr>\n",
              "      <th>I</th>\n",
              "      <td>302</td>\n",
              "      <td>338</td>\n",
              "      <td>640</td>\n",
              "      <td>0.53</td>\n",
              "    </tr>\n",
              "    <tr>\n",
              "      <th>L</th>\n",
              "      <td>551</td>\n",
              "      <td>390</td>\n",
              "      <td>941</td>\n",
              "      <td>0.41</td>\n",
              "    </tr>\n",
              "    <tr>\n",
              "      <th>M</th>\n",
              "      <td>529</td>\n",
              "      <td>378</td>\n",
              "      <td>907</td>\n",
              "      <td>0.42</td>\n",
              "    </tr>\n",
              "  </tbody>\n",
              "</table>\n",
              "</div>"
            ],
            "text/plain": [
              "    label 0  label 1  total  label1share\n",
              "AC      207      453    660         0.69\n",
              "BA      187      594    781         0.76\n",
              "I       302      338    640         0.53\n",
              "L       551      390    941         0.41\n",
              "M       529      378    907         0.42"
            ]
          },
          "metadata": {
            "tags": []
          },
          "execution_count": 105
        }
      ]
    },
    {
      "cell_type": "code",
      "metadata": {
        "colab": {
          "base_uri": "https://localhost:8080/"
        },
        "id": "dWG8hLk67YLh",
        "outputId": "e09c2ae5-2f0b-436d-c50e-010e9eeeb367"
      },
      "source": [
        "#@AndresHG suggestion \n",
        "subtotal_name = 'subtotal_Andres'\n",
        "criteria = ['Y', 'AA', 'R', 'O', 'AP', 'AY']\n",
        "\n",
        "output.loc[subtotal_name] = output.loc[criteria].loc[:,['label 0', 'label 1', 'total']].sum(axis=0)\n",
        "\n",
        "output.loc[subtotal_name, 'label1share'] = output.loc[subtotal_name, 'label 1'] \\\n",
        "                                                    / output.loc[subtotal_name, 'total']\n",
        "\n",
        "mask = output.loc[criteria].sort_values('total', ascending=False).index\n",
        "mask = mask.append(pd.Index([subtotal_name]))\n",
        "\n",
        "print(output.loc[mask])\n",
        "#all low label 1 share"
      ],
      "execution_count": null,
      "outputs": [
        {
          "output_type": "stream",
          "text": [
            "                 label 0  label 1    total  label1share\n",
            "Y                 5569.0    327.0   5896.0     0.060000\n",
            "AA                3380.0    312.0   3692.0     0.080000\n",
            "R                 2704.0    287.0   2991.0     0.100000\n",
            "O                 2171.0    367.0   2538.0     0.140000\n",
            "AP                2016.0    295.0   2311.0     0.130000\n",
            "AY                1585.0    164.0   1749.0     0.090000\n",
            "subtotal_Andres  17425.0   1752.0  19177.0     0.091359\n"
          ],
          "name": "stdout"
        }
      ]
    },
    {
      "cell_type": "code",
      "metadata": {
        "colab": {
          "base_uri": "https://localhost:8080/"
        },
        "id": "erwHpZDe7mgn",
        "outputId": "81e1e295-d9c7-48b1-90dd-3813a7cae32e"
      },
      "source": [
        "#sorting by low positive and below 6000 (max of @AndresHG)\n",
        "subtotal_name = 'subtotal_low_poz_6000'\n",
        "criteria = (output['label1share'] < .15) & (output['total'] < 6000)\n",
        "\n",
        "output.loc[subtotal_name] = output.loc[criteria].loc[:,['label 0', 'label 1', 'total']].sum(axis=0)\n",
        "\n",
        "output.loc[subtotal_name, 'label1share'] = output.loc[subtotal_name, 'label 1'] \\\n",
        "                                                    / output.loc[subtotal_name, 'total']\n",
        "\n",
        "mask = output.loc[criteria].sort_values('total', ascending=False).index\n",
        "mask = mask.append(pd.Index([subtotal_name]))\n",
        "\n",
        "print(output.loc[mask])\n",
        "\n",
        "#Y and F seem significant enough to have on their own, think the cut shoudld be 4000"
      ],
      "execution_count": null,
      "outputs": [
        {
          "output_type": "stream",
          "text": [
            "                       label 0  label 1    total  label1share\n",
            "Y                       5569.0    327.0   5896.0     0.060000\n",
            "F                       4863.0    687.0   5550.0     0.120000\n",
            "AA                      3380.0    312.0   3692.0     0.080000\n",
            "R                       2704.0    287.0   2991.0     0.100000\n",
            "O                       2171.0    367.0   2538.0     0.140000\n",
            "AP                      2016.0    295.0   2311.0     0.130000\n",
            "AY                      1585.0    164.0   1749.0     0.090000\n",
            "AG                      1495.0    211.0   1706.0     0.120000\n",
            "H                       1490.0    202.0   1692.0     0.120000\n",
            "AT                       845.0     73.0    918.0     0.080000\n",
            "D                        793.0     42.0    835.0     0.050000\n",
            "AU                       604.0     67.0    671.0     0.100000\n",
            "X                        588.0     74.0    662.0     0.110000\n",
            "AB                       461.0     78.0    539.0     0.140000\n",
            "subtotal_low_poz_6000  28564.0   3186.0  31750.0     0.100346\n"
          ],
          "name": "stdout"
        }
      ]
    },
    {
      "cell_type": "code",
      "metadata": {
        "colab": {
          "base_uri": "https://localhost:8080/"
        },
        "id": "tZNm4inHPBEB",
        "outputId": "97ca7b23-321b-4078-814a-90ab9c61bcb2"
      },
      "source": [
        "#sorting by low positive and below 4000\n",
        "subtotal_name = 'subtotal_low_poz_4000'\n",
        "criteria = (output['label1share'] < .15) & (output['total'] < 4000)\n",
        "\n",
        "output.loc[subtotal_name] = output.loc[criteria].loc[:,['label 0', 'label 1', 'total']].sum(axis=0)\n",
        "\n",
        "output.loc[subtotal_name, 'label1share'] = output.loc[subtotal_name, 'label 1'] \\\n",
        "                                                    / output.loc[subtotal_name, 'total']\n",
        "\n",
        "mask = output.loc[criteria].sort_values('total', ascending=False).index\n",
        "\n",
        "print(f'Final: {mask}')\n",
        "\n",
        "mask = mask.append(pd.Index([subtotal_name]))\n",
        "\n",
        "print(output.loc[mask])\n",
        "\n",
        "#Final criteria"
      ],
      "execution_count": null,
      "outputs": [
        {
          "output_type": "stream",
          "text": [
            "Final: Index(['AA', 'R', 'O', 'AP', 'AY', 'AG', 'H', 'AT', 'D', 'AU', 'X', 'AB'], dtype='object')\n",
            "                       label 0  label 1    total  label1share\n",
            "AA                      3380.0    312.0   3692.0     0.080000\n",
            "R                       2704.0    287.0   2991.0     0.100000\n",
            "O                       2171.0    367.0   2538.0     0.140000\n",
            "AP                      2016.0    295.0   2311.0     0.130000\n",
            "AY                      1585.0    164.0   1749.0     0.090000\n",
            "AG                      1495.0    211.0   1706.0     0.120000\n",
            "H                       1490.0    202.0   1692.0     0.120000\n",
            "AT                       845.0     73.0    918.0     0.080000\n",
            "D                        793.0     42.0    835.0     0.050000\n",
            "AU                       604.0     67.0    671.0     0.100000\n",
            "X                        588.0     74.0    662.0     0.110000\n",
            "AB                       461.0     78.0    539.0     0.140000\n",
            "subtotal_low_poz_4000  18132.0   2172.0  20304.0     0.106974\n"
          ],
          "name": "stdout"
        }
      ]
    },
    {
      "cell_type": "code",
      "metadata": {
        "colab": {
          "base_uri": "https://localhost:8080/"
        },
        "id": "B2cSYaNB70Ex",
        "outputId": "a25a6a0f-af81-4f4d-b1c4-6139790a9e72"
      },
      "source": [
        "#Second @AndresHG suggestion \n",
        "subtotal_name = 'subtotal_Andres2'\n",
        "criteria = ['AL', 'V', 'BA', 'AC', 'AD', 'L']\n",
        "\n",
        "output.loc[subtotal_name] = output.loc[criteria].loc[:,['label 0', 'label 1', 'total']].sum(axis=0)\n",
        "\n",
        "output.loc[subtotal_name, 'label1share'] = output.loc[subtotal_name, 'label 1'] \\\n",
        "                                                    / output.loc[subtotal_name, 'total']\n",
        "\n",
        "mask = output.loc[criteria].sort_values('total', ascending=False).index\n",
        "mask = mask.append(pd.Index([subtotal_name]))\n",
        "\n",
        "print(output.loc[mask])\n",
        "\n",
        "#all high positivity, low representation < 2000"
      ],
      "execution_count": null,
      "outputs": [
        {
          "output_type": "stream",
          "text": [
            "                  label 0  label 1   total  label1share\n",
            "AD                 1409.0    417.0  1826.0     0.230000\n",
            "V                  1012.0    786.0  1798.0     0.440000\n",
            "AL                  718.0    854.0  1572.0     0.540000\n",
            "L                   551.0    390.0   941.0     0.410000\n",
            "BA                  187.0    594.0   781.0     0.760000\n",
            "AC                  207.0    453.0   660.0     0.690000\n",
            "subtotal_Andres2   4084.0   3494.0  7578.0     0.461072\n"
          ],
          "name": "stdout"
        }
      ]
    },
    {
      "cell_type": "code",
      "metadata": {
        "colab": {
          "base_uri": "https://localhost:8080/"
        },
        "id": "KbHPoXGtBEJM",
        "outputId": "9067526e-7aa6-4fb2-c360-08c9f422701a"
      },
      "source": [
        "#sorting by high positive and below 2000 (max of @AndresHG)\n",
        "subtotal_name = 'subtotal_hi_poz_2000'\n",
        "criteria = (output['label1share'] > .40) & (output['total'] < 2000)\n",
        "\n",
        "output.loc[subtotal_name] = output.loc[criteria].loc[:,['label 0', 'label 1', 'total']].sum(axis=0)\n",
        "\n",
        "output.loc[subtotal_name, 'label1share'] = output.loc[subtotal_name, 'label 1'] \\\n",
        "                                                    / output.loc[subtotal_name, 'total']\n",
        "\n",
        "mask = output.loc[criteria].sort_values('total', ascending=False).index\n",
        "\n",
        "print(f'Final: {mask}')\n",
        "\n",
        "mask = mask.append(pd.Index([subtotal_name]))\n",
        "\n",
        "print(output.loc[mask])\n",
        "#includes additional categories to merge, M and I"
      ],
      "execution_count": null,
      "outputs": [
        {
          "output_type": "stream",
          "text": [
            "Final: Index(['V', 'AL', 'L', 'M', 'BA', 'AC', 'I'], dtype='object')\n",
            "                      label 0  label 1   total  label1share\n",
            "V                      1012.0    786.0  1798.0      0.44000\n",
            "AL                      718.0    854.0  1572.0      0.54000\n",
            "L                       551.0    390.0   941.0      0.41000\n",
            "M                       529.0    378.0   907.0      0.42000\n",
            "BA                      187.0    594.0   781.0      0.76000\n",
            "AC                      207.0    453.0   660.0      0.69000\n",
            "I                       302.0    338.0   640.0      0.53000\n",
            "subtotal_hi_poz_2000   3506.0   3793.0  7299.0      0.51966\n"
          ],
          "name": "stdout"
        }
      ]
    },
    {
      "cell_type": "code",
      "metadata": {
        "colab": {
          "base_uri": "https://localhost:8080/"
        },
        "id": "xZh5q7YvBfnj",
        "outputId": "0b806c96-0d05-49eb-a137-e788d7ca74a3"
      },
      "source": [
        "#----------------------cat8----------------------\n",
        "#Unique values for class 0: {'AS', 'I', 'BJ', 'BC', 'AW'}\n",
        "#Unique values for class 1: {'F', 'AG', 'BD', 'AO', 'A'}\n",
        "\n",
        "output = print_value_counts('cat8')"
      ],
      "execution_count": null,
      "outputs": [
        {
          "output_type": "stream",
          "text": [
            "    label 0  label 1  total  label1share\n",
            "BM    33136   9244.0  42380         0.22\n",
            "AE    19655   4787.0  24442         0.20\n",
            "AX    16865   5264.0  22129         0.24\n",
            "Y     16885   3979.0  20864         0.19\n",
            "H      9345   6216.0  15561         0.40\n",
            "..      ...      ...    ...          ...\n",
            "AQ       58     11.0     69         0.16\n",
            "T        66      1.0     67         0.01\n",
            "B        55      2.0     57         0.04\n",
            "AC       57      NaN     57          NaN\n",
            "AR       32      1.0     33         0.03\n",
            "\n",
            "[61 rows x 4 columns]\n"
          ],
          "name": "stdout"
        }
      ]
    },
    {
      "cell_type": "code",
      "metadata": {
        "colab": {
          "base_uri": "https://localhost:8080/"
        },
        "id": "0SNSmO6zXHng",
        "outputId": "a81f3498-5755-473a-ec81-1c6d972ff35c"
      },
      "source": [
        "#low positivity, low total\n",
        "subtotal_name = 'subtotal_low_poz_2000'\n",
        "criteria = (output['label1share'] < .15) & (output['total'] < 2000)\n",
        "\n",
        "output.loc[subtotal_name] = output.loc[criteria].loc[:,['label 0', 'label 1', 'total']].sum(axis=0)\n",
        "\n",
        "output.loc[subtotal_name, 'label1share'] = output.loc[subtotal_name, 'label 1'] \\\n",
        "                                                    / output.loc[subtotal_name, 'total']\n",
        "\n",
        "mask = output.loc[criteria].sort_values('total', ascending=False).index\n",
        "\n",
        "print(f'Final: {mask}')\n",
        "\n",
        "mask = mask.append(pd.Index([subtotal_name]))\n",
        "\n",
        "print(output.loc[mask])"
      ],
      "execution_count": null,
      "outputs": [
        {
          "output_type": "stream",
          "text": [
            "Final: Index(['BK', 'AM', 'AY', 'AI', 'BE', 'E', 'V', 'BB', 'AP', 'AL', 'C', 'T', 'B',\n",
            "       'AR'],\n",
            "      dtype='object')\n",
            "                       label 0  label 1   total  label1share\n",
            "BK                       864.0    101.0   965.0     0.100000\n",
            "AM                       752.0     68.0   820.0     0.080000\n",
            "AY                       622.0     61.0   683.0     0.090000\n",
            "AI                       520.0     49.0   569.0     0.090000\n",
            "BE                       278.0      8.0   286.0     0.030000\n",
            "E                        219.0      2.0   221.0     0.010000\n",
            "V                        210.0      9.0   219.0     0.040000\n",
            "BB                       196.0     12.0   208.0     0.060000\n",
            "AP                       170.0     19.0   189.0     0.100000\n",
            "AL                       160.0      8.0   168.0     0.050000\n",
            "C                        129.0     13.0   142.0     0.090000\n",
            "T                         66.0      1.0    67.0     0.010000\n",
            "B                         55.0      2.0    57.0     0.040000\n",
            "AR                        32.0      1.0    33.0     0.030000\n",
            "subtotal_low_poz_2000   4273.0    354.0  4627.0     0.076507\n"
          ],
          "name": "stdout"
        }
      ]
    },
    {
      "cell_type": "code",
      "metadata": {
        "colab": {
          "base_uri": "https://localhost:8080/"
        },
        "id": "T6SJDNCIYJtU",
        "outputId": "de3fcf42-83e9-4d3e-df89-5e900b038ca8"
      },
      "source": [
        "#high positivity, low total\n",
        "subtotal_name = 'subtotal_hi_poz_2000'\n",
        "criteria = (output['label1share'] > .40) & (output['total'] < 2000)\n",
        "\n",
        "output.loc[subtotal_name] = output.loc[criteria].loc[:,['label 0', 'label 1', 'total']].sum(axis=0)\n",
        "\n",
        "output.loc[subtotal_name, 'label1share'] = output.loc[subtotal_name, 'label 1'] \\\n",
        "                                                    / output.loc[subtotal_name, 'total']\n",
        "\n",
        "mask = output.loc[criteria].sort_values('total', ascending=False).index\n",
        "\n",
        "print(f'Final: {mask}')\n",
        "\n",
        "mask = mask.append(pd.Index([subtotal_name]))\n",
        "\n",
        "print(output.loc[mask])"
      ],
      "execution_count": null,
      "outputs": [
        {
          "output_type": "stream",
          "text": [
            "Final: Index(['AO', 'F', 'AV'], dtype='object')\n",
            "                      label 0  label 1   total  label1share\n",
            "AO                      973.0    844.0  1817.0     0.460000\n",
            "F                       533.0   1173.0  1706.0     0.690000\n",
            "AV                      305.0    269.0   574.0     0.470000\n",
            "subtotal_hi_poz_2000   1811.0   2286.0  4097.0     0.557969\n"
          ],
          "name": "stdout"
        }
      ]
    },
    {
      "cell_type": "code",
      "metadata": {
        "colab": {
          "base_uri": "https://localhost:8080/"
        },
        "id": "uRHE56mfZOb3",
        "outputId": "a2e35b26-dad6-4417-9356-3daa4a2e7f66"
      },
      "source": [
        "#----------------------cat9----------------------\n",
        "\n",
        "output = print_value_counts('cat9')"
      ],
      "execution_count": null,
      "outputs": [
        {
          "output_type": "stream",
          "text": [
            "   label 0  label 1   total  label1share\n",
            "A   138767    63178  201945         0.31\n",
            "E    29518     3528   33046         0.11\n",
            "C    18693     4667   23360         0.20\n",
            "F    12164     2207   14371         0.15\n",
            "J     7439     1543    8982         0.17\n",
            "I     5906     2025    7931         0.26\n",
            "N     3412     1373    4785         0.29\n",
            "L     2594      363    2957         0.12\n",
            "R      668      194     862         0.23\n",
            "V      219      141     360         0.39\n",
            "B      172      108     280         0.39\n",
            "G      193       21     214         0.10\n",
            "Q      163       48     211         0.23\n",
            "D      184        5     189         0.03\n",
            "W      118        7     125         0.06\n",
            "O      110       12     122         0.10\n",
            "U       81       20     101         0.20\n",
            "X       90        9      99         0.09\n",
            "S       48       12      60         0.20\n"
          ],
          "name": "stdout"
        }
      ]
    },
    {
      "cell_type": "code",
      "metadata": {
        "colab": {
          "base_uri": "https://localhost:8080/"
        },
        "id": "z45rWkHoZXaf",
        "outputId": "bba2d97b-ce98-490b-e33a-1a26d20a438a"
      },
      "source": [
        "#below 400\n",
        "subtotal_name = 'subtotal_below_400'\n",
        "criteria = (output['total'] < 400)\n",
        "\n",
        "output.loc[subtotal_name] = output.loc[criteria].loc[:,['label 0', 'label 1', 'total']].sum(axis=0)\n",
        "\n",
        "output.loc[subtotal_name, 'label1share'] = output.loc[subtotal_name, 'label 1'] \\\n",
        "                                                    / output.loc[subtotal_name, 'total']\n",
        "\n",
        "mask = output.loc[criteria].sort_values('total', ascending=False).index\n",
        "\n",
        "print(f'Final: {mask}')\n",
        "\n",
        "mask = mask.append(pd.Index([subtotal_name]))\n",
        "\n",
        "print(output.loc[mask])\n"
      ],
      "execution_count": null,
      "outputs": [
        {
          "output_type": "stream",
          "text": [
            "Final: Index(['V', 'B', 'G', 'Q', 'D', 'W', 'O', 'U', 'X', 'S'], dtype='object')\n",
            "                    label 0  label 1   total  label1share\n",
            "V                     219.0    141.0   360.0      0.39000\n",
            "B                     172.0    108.0   280.0      0.39000\n",
            "G                     193.0     21.0   214.0      0.10000\n",
            "Q                     163.0     48.0   211.0      0.23000\n",
            "D                     184.0      5.0   189.0      0.03000\n",
            "W                     118.0      7.0   125.0      0.06000\n",
            "O                     110.0     12.0   122.0      0.10000\n",
            "U                      81.0     20.0   101.0      0.20000\n",
            "X                      90.0      9.0    99.0      0.09000\n",
            "S                      48.0     12.0    60.0      0.20000\n",
            "subtotal_below_400   1378.0    383.0  1761.0      0.21749\n"
          ],
          "name": "stdout"
        }
      ]
    },
    {
      "cell_type": "code",
      "metadata": {
        "colab": {
          "base_uri": "https://localhost:8080/"
        },
        "id": "cFlaLR7lFkvY",
        "outputId": "d0e17137-6786-4620-b0a1-1a705fcad68b"
      },
      "source": [
        "#----------------------cat10----------------------\n",
        "#Unique values for class 0: {'LN', 'EK', 'HJ', 'DF', 'GE', 'IG', 'HB'}\n",
        "#Unique values for class 1: {'GI', 'HC', 'GK', 'CD', 'MC', 'FR', 'JR'}\n",
        "\n",
        "output = print_value_counts('cat10')"
      ],
      "execution_count": null,
      "outputs": [
        {
          "output_type": "stream",
          "text": [
            "    label 0  label 1  total  label1share\n",
            "DJ    24072   7512.0  31584         0.24\n",
            "HK    20432  10566.0  30998         0.34\n",
            "DP    17774   5905.0  23679         0.25\n",
            "GS    13726   2893.0  16619         0.17\n",
            "CR    13415    967.0  14382         0.07\n",
            "..      ...      ...    ...          ...\n",
            "AW        1      NaN      1          NaN\n",
            "LK        1      NaN      1          NaN\n",
            "MK        1      NaN      1          NaN\n",
            "ML        1      NaN      1          NaN\n",
            "MR        1      NaN      1          NaN\n",
            "\n",
            "[299 rows x 4 columns]\n"
          ],
          "name": "stdout"
        }
      ]
    },
    {
      "cell_type": "code",
      "metadata": {
        "colab": {
          "base_uri": "https://localhost:8080/"
        },
        "id": "D8EjQ7sdZ_1G",
        "outputId": "9626d302-7086-4e0c-9369-cc195677a279"
      },
      "source": [
        "#low total\n",
        "subtotal_name = 'subtotal_below_2000'\n",
        "criteria = (output['total'] < 2000) \n",
        "\n",
        "output.loc[subtotal_name] = output.loc[criteria].loc[:,['label 0', 'label 1', 'total']].sum(axis=0)\n",
        "\n",
        "output.loc[subtotal_name, 'label1share'] = output.loc[subtotal_name, 'label 1'] / output.loc[subtotal_name, 'total']\n",
        "\n",
        "mask = output.loc[criteria].sort_values('total', ascending=False).index\n",
        "\n",
        "print(f'Final: {len(mask)} items \\n {mask}')\n",
        "test_mask_tot = mask.copy()\n",
        "\n",
        "mask = mask.append(pd.Index([subtotal_name]))\n",
        "\n",
        "print(output.loc[mask])"
      ],
      "execution_count": null,
      "outputs": [
        {
          "output_type": "stream",
          "text": [
            "Final: 273 items \n",
            " Index(['LY', 'GE', 'GK', 'CS', 'MJ', 'HH', 'CD', 'MC', 'HA', 'GQ',\n",
            "       ...\n",
            "       'CX', 'MW', 'GH', 'MR', 'MO', 'ML', 'MK', 'FW', 'LK', 'GG'],\n",
            "      dtype='object', length=273)\n",
            "                     label 0  label 1    total  label1share\n",
            "LY                    1556.0    420.0   1976.0     0.210000\n",
            "GE                    1816.0    159.0   1975.0     0.080000\n",
            "GK                     957.0    987.0   1944.0     0.510000\n",
            "CS                    1165.0    570.0   1735.0     0.330000\n",
            "MJ                    1236.0    278.0   1514.0     0.180000\n",
            "...                      ...      ...      ...          ...\n",
            "MK                       1.0      NaN      1.0          NaN\n",
            "FW                       1.0      NaN      1.0          NaN\n",
            "LK                       1.0      NaN      1.0          NaN\n",
            "GG                       1.0      NaN      1.0          NaN\n",
            "subtotal_below_2000  41970.0  22249.0  64219.0     0.346455\n",
            "\n",
            "[274 rows x 4 columns]\n"
          ],
          "name": "stdout"
        }
      ]
    },
    {
      "cell_type": "code",
      "metadata": {
        "colab": {
          "base_uri": "https://localhost:8080/"
        },
        "id": "T9a_ll8haz0J",
        "outputId": "d15473b8-4330-4d18-c9c2-ec8f6ca861d9"
      },
      "source": [
        "#low total, low poz\n",
        "subtotal_name = 'subtotal_low_poz_2000'\n",
        "criteria = (output['total'] < 2000) & (pd.isna(output['label1share']) | (output['label1share'] < .15))\n",
        "\n",
        "#74\n",
        "\n",
        "#110\n",
        "\n",
        "output.loc[subtotal_name] = output.loc[criteria].loc[:,['label 0', 'label 1', 'total']].sum(axis=0)\n",
        "\n",
        "output.loc[subtotal_name, 'label1share'] = output.loc[subtotal_name, 'label 1'] / output.loc[subtotal_name, 'total']\n",
        "\n",
        "mask = output.loc[criteria].sort_values('total', ascending=False).index\n",
        "\n",
        "print(f'Final: {len(mask)} items', end='')\n",
        "for i, category in enumerate(mask):\n",
        "  if i % 11 == 0:\n",
        "    print('\\n', end='')\n",
        "  print(f'\\'{category}\\'', end=',')\n",
        "print('\\n')\n",
        "\n",
        "test_mask_low = mask.copy()\n",
        "\n",
        "mask = mask.append(pd.Index([subtotal_name]))\n",
        "\n",
        "print(output.loc[mask])"
      ],
      "execution_count": null,
      "outputs": [
        {
          "output_type": "stream",
          "text": [
            "Final: 110 items\n",
            "'GE','HH','KB','AV','KV','AD','BM','BI','JP','O','JN',\n",
            "'LQ','KS','BG','IT','CJ','CI','KR','CW','K','CO','CG',\n",
            "'KA','EC','EA','IC','DK','GX','EP','CP','BX','ME','CN',\n",
            "'LL','KN','DD','DN','DU','BD','ED','KU','GR','FG','KJ',\n",
            "'KQ','KI','KD','HP','GD','EG','GJ','MA','IQ','CT','IU',\n",
            "'KT','CF','HF','MQ','MP','HY','IM','IP','BO','LR','EH',\n",
            "'FA','MU','EB','IY','CM','DM','JU','EF','DL','MI','HI',\n",
            "'FF','AF','GV','DX','IN','LT','AJ','GF','DA','DT','EN',\n",
            "'JF','LH','CQ','GY','BS','KK','CH','JC','JE','ML','MR',\n",
            "'CX','MW','MO','BA','MK','FW','GG','GH','IL','AW','LK',\n",
            "\n",
            "                       label 0  label 1    total  label1share\n",
            "GE                      1816.0    159.0   1975.0     0.080000\n",
            "HH                      1315.0     64.0   1379.0     0.050000\n",
            "KB                       852.0    141.0    993.0     0.140000\n",
            "AV                       673.0     87.0    760.0     0.110000\n",
            "KV                       509.0     64.0    573.0     0.110000\n",
            "...                        ...      ...      ...          ...\n",
            "GH                         1.0      NaN      1.0          NaN\n",
            "IL                         1.0      NaN      1.0          NaN\n",
            "AW                         1.0      NaN      1.0          NaN\n",
            "LK                         1.0      NaN      1.0          NaN\n",
            "subtotal_low_poz_2000   9374.0    753.0  10127.0     0.074356\n",
            "\n",
            "[111 rows x 4 columns]\n"
          ],
          "name": "stdout"
        }
      ]
    },
    {
      "cell_type": "code",
      "metadata": {
        "colab": {
          "base_uri": "https://localhost:8080/"
        },
        "id": "DFOiEyITbE9b",
        "outputId": "85423e66-5306-457a-f565-2c02b28169cb"
      },
      "source": [
        "#low total, mid poz\n",
        "subtotal_name = 'subtotal_mid_poz_2000'\n",
        "criteria = (output['total'] < 2000) & (output['label1share'] >= .15) & (output['label1share'] < .40) \n",
        "\n",
        "output.loc[subtotal_name] = output.loc[criteria].loc[:,['label 0', 'label 1', 'total']].sum(axis=0)\n",
        "\n",
        "output.loc[subtotal_name, 'label1share'] = output.loc[subtotal_name, 'label 1'] / output.loc[subtotal_name, 'total']\n",
        "\n",
        "mask = output.loc[criteria].sort_values('total', ascending=False).index\n",
        "\n",
        "print(f'Final: {len(mask)} items', end='')\n",
        "for i, category in enumerate(mask):\n",
        "  if i % 11 == 0:\n",
        "    print('\\n', end='')\n",
        "  print(f'\\'{category}\\'', end=',')\n",
        "print('\\n')\n",
        "\n",
        "test_mask_mid = mask.copy()\n",
        "\n",
        "mask = mask.append(pd.Index([subtotal_name]))\n",
        "\n",
        "print(output.loc[mask])"
      ],
      "execution_count": null,
      "outputs": [
        {
          "output_type": "stream",
          "text": [
            "Final: 87 items\n",
            "'LY','CS','MJ','HA','GQ','LI','JW','CB','R','JG','GU',\n",
            "'CU','FS','HL','BY','JD','FN','IJ','JK','MB','BV','IX',\n",
            "'IK','KC','BL','I','DO','HO','MT','AU','P','MH','LU',\n",
            "'DY','AE','LW','FP','T','AA','AN','LX','FL','JI','IB',\n",
            "'MF','W','C','AS','DV','JA','AR','FM','HE','FK','EL',\n",
            "'IH','KG','LC','AK','MS','HM','JB','CY','DW','FX','EU',\n",
            "'EO','S','DH','IF','GN','BQ','X','LJ','FE','Q','GT',\n",
            "'ES','LG','LD','HR','GL','FD','CL','JL','EE','JJ',\n",
            "\n",
            "                       label 0  label 1    total  label1share\n",
            "LY                      1556.0    420.0   1976.0     0.210000\n",
            "CS                      1165.0    570.0   1735.0     0.330000\n",
            "MJ                      1236.0    278.0   1514.0     0.180000\n",
            "HA                       939.0    280.0   1219.0     0.230000\n",
            "GQ                       869.0    229.0   1098.0     0.210000\n",
            "...                        ...      ...      ...          ...\n",
            "CL                        10.0      4.0     14.0     0.290000\n",
            "JL                         8.0      5.0     13.0     0.380000\n",
            "EE                        10.0      2.0     12.0     0.170000\n",
            "JJ                         6.0      3.0      9.0     0.330000\n",
            "subtotal_mid_poz_2000  22542.0   7888.0  30430.0     0.259218\n",
            "\n",
            "[88 rows x 4 columns]\n"
          ],
          "name": "stdout"
        }
      ]
    },
    {
      "cell_type": "code",
      "metadata": {
        "colab": {
          "base_uri": "https://localhost:8080/"
        },
        "id": "vgFDiEsdbPFu",
        "outputId": "04cad1e7-02c5-41e8-a631-b9e58aedac82"
      },
      "source": [
        "#low total, high poz\n",
        "subtotal_name = 'subtotal_hi_poz_2000'\n",
        "criteria = (output['total'] < 2000) & (output['label1share'] >= .40)\n",
        "\n",
        "output.loc[subtotal_name] = output.loc[criteria].loc[:,['label 0', 'label 1', 'total']].sum(axis=0)\n",
        "\n",
        "output.loc[subtotal_name, 'label1share'] = output.loc[subtotal_name, 'label 1'] / output.loc[subtotal_name, 'total']\n",
        "\n",
        "mask = output.loc[criteria].sort_values('total', ascending=False).index\n",
        "\n",
        "print(f'Final: {len(mask)} items', end='')\n",
        "for i, category in enumerate(mask):\n",
        "  if i % 11 == 0:\n",
        "    print('\\n', end='')\n",
        "  print(f'\\'{category}\\'', end=',')\n",
        "print('\\n')\n",
        "\n",
        "test_mask_hi = mask.copy()\n",
        "\n",
        "mask = mask.append(pd.Index([subtotal_name]))\n",
        "\n",
        "print(output.loc[mask])"
      ],
      "execution_count": null,
      "outputs": [
        {
          "output_type": "stream",
          "text": [
            "Final: 76 items\n",
            "'GK','CD','MC','GI','JR','FR','HN','MG','BF','LV','EQ',\n",
            "'EV','V','DI','JX','IA','JT','FI','FC','CC','JH','J',\n",
            "'JO','BC','AP','EY','IV','FO','BP','KX','IO','LE','AB',\n",
            "'GA','IR','AT','E','KF','AH','DQ','FT','D','GB','FJ',\n",
            "'BB','KH','JY','G','KL','EI','AY','AM','MV','BT','FQ',\n",
            "'AC','HU','KP','JV','F','FH','FB','DS','ID','M','AG',\n",
            "'L','GW','HW','AL','GM','EW','DE','DR','FV','Y',\n",
            "\n",
            "                      label 0  label 1    total  label1share\n",
            "GK                      957.0    987.0   1944.0     0.510000\n",
            "CD                       25.0   1235.0   1260.0     0.980000\n",
            "MC                      567.0    653.0   1220.0     0.540000\n",
            "GI                      279.0    695.0    974.0     0.710000\n",
            "JR                      119.0    721.0    840.0     0.860000\n",
            "...                       ...      ...      ...          ...\n",
            "DE                        5.0      6.0     11.0     0.550000\n",
            "DR                        4.0      5.0      9.0     0.560000\n",
            "FV                        3.0      2.0      5.0     0.400000\n",
            "Y                         2.0      2.0      4.0     0.500000\n",
            "subtotal_hi_poz_2000  10054.0  13608.0  23662.0     0.575099\n",
            "\n",
            "[77 rows x 4 columns]\n"
          ],
          "name": "stdout"
        }
      ]
    },
    {
      "cell_type": "code",
      "metadata": {
        "id": "mpFGm-x9qg_G"
      },
      "source": [
        "test_mask_tot = set(test_mask_tot)\n",
        "test_mask_low = set(test_mask_low)\n",
        "test_mask_mid = set(test_mask_mid)\n",
        "test_mask_hi = set(test_mask_hi)\n",
        "\n",
        "leftovers = test_mask_tot - test_mask_low - test_mask_mid - test_mask_hi"
      ],
      "execution_count": null,
      "outputs": []
    },
    {
      "cell_type": "code",
      "metadata": {
        "colab": {
          "base_uri": "https://localhost:8080/"
        },
        "id": "-e75oHW5qxAg",
        "outputId": "f47d21e3-8137-4423-cdd6-aef9ca4bd270"
      },
      "source": [
        "print(leftovers)\n",
        "print(len(leftovers))"
      ],
      "execution_count": null,
      "outputs": [
        {
          "output_type": "stream",
          "text": [
            "{'CX', 'DK', 'FW', 'BA', 'MR', 'DA', 'EG', 'HI', 'EB', 'CN', 'IQ', 'FA', 'IP', 'KD', 'HF', 'FF', 'MU', 'KK', 'CT', 'KU', 'IY', 'IM', 'EH', 'JF', 'BD', 'IN', 'GF', 'IU', 'ME', 'LH', 'JE', 'EN', 'KN', 'JC', 'GD', 'BS', 'CQ', 'MP', 'DM', 'BO', 'CH', 'GG', 'MI', 'JU', 'DX', 'GV', 'GR', 'DN', 'MO', 'MA', 'BX', 'AF', 'AW', 'HY', 'ML', 'MW', 'CF', 'DL', 'LR', 'GH', 'MQ', 'GY', 'ED', 'EF', 'MK', 'DU', 'IL', 'KI', 'LT', 'LK', 'CM', 'AJ', 'GJ', 'DT'}\n",
            "74\n"
          ],
          "name": "stdout"
        }
      ]
    },
    {
      "cell_type": "code",
      "metadata": {
        "colab": {
          "base_uri": "https://localhost:8080/"
        },
        "id": "Mth0WprIq3uo",
        "outputId": "14459381-3ecc-4e00-f723-24750ace0d67"
      },
      "source": [
        "print(len(test_mask_tot), len(test_mask_low), len(test_mask_mid), len(test_mask_hi))\n",
        "273-36-87-76\n"
      ],
      "execution_count": null,
      "outputs": [
        {
          "output_type": "stream",
          "text": [
            "273 36 87 76\n"
          ],
          "name": "stdout"
        },
        {
          "output_type": "execute_result",
          "data": {
            "text/plain": [
              "74"
            ]
          },
          "metadata": {
            "tags": []
          },
          "execution_count": 261
        }
      ]
    },
    {
      "cell_type": "code",
      "metadata": {
        "colab": {
          "base_uri": "https://localhost:8080/",
          "height": 49
        },
        "id": "m-mMUTE8rKed",
        "outputId": "28ac59d9-2a08-4ddd-a651-d01a67fa95f0"
      },
      "source": [
        "leftover_index = pd.Index(leftovers)\n",
        "\n",
        "leftover_index\n",
        "\n",
        "output.loc[leftover_index].loc[pd.notna(output['label 1'])]"
      ],
      "execution_count": null,
      "outputs": [
        {
          "output_type": "execute_result",
          "data": {
            "text/html": [
              "<div>\n",
              "<style scoped>\n",
              "    .dataframe tbody tr th:only-of-type {\n",
              "        vertical-align: middle;\n",
              "    }\n",
              "\n",
              "    .dataframe tbody tr th {\n",
              "        vertical-align: top;\n",
              "    }\n",
              "\n",
              "    .dataframe thead th {\n",
              "        text-align: right;\n",
              "    }\n",
              "</style>\n",
              "<table border=\"1\" class=\"dataframe\">\n",
              "  <thead>\n",
              "    <tr style=\"text-align: right;\">\n",
              "      <th></th>\n",
              "      <th>label 0</th>\n",
              "      <th>label 1</th>\n",
              "      <th>total</th>\n",
              "      <th>label1share</th>\n",
              "    </tr>\n",
              "  </thead>\n",
              "  <tbody>\n",
              "  </tbody>\n",
              "</table>\n",
              "</div>"
            ],
            "text/plain": [
              "Empty DataFrame\n",
              "Columns: [label 0, label 1, total, label1share]\n",
              "Index: []"
            ]
          },
          "metadata": {
            "tags": []
          },
          "execution_count": 269
        }
      ]
    },
    {
      "cell_type": "markdown",
      "metadata": {
        "id": "lhTOgxUArABg"
      },
      "source": [
        "Comments\n",
        "* cat0: almost no positives in the B category\n",
        "* cat1: D and E are not large and fairly evenly split\n",
        "* cat2: ['N', 'H', 'B', 'S', 'U', 'R', 'K', 'E'] all have less than 400 representation\n",
        "* cat3: ['G', 'L', 'J', 'H', 'I', 'N'] all have less than 400 representation, fairly split between classes\n",
        "* cat4: ['O', 'B', 'S', 'T', 'L', 'Q', 'P', 'A', 'N', 'R'] are below 400\n",
        "* cat5: steep drop off in relevant categories, ['BI', 'AB', 'BU', 'K', 'G', 'BQ', 'N'] are the only ones above 400\n",
        "* cat6: ['F', 'D', 'Y', 'B', 'U', 'Q', 'W'] are less than 400\n",
        "* cat7: ['AA', 'R', 'O', 'AP', 'AY', 'AG', 'H', 'AT', 'D', 'AU', 'X', 'AB'] can be merged as low positive, low rep; ['V', 'AL', 'L', 'M', 'BA', 'AC', 'I'] can be merged as high positive, low rep\n",
        "* cat8: ['BK', 'AM', 'AY', 'AI', 'BE', 'E', 'V', 'BB', 'AP', 'AL', 'C', 'T', 'B', 'AR'] can be merged as low poz, low rep; ['AO', 'F', 'AV'] can be merged as hi poz, low rep\n",
        "* cat9: ['V', 'B', 'G', 'Q', 'D', 'W', 'O', 'U', 'X', 'S'] all low rep\n",
        "* cat10: three categories\n",
        "1.   Low poz, low total: ['GE','HH','KB','AV','KV','AD','BM','BI','JP','O','JN', 'LQ','KS','BG','IT','CJ','CI','KR','CW','K','CO','CG','KA','EC','EA','IC','DK','GX','EP','CP','BX','ME','CN','LL','KN','DD','DN','DU','BD','ED','KU','GR','FG','KJ','KQ','KI','KD','HP','GD','EG','GJ','MA','IQ','CT','IU','KT','CF','HF','MQ','MP','HY','IM','IP','BO','LR','EH','FA','MU','EB','IY','CM','DM','JU','EF','DL','MI','HI','FF','AF','GV','DX','IN','LT','AJ','GF','DA','DT','EN','JF','LH','CQ','GY','BS','KK','CH','JC','JE','ML','MR','CX','MW','MO','BA','MK','FW','GG','GH','IL','AW','LK'] 110 items\n",
        "2.   Mid poz, low total: ['LY','CS','MJ','HA','GQ','LI','JW','CB','R','JG','GU','CU','FS','HL','BY','JD','FN','IJ','JK','MB','BV','IX', 'IK','KC','BL','I','DO','HO','MT','AU','P','MH','LU','DY','AE','LW','FP','T','AA','AN','LX','FL','JI','IB','MF','W','C','AS','DV','JA','AR','FM','HE','FK','EL', 'IH','KG','LC','AK','MS','HM','JB','CY','DW','FX','EU', 'EO','S','DH','IF','GN','BQ','X','LJ','FE','Q','GT','ES','LG','LD','HR','GL','FD','CL','JL','EE','JJ'] 87 items\n",
        "3.   Hi poz, low total: ['GK','CD','MC','GI','JR','FR','HN','MG','BF','LV','EQ','EV','V','DI','JX','IA','JT','FI','FC','CC','JH','J','JO','BC','AP','EY','IV','FO','BP','KX','IO','LE','AB','GA','IR','AT','E','KF','AH','DQ','FT','D','GB','FJ','BB','KH','JY','G','KL','EI','AY','AM','MV','BT','FQ','AC','HU','KP','JV','F','FH','FB','DS','ID','M','AG', 'L','GW','HW','AL','GM','EW','DE','DR','FV','Y'] 76 items\n",
        "* cat11-18: not a large number of categories\n",
        "\n",
        "\n"
      ]
    },
    {
      "cell_type": "markdown",
      "metadata": {
        "id": "yM433WmWc-AY"
      },
      "source": [
        "# Feature Engineering\n"
      ]
    },
    {
      "cell_type": "code",
      "metadata": {
        "id": "vU00YES2dBiZ"
      },
      "source": [
        "def Clean_Categories(df):\n",
        "  #generic separating function (to be partialed)\n",
        "  def sep_fn(low_crit, mid_crit, hi_crit, name, x):\n",
        "    if x in low_crit:\n",
        "      return ''.join([name, 'LOPOZ'])\n",
        "    elif x in mid_crit:\n",
        "      return ''.join([name, 'MIDPOZ'])\n",
        "    elif x in hi_crit:\n",
        "      return ''.join([name, 'HIPOZ'])\n",
        "    else:\n",
        "      return x\n",
        "\n",
        "  #cat 1\n",
        "  df['cat1'] = df['cat1'].apply(lambda x:\n",
        "                                x if x not in ['D' 'E']\n",
        "                                else 'CAT1SMALL')\n",
        "\n",
        "  #cat 2\n",
        "  df['cat2'] = df['cat2'].apply(lambda x:\n",
        "                                x if x not in ['N', 'H', 'B', 'S', 'U', 'R', 'K', 'E']\n",
        "                                else 'CAT2SMALL')\n",
        "\n",
        "  #cat3\n",
        "  df['cat3'] = df['cat3'].apply(lambda x:\n",
        "                                x if x not in ['G', 'L', 'J', 'H', 'I', 'N']\n",
        "                                else 'CAT3SMALL')\n",
        "  \n",
        "  #cat4\n",
        "  df['cat4'] = df['cat4'].apply(lambda x:\n",
        "                                x if x not in ['O', 'B', 'S', 'T', 'L', 'Q', 'P', 'A', 'N', 'R']\n",
        "                                else 'CAT4SMALL')\n",
        "  \n",
        "  #cat5\n",
        "  df['cat5'] = df['cat5'].apply(lambda x:\n",
        "                                x if x in ['BI', 'AB', 'BU', 'K', 'G', 'BQ', 'N']\n",
        "                                else 'CAT5SMALL')\n",
        "  \n",
        "  #cat6\n",
        "  df['cat6'] = df['cat6'].apply(lambda x:\n",
        "                                x if x not in ['F', 'D', 'Y', 'B', 'U', 'Q', 'W']\n",
        "                                else 'CAT6SMALL')\n",
        "  \n",
        "  #cat7\n",
        "  low_crit = ['AA', 'R', 'O', 'AP', 'AY', 'AG', 'H', 'AT', 'D', 'AU', 'X', 'AB']\n",
        "  mid_crit = []\n",
        "  hi_crit = ['V', 'AL', 'L', 'M', 'BA', 'AC', 'I']\n",
        "  cat7_mini_fn = partial(sep_fn, low_crit, mid_crit, hi_crit, 'CAT7')\n",
        "  df['cat7'] = df['cat7'].apply(cat7_mini_fn)\n",
        "\n",
        "  #cat8\n",
        "  low_crit = ['BK', 'AM', 'AY', 'AI', 'BE', 'E', 'V', 'BB', 'AP', 'AL', 'C', 'T', 'B', 'AR']\n",
        "  mid_crit = []\n",
        "  hi_crit = ['AO', 'F', 'AV']\n",
        "  cat8_mini_fn = partial(sep_fn, low_crit, mid_crit, hi_crit, 'CAT8')\n",
        "  df['cat8'] = df['cat8'].apply(cat8_mini_fn)\n",
        "\n",
        "  #cat9\n",
        "  df['cat9'] = df['cat9'].apply(lambda x:\n",
        "                                x if x not in ['V', 'B', 'G', 'Q', 'D', 'W', 'O', 'U', 'X', 'S']\n",
        "                                else 'CAT9SMALL')\n",
        "  \n",
        "  #cat10\n",
        "  low_crit = ['GE','HH','KB','AV','KV','AD','BM','BI','JP','O','JN',\n",
        "              'LQ','KS','BG','IT','CJ','CI','KR','CW','K','CO','CG',\n",
        "              'KA','EC','EA','IC','DK','GX','EP','CP','BX','ME','CN',\n",
        "              'LL','KN','DD','DN','DU','BD','ED','KU','GR','FG','KJ',\n",
        "              'KQ','KI','KD','HP','GD','EG','GJ','MA','IQ','CT','IU',\n",
        "              'KT','CF','HF','MQ','MP','HY','IM','IP','BO','LR','EH',\n",
        "              'FA','MU','EB','IY','CM','DM','JU','EF','DL','MI','HI',\n",
        "              'FF','AF','GV','DX','IN','LT','AJ','GF','DA','DT','EN',\n",
        "              'JF','LH','CQ','GY','BS','KK','CH','JC','JE','ML','MR',\n",
        "              'CX','MW','MO','BA','MK','FW','GG','GH','IL','AW','LK',]\n",
        "  mid_crit = ['LY','CS','MJ','HA','GQ','LI','JW','CB','R','JG','GU',\n",
        "              'CU','FS','HL','BY','JD','FN','IJ','JK','MB','BV','IX',\n",
        "              'IK','KC','BL','I','DO','HO','MT','AU','P','MH','LU',\n",
        "              'DY','AE','LW','FP','T','AA','AN','LX','FL','JI','IB',\n",
        "              'MF','W','C','AS','DV','JA','AR','FM','HE','FK','EL',\n",
        "              'IH','KG','LC','AK','MS','HM','JB','CY','DW','FX','EU',\n",
        "              'EO','S','DH','IF','GN','BQ','X','LJ','FE','Q','GT',\n",
        "              'ES','LG','LD','HR','GL','FD','CL','JL','EE','JJ']\n",
        "  hi_crit = ['GK','CD','MC','GI','JR','FR','HN','MG','BF','LV','EQ',\n",
        "             'EV','V','DI','JX','IA','JT','FI','FC','CC','JH','J',\n",
        "             'JO','BC','AP','EY','IV','FO','BP','KX','IO','LE','AB',\n",
        "             'GA','IR','AT','E','KF','AH','DQ','FT','D','GB','FJ',\n",
        "             'BB','KH','JY','G','KL','EI','AY','AM','MV','BT','FQ',\n",
        "             'AC','HU','KP','JV','F','FH','FB','DS','ID','M','AG',\n",
        "             'L','GW','HW','AL','GM','EW','DE','DR','FV','Y',]\n",
        "  cat10_mini_fn = partial(sep_fn, low_crit, mid_crit, hi_crit, 'CAT10')\n",
        "  df['cat10'] = df['cat10'].apply(cat10_mini_fn)\n",
        "  \n",
        "  return df  \n"
      ],
      "execution_count": null,
      "outputs": []
    },
    {
      "cell_type": "code",
      "metadata": {
        "id": "ghT8gypxr-Rh"
      },
      "source": [
        "train_clean = Clean_Categories(train)\n",
        "test_clean = Clean_Categories(test)"
      ],
      "execution_count": null,
      "outputs": []
    },
    {
      "cell_type": "code",
      "metadata": {
        "colab": {
          "base_uri": "https://localhost:8080/"
        },
        "id": "EVYNWmGgsTrb",
        "outputId": "c00a1709-7ae5-4134-ae82-6e923498052d"
      },
      "source": [
        "print('For Train')\n",
        "for cat_col in cat_columns:\n",
        "  print(f'Category: {cat_col}, Number: {len(train_clean[cat_col].value_counts())}')\n"
      ],
      "execution_count": null,
      "outputs": [
        {
          "output_type": "stream",
          "text": [
            "For Train\n",
            "Category: cat0, Number: 2\n",
            "Category: cat1, Number: 15\n",
            "Category: cat2, Number: 12\n",
            "Category: cat3, Number: 8\n",
            "Category: cat4, Number: 11\n",
            "Category: cat5, Number: 8\n",
            "Category: cat6, Number: 10\n",
            "Category: cat7, Number: 34\n",
            "Category: cat8, Number: 46\n",
            "Category: cat9, Number: 10\n",
            "Category: cat10, Number: 29\n",
            "Category: cat11, Number: 2\n",
            "Category: cat12, Number: 2\n",
            "Category: cat13, Number: 2\n",
            "Category: cat14, Number: 2\n",
            "Category: cat15, Number: 4\n",
            "Category: cat16, Number: 4\n",
            "Category: cat17, Number: 4\n",
            "Category: cat18, Number: 4\n"
          ],
          "name": "stdout"
        }
      ]
    },
    {
      "cell_type": "markdown",
      "metadata": {
        "id": "ZxPRTlgarzim"
      },
      "source": [
        "## Testing"
      ]
    },
    {
      "cell_type": "code",
      "metadata": {
        "id": "WoN08FkAay8h"
      },
      "source": [
        "  #generic separating function (to be partialed)\n",
        "  def sep_fn(low_crit, mid_crit, hi_crit, name, x):\n",
        "    if x in low_crit:\n",
        "      return ''.join([name, 'LOPOZ'])\n",
        "    elif x in mid_crit:\n",
        "      return ''.join([name, 'MIDPOZ'])\n",
        "    elif x in hi_crit:\n",
        "      return ''.join([name, 'HIPOZ'])\n",
        "    else:\n",
        "      return x"
      ],
      "execution_count": null,
      "outputs": []
    },
    {
      "cell_type": "code",
      "metadata": {
        "id": "9AO5GthOthxq"
      },
      "source": [
        "low_crit = ['AA', 'R', 'O', 'AP', 'AY', 'AG', 'H', 'AT', 'D', 'AU', 'X', 'AB']\n",
        "mid_crit = ['XXXXX']\n",
        "hi_crit = ['V', 'AL', 'L', 'M', 'BA', 'AC', 'I']\n",
        "\n",
        "cat7_mini_fn = partial(sep_fn, low_crit, mid_crit, hi_crit, 'CAT7')\n",
        "  "
      ],
      "execution_count": null,
      "outputs": []
    },
    {
      "cell_type": "code",
      "metadata": {
        "colab": {
          "base_uri": "https://localhost:8080/",
          "height": 35
        },
        "id": "Rxm8whO4ifky",
        "outputId": "2d30d71f-312c-4f5a-8249-a0f783f33b9b"
      },
      "source": [
        "cat7_mini_fn('XXXXX')"
      ],
      "execution_count": null,
      "outputs": [
        {
          "output_type": "execute_result",
          "data": {
            "application/vnd.google.colaboratory.intrinsic+json": {
              "type": "string"
            },
            "text/plain": [
              "'CAT7MIDPOZ'"
            ]
          },
          "metadata": {
            "tags": []
          },
          "execution_count": 231
        }
      ]
    },
    {
      "cell_type": "code",
      "metadata": {
        "id": "Hgb0clsIhXPG"
      },
      "source": [
        "train_cop = train.copy()\n"
      ],
      "execution_count": null,
      "outputs": []
    },
    {
      "cell_type": "code",
      "metadata": {
        "colab": {
          "base_uri": "https://localhost:8080/"
        },
        "id": "6nhFxkrThXR8",
        "outputId": "b04ff2f3-a7f5-49f2-cb9f-101f021cfc57"
      },
      "source": [
        "len(train_cop['cat7'].value_counts()) - len(train_cop['cat7'].apply(cat7_mini_fn).value_counts())\n"
      ],
      "execution_count": null,
      "outputs": [
        {
          "output_type": "execute_result",
          "data": {
            "text/plain": [
              "17"
            ]
          },
          "metadata": {
            "tags": []
          },
          "execution_count": 233
        }
      ]
    },
    {
      "cell_type": "code",
      "metadata": {
        "colab": {
          "base_uri": "https://localhost:8080/"
        },
        "id": "-StNeGRMhXUc",
        "outputId": "ac6cf38a-0700-44c4-a3f9-b7f44dd00518"
      },
      "source": [
        "train_cop['cat7'].apply(cat7_mini_fn).value_counts()"
      ],
      "execution_count": null,
      "outputs": [
        {
          "output_type": "execute_result",
          "data": {
            "text/plain": [
              "AH           45818\n",
              "E            39601\n",
              "AS           25326\n",
              "CAT7LOPOZ    20304\n",
              "J            16135\n",
              "AN           16097\n",
              "U            15674\n",
              "N            14983\n",
              "AF           11455\n",
              "AK            9697\n",
              "AV            7958\n",
              "S             7921\n",
              "AI            7668\n",
              "CAT7HIPOZ     7299\n",
              "A             6432\n",
              "K             6264\n",
              "Y             5896\n",
              "G             5656\n",
              "F             5550\n",
              "AW            5322\n",
              "C             4324\n",
              "AX            2635\n",
              "AD            1826\n",
              "AO            1734\n",
              "W             1525\n",
              "B             1408\n",
              "Q             1306\n",
              "AM            1183\n",
              "AR            1121\n",
              "P              611\n",
              "AE             458\n",
              "T              379\n",
              "AJ             229\n",
              "AQ             205\n",
              "Name: cat7, dtype: int64"
            ]
          },
          "metadata": {
            "tags": []
          },
          "execution_count": 234
        }
      ]
    },
    {
      "cell_type": "code",
      "metadata": {
        "id": "LvgO7oP_hXXV"
      },
      "source": [
        "  low_crit = ['GE','HH','KB','AV','KV','AD','BM','BI','JP','O','JN',\n",
        "              'LQ','KS','BG','IT','CJ','CI','KR','CW','K','CO','CG',\n",
        "              'KA','EC','EA','IC','DK','GX','EP','CP','BX','ME','CN',\n",
        "              'LL','KN','DD','DN','DU','BD','ED','KU','GR','FG','KJ',\n",
        "              'KQ','KI','KD','HP','GD','EG','GJ','MA','IQ','CT','IU',\n",
        "              'KT','CF','HF','MQ','MP','HY','IM','IP','BO','LR','EH',\n",
        "              'FA','MU','EB','IY','CM','DM','JU','EF','DL','MI','HI',\n",
        "              'FF','AF','GV','DX','IN','LT','AJ','GF','DA','DT','EN',\n",
        "              'JF','LH','CQ','GY','BS','KK','CH','JC','JE','ML','MR',\n",
        "              'CX','MW','MO','BA','MK','FW','GG','GH','IL','AW','LK',]\n",
        "  mid_crit = ['LY','CS','MJ','HA','GQ','LI','JW','CB','R','JG','GU',\n",
        "              'CU','FS','HL','BY','JD','FN','IJ','JK','MB','BV','IX',\n",
        "              'IK','KC','BL','I','DO','HO','MT','AU','P','MH','LU',\n",
        "              'DY','AE','LW','FP','T','AA','AN','LX','FL','JI','IB',\n",
        "              'MF','W','C','AS','DV','JA','AR','FM','HE','FK','EL',\n",
        "              'IH','KG','LC','AK','MS','HM','JB','CY','DW','FX','EU',\n",
        "              'EO','S','DH','IF','GN','BQ','X','LJ','FE','Q','GT',\n",
        "              'ES','LG','LD','HR','GL','FD','CL','JL','EE','JJ']\n",
        "  hi_crit = ['GK','CD','MC','GI','JR','FR','HN','MG','BF','LV','EQ',\n",
        "             'EV','V','DI','JX','IA','JT','FI','FC','CC','JH','J',\n",
        "             'JO','BC','AP','EY','IV','FO','BP','KX','IO','LE','AB',\n",
        "             'GA','IR','AT','E','KF','AH','DQ','FT','D','GB','FJ',\n",
        "             'BB','KH','JY','G','KL','EI','AY','AM','MV','BT','FQ',\n",
        "             'AC','HU','KP','JV','F','FH','FB','DS','ID','M','AG',\n",
        "             'L','GW','HW','AL','GM','EW','DE','DR','FV','Y',]\n",
        "  cat10_mini_fn = partial(sep_fn, low_crit, mid_crit, hi_crit, 'CAT10')"
      ],
      "execution_count": null,
      "outputs": []
    },
    {
      "cell_type": "code",
      "metadata": {
        "colab": {
          "base_uri": "https://localhost:8080/"
        },
        "id": "sbM7Xu_whXZg",
        "outputId": "0b32741a-a125-4ecd-aa75-02340efd5ad2"
      },
      "source": [
        "len(train_cop['cat10'].value_counts()) - len(train_cop['cat10'].apply(cat10_mini_fn).value_counts())"
      ],
      "execution_count": null,
      "outputs": [
        {
          "output_type": "execute_result",
          "data": {
            "text/plain": [
              "270"
            ]
          },
          "metadata": {
            "tags": []
          },
          "execution_count": 318
        }
      ]
    },
    {
      "cell_type": "code",
      "metadata": {
        "colab": {
          "base_uri": "https://localhost:8080/"
        },
        "id": "bVMtDxqQpYty",
        "outputId": "5863efd8-9db1-4a30-b9a6-825006741c17"
      },
      "source": [
        "train_cop['cat10'].apply(cat10_mini_fn).value_counts()"
      ],
      "execution_count": null,
      "outputs": [
        {
          "output_type": "execute_result",
          "data": {
            "text/plain": [
              "DJ             31584\n",
              "HK             30998\n",
              "CAT10MIDPOZ    30430\n",
              "DP             23679\n",
              "CAT10HIPOZ     23662\n",
              "GS             16619\n",
              "CR             14382\n",
              "HX             13171\n",
              "CK             10587\n",
              "DC             10283\n",
              "CAT10LOPOZ     10127\n",
              "HQ              9580\n",
              "MD              6817\n",
              "LN              6709\n",
              "LF              6214\n",
              "IE              6190\n",
              "LM              5917\n",
              "KW              5160\n",
              "HG              4716\n",
              "IG              4442\n",
              "HB              4212\n",
              "DF              3800\n",
              "LB              3718\n",
              "HV              3446\n",
              "LO              3154\n",
              "HC              3011\n",
              "HJ              2834\n",
              "EK              2508\n",
              "GC              2050\n",
              "Name: cat10, dtype: int64"
            ]
          },
          "metadata": {
            "tags": []
          },
          "execution_count": 319
        }
      ]
    },
    {
      "cell_type": "markdown",
      "metadata": {
        "id": "JoAZQ3kUr4Hd"
      },
      "source": [
        "#Encoding\n"
      ]
    },
    {
      "cell_type": "code",
      "metadata": {
        "id": "wjWKEEHiK_LB"
      },
      "source": [
        "#adapted from @AndresHG \n",
        "\n",
        "#Label Encoding\n",
        "def label_encoder(train_df, test_df, column):\n",
        "  le = LabelEncoder()\n",
        "  new_feature = f'{column}_le'\n",
        "  le.fit(train_df[column].unique().tolist() + test_df[column].unique().tolist())\n",
        "  train_df[new_feature] = le.transform(train_df[column])\n",
        "  test_df[new_feature] = le.transform(test_df[column])\n",
        "  return new_feature\n",
        "\n",
        "#Leave One Out Encoding\n",
        "def loo_encoder(train_df, test_df, column):\n",
        "  loo = LeaveOneOutEncoder()\n",
        "  new_feature = f'{column}_loo'\n",
        "  loo.fit(train_df[column], train_df['target'])\n",
        "  train_df[new_feature] = loo.transform(train_df[column])\n",
        "  test_df[new_feature] = loo.transform(test_df[column])\n",
        "  return new_feature\n",
        "\n",
        "#for collecting encoded column names\n",
        "label_encoded_features  = []\n",
        "loo_encoded_features = []\n",
        "\n",
        "for feature in cat_columns:\n",
        "  label_encoded_features.append(label_encoder(train_clean, test_clean, feature))\n",
        "  loo_encoded_features.append(loo_encoder(train_clean, test_clean, feature))\n",
        "\n",
        "xgb_cat_features = deepcopy(loo_encoded_features)\n",
        "lgb_cat_features = deepcopy(label_encoded_features)\n",
        "cb_cat_features = deepcopy(list(cat_columns))\n",
        "ridge_cat_features = deepcopy(loo_encoded_features)\n",
        "\n"
      ],
      "execution_count": null,
      "outputs": []
    },
    {
      "cell_type": "code",
      "metadata": {
        "colab": {
          "base_uri": "https://localhost:8080/",
          "height": 224
        },
        "id": "ybnGDVfDOSiv",
        "outputId": "6e9b4da2-cb70-4002-cf3a-d4ffef805428"
      },
      "source": [
        "train_clean.head()"
      ],
      "execution_count": null,
      "outputs": [
        {
          "output_type": "execute_result",
          "data": {
            "text/html": [
              "<div>\n",
              "<style scoped>\n",
              "    .dataframe tbody tr th:only-of-type {\n",
              "        vertical-align: middle;\n",
              "    }\n",
              "\n",
              "    .dataframe tbody tr th {\n",
              "        vertical-align: top;\n",
              "    }\n",
              "\n",
              "    .dataframe thead th {\n",
              "        text-align: right;\n",
              "    }\n",
              "</style>\n",
              "<table border=\"1\" class=\"dataframe\">\n",
              "  <thead>\n",
              "    <tr style=\"text-align: right;\">\n",
              "      <th></th>\n",
              "      <th>id</th>\n",
              "      <th>cat0</th>\n",
              "      <th>cat1</th>\n",
              "      <th>cat2</th>\n",
              "      <th>cat3</th>\n",
              "      <th>cat4</th>\n",
              "      <th>cat5</th>\n",
              "      <th>cat6</th>\n",
              "      <th>cat7</th>\n",
              "      <th>cat8</th>\n",
              "      <th>cat9</th>\n",
              "      <th>cat10</th>\n",
              "      <th>cat11</th>\n",
              "      <th>cat12</th>\n",
              "      <th>cat13</th>\n",
              "      <th>cat14</th>\n",
              "      <th>cat15</th>\n",
              "      <th>cat16</th>\n",
              "      <th>cat17</th>\n",
              "      <th>cat18</th>\n",
              "      <th>cont0</th>\n",
              "      <th>cont1</th>\n",
              "      <th>cont2</th>\n",
              "      <th>cont3</th>\n",
              "      <th>cont4</th>\n",
              "      <th>cont5</th>\n",
              "      <th>cont6</th>\n",
              "      <th>cont7</th>\n",
              "      <th>cont8</th>\n",
              "      <th>cont9</th>\n",
              "      <th>cont10</th>\n",
              "      <th>target</th>\n",
              "      <th>cat0_le</th>\n",
              "      <th>cat0_loo</th>\n",
              "      <th>cat1_le</th>\n",
              "      <th>cat1_loo</th>\n",
              "      <th>cat2_le</th>\n",
              "      <th>cat2_loo</th>\n",
              "      <th>cat3_le</th>\n",
              "      <th>cat3_loo</th>\n",
              "      <th>cat4_le</th>\n",
              "      <th>cat4_loo</th>\n",
              "      <th>cat5_le</th>\n",
              "      <th>cat5_loo</th>\n",
              "      <th>cat6_le</th>\n",
              "      <th>cat6_loo</th>\n",
              "      <th>cat7_le</th>\n",
              "      <th>cat7_loo</th>\n",
              "      <th>cat8_le</th>\n",
              "      <th>cat8_loo</th>\n",
              "      <th>cat9_le</th>\n",
              "      <th>cat9_loo</th>\n",
              "      <th>cat10_le</th>\n",
              "      <th>cat10_loo</th>\n",
              "      <th>cat11_le</th>\n",
              "      <th>cat11_loo</th>\n",
              "      <th>cat12_le</th>\n",
              "      <th>cat12_loo</th>\n",
              "      <th>cat13_le</th>\n",
              "      <th>cat13_loo</th>\n",
              "      <th>cat14_le</th>\n",
              "      <th>cat14_loo</th>\n",
              "      <th>cat15_le</th>\n",
              "      <th>cat15_loo</th>\n",
              "      <th>cat16_le</th>\n",
              "      <th>cat16_loo</th>\n",
              "      <th>cat17_le</th>\n",
              "      <th>cat17_loo</th>\n",
              "      <th>cat18_le</th>\n",
              "      <th>cat18_loo</th>\n",
              "    </tr>\n",
              "  </thead>\n",
              "  <tbody>\n",
              "    <tr>\n",
              "      <th>0</th>\n",
              "      <td>0</td>\n",
              "      <td>A</td>\n",
              "      <td>I</td>\n",
              "      <td>A</td>\n",
              "      <td>B</td>\n",
              "      <td>CAT4SMALL</td>\n",
              "      <td>BI</td>\n",
              "      <td>A</td>\n",
              "      <td>S</td>\n",
              "      <td>Q</td>\n",
              "      <td>A</td>\n",
              "      <td>LO</td>\n",
              "      <td>A</td>\n",
              "      <td>A</td>\n",
              "      <td>A</td>\n",
              "      <td>A</td>\n",
              "      <td>B</td>\n",
              "      <td>D</td>\n",
              "      <td>D</td>\n",
              "      <td>B</td>\n",
              "      <td>0.629858</td>\n",
              "      <td>0.855349</td>\n",
              "      <td>0.759439</td>\n",
              "      <td>0.795549</td>\n",
              "      <td>0.681917</td>\n",
              "      <td>0.621672</td>\n",
              "      <td>0.592184</td>\n",
              "      <td>0.791921</td>\n",
              "      <td>0.815254</td>\n",
              "      <td>0.965006</td>\n",
              "      <td>0.665915</td>\n",
              "      <td>0</td>\n",
              "      <td>0</td>\n",
              "      <td>0.33407</td>\n",
              "      <td>8</td>\n",
              "      <td>0.132168</td>\n",
              "      <td>0</td>\n",
              "      <td>0.209770</td>\n",
              "      <td>1</td>\n",
              "      <td>0.266801</td>\n",
              "      <td>1</td>\n",
              "      <td>0.410256</td>\n",
              "      <td>1</td>\n",
              "      <td>0.264102</td>\n",
              "      <td>0</td>\n",
              "      <td>0.213836</td>\n",
              "      <td>29</td>\n",
              "      <td>0.229390</td>\n",
              "      <td>41</td>\n",
              "      <td>0.189876</td>\n",
              "      <td>0</td>\n",
              "      <td>0.312848</td>\n",
              "      <td>35</td>\n",
              "      <td>0.343056</td>\n",
              "      <td>0</td>\n",
              "      <td>0.214697</td>\n",
              "      <td>0</td>\n",
              "      <td>0.279849</td>\n",
              "      <td>0</td>\n",
              "      <td>0.250547</td>\n",
              "      <td>0</td>\n",
              "      <td>0.140230</td>\n",
              "      <td>1</td>\n",
              "      <td>0.132664</td>\n",
              "      <td>3</td>\n",
              "      <td>0.115391</td>\n",
              "      <td>3</td>\n",
              "      <td>0.210302</td>\n",
              "      <td>1</td>\n",
              "      <td>0.189505</td>\n",
              "    </tr>\n",
              "    <tr>\n",
              "      <th>1</th>\n",
              "      <td>1</td>\n",
              "      <td>A</td>\n",
              "      <td>I</td>\n",
              "      <td>A</td>\n",
              "      <td>A</td>\n",
              "      <td>E</td>\n",
              "      <td>BI</td>\n",
              "      <td>K</td>\n",
              "      <td>W</td>\n",
              "      <td>AD</td>\n",
              "      <td>F</td>\n",
              "      <td>HJ</td>\n",
              "      <td>A</td>\n",
              "      <td>B</td>\n",
              "      <td>A</td>\n",
              "      <td>B</td>\n",
              "      <td>D</td>\n",
              "      <td>B</td>\n",
              "      <td>D</td>\n",
              "      <td>B</td>\n",
              "      <td>0.370727</td>\n",
              "      <td>0.328929</td>\n",
              "      <td>0.386385</td>\n",
              "      <td>0.541366</td>\n",
              "      <td>0.388982</td>\n",
              "      <td>0.357778</td>\n",
              "      <td>0.600044</td>\n",
              "      <td>0.408701</td>\n",
              "      <td>0.399353</td>\n",
              "      <td>0.927406</td>\n",
              "      <td>0.493729</td>\n",
              "      <td>0</td>\n",
              "      <td>0</td>\n",
              "      <td>0.33407</td>\n",
              "      <td>8</td>\n",
              "      <td>0.132168</td>\n",
              "      <td>0</td>\n",
              "      <td>0.209770</td>\n",
              "      <td>0</td>\n",
              "      <td>0.257542</td>\n",
              "      <td>3</td>\n",
              "      <td>0.181103</td>\n",
              "      <td>1</td>\n",
              "      <td>0.264102</td>\n",
              "      <td>6</td>\n",
              "      <td>0.150773</td>\n",
              "      <td>32</td>\n",
              "      <td>0.198033</td>\n",
              "      <td>3</td>\n",
              "      <td>0.252404</td>\n",
              "      <td>4</td>\n",
              "      <td>0.153573</td>\n",
              "      <td>20</td>\n",
              "      <td>0.099153</td>\n",
              "      <td>0</td>\n",
              "      <td>0.214697</td>\n",
              "      <td>1</td>\n",
              "      <td>0.175008</td>\n",
              "      <td>0</td>\n",
              "      <td>0.250547</td>\n",
              "      <td>1</td>\n",
              "      <td>0.407633</td>\n",
              "      <td>3</td>\n",
              "      <td>0.598031</td>\n",
              "      <td>1</td>\n",
              "      <td>0.633125</td>\n",
              "      <td>3</td>\n",
              "      <td>0.210302</td>\n",
              "      <td>1</td>\n",
              "      <td>0.189505</td>\n",
              "    </tr>\n",
              "    <tr>\n",
              "      <th>2</th>\n",
              "      <td>2</td>\n",
              "      <td>A</td>\n",
              "      <td>K</td>\n",
              "      <td>A</td>\n",
              "      <td>A</td>\n",
              "      <td>E</td>\n",
              "      <td>BI</td>\n",
              "      <td>A</td>\n",
              "      <td>E</td>\n",
              "      <td>BM</td>\n",
              "      <td>L</td>\n",
              "      <td>DJ</td>\n",
              "      <td>A</td>\n",
              "      <td>B</td>\n",
              "      <td>A</td>\n",
              "      <td>A</td>\n",
              "      <td>B</td>\n",
              "      <td>D</td>\n",
              "      <td>D</td>\n",
              "      <td>B</td>\n",
              "      <td>0.502272</td>\n",
              "      <td>0.322749</td>\n",
              "      <td>0.343255</td>\n",
              "      <td>0.616352</td>\n",
              "      <td>0.793687</td>\n",
              "      <td>0.552877</td>\n",
              "      <td>0.352113</td>\n",
              "      <td>0.388835</td>\n",
              "      <td>0.412303</td>\n",
              "      <td>0.292696</td>\n",
              "      <td>0.549452</td>\n",
              "      <td>0</td>\n",
              "      <td>0</td>\n",
              "      <td>0.33407</td>\n",
              "      <td>10</td>\n",
              "      <td>0.239408</td>\n",
              "      <td>0</td>\n",
              "      <td>0.209770</td>\n",
              "      <td>0</td>\n",
              "      <td>0.257542</td>\n",
              "      <td>3</td>\n",
              "      <td>0.181103</td>\n",
              "      <td>1</td>\n",
              "      <td>0.264102</td>\n",
              "      <td>0</td>\n",
              "      <td>0.213836</td>\n",
              "      <td>21</td>\n",
              "      <td>0.179970</td>\n",
              "      <td>26</td>\n",
              "      <td>0.218122</td>\n",
              "      <td>7</td>\n",
              "      <td>0.122760</td>\n",
              "      <td>11</td>\n",
              "      <td>0.237842</td>\n",
              "      <td>0</td>\n",
              "      <td>0.214697</td>\n",
              "      <td>1</td>\n",
              "      <td>0.175008</td>\n",
              "      <td>0</td>\n",
              "      <td>0.250547</td>\n",
              "      <td>0</td>\n",
              "      <td>0.140230</td>\n",
              "      <td>1</td>\n",
              "      <td>0.132664</td>\n",
              "      <td>3</td>\n",
              "      <td>0.115391</td>\n",
              "      <td>3</td>\n",
              "      <td>0.210302</td>\n",
              "      <td>1</td>\n",
              "      <td>0.189505</td>\n",
              "    </tr>\n",
              "    <tr>\n",
              "      <th>3</th>\n",
              "      <td>3</td>\n",
              "      <td>A</td>\n",
              "      <td>K</td>\n",
              "      <td>A</td>\n",
              "      <td>C</td>\n",
              "      <td>E</td>\n",
              "      <td>BI</td>\n",
              "      <td>A</td>\n",
              "      <td>Y</td>\n",
              "      <td>AD</td>\n",
              "      <td>F</td>\n",
              "      <td>CAT10LOPOZ</td>\n",
              "      <td>A</td>\n",
              "      <td>A</td>\n",
              "      <td>A</td>\n",
              "      <td>A</td>\n",
              "      <td>B</td>\n",
              "      <td>D</td>\n",
              "      <td>D</td>\n",
              "      <td>B</td>\n",
              "      <td>0.934242</td>\n",
              "      <td>0.707663</td>\n",
              "      <td>0.831147</td>\n",
              "      <td>0.807807</td>\n",
              "      <td>0.800032</td>\n",
              "      <td>0.619147</td>\n",
              "      <td>0.221789</td>\n",
              "      <td>0.897617</td>\n",
              "      <td>0.633669</td>\n",
              "      <td>0.760318</td>\n",
              "      <td>0.934242</td>\n",
              "      <td>0</td>\n",
              "      <td>0</td>\n",
              "      <td>0.33407</td>\n",
              "      <td>10</td>\n",
              "      <td>0.239408</td>\n",
              "      <td>0</td>\n",
              "      <td>0.209770</td>\n",
              "      <td>2</td>\n",
              "      <td>0.320612</td>\n",
              "      <td>3</td>\n",
              "      <td>0.181103</td>\n",
              "      <td>1</td>\n",
              "      <td>0.264102</td>\n",
              "      <td>0</td>\n",
              "      <td>0.213836</td>\n",
              "      <td>33</td>\n",
              "      <td>0.055461</td>\n",
              "      <td>3</td>\n",
              "      <td>0.252404</td>\n",
              "      <td>4</td>\n",
              "      <td>0.153573</td>\n",
              "      <td>4</td>\n",
              "      <td>0.074356</td>\n",
              "      <td>0</td>\n",
              "      <td>0.214697</td>\n",
              "      <td>0</td>\n",
              "      <td>0.279849</td>\n",
              "      <td>0</td>\n",
              "      <td>0.250547</td>\n",
              "      <td>0</td>\n",
              "      <td>0.140230</td>\n",
              "      <td>1</td>\n",
              "      <td>0.132664</td>\n",
              "      <td>3</td>\n",
              "      <td>0.115391</td>\n",
              "      <td>3</td>\n",
              "      <td>0.210302</td>\n",
              "      <td>1</td>\n",
              "      <td>0.189505</td>\n",
              "    </tr>\n",
              "    <tr>\n",
              "      <th>4</th>\n",
              "      <td>4</td>\n",
              "      <td>A</td>\n",
              "      <td>I</td>\n",
              "      <td>G</td>\n",
              "      <td>B</td>\n",
              "      <td>E</td>\n",
              "      <td>BI</td>\n",
              "      <td>C</td>\n",
              "      <td>G</td>\n",
              "      <td>Q</td>\n",
              "      <td>A</td>\n",
              "      <td>DP</td>\n",
              "      <td>A</td>\n",
              "      <td>A</td>\n",
              "      <td>A</td>\n",
              "      <td>B</td>\n",
              "      <td>B</td>\n",
              "      <td>B</td>\n",
              "      <td>D</td>\n",
              "      <td>B</td>\n",
              "      <td>0.254427</td>\n",
              "      <td>0.274514</td>\n",
              "      <td>0.338818</td>\n",
              "      <td>0.277308</td>\n",
              "      <td>0.610578</td>\n",
              "      <td>0.128291</td>\n",
              "      <td>0.578764</td>\n",
              "      <td>0.279167</td>\n",
              "      <td>0.351103</td>\n",
              "      <td>0.357084</td>\n",
              "      <td>0.328960</td>\n",
              "      <td>1</td>\n",
              "      <td>0</td>\n",
              "      <td>0.33407</td>\n",
              "      <td>8</td>\n",
              "      <td>0.132168</td>\n",
              "      <td>5</td>\n",
              "      <td>0.310617</td>\n",
              "      <td>1</td>\n",
              "      <td>0.266801</td>\n",
              "      <td>3</td>\n",
              "      <td>0.181103</td>\n",
              "      <td>1</td>\n",
              "      <td>0.264102</td>\n",
              "      <td>1</td>\n",
              "      <td>0.317905</td>\n",
              "      <td>23</td>\n",
              "      <td>0.344236</td>\n",
              "      <td>41</td>\n",
              "      <td>0.189876</td>\n",
              "      <td>0</td>\n",
              "      <td>0.312848</td>\n",
              "      <td>12</td>\n",
              "      <td>0.249377</td>\n",
              "      <td>0</td>\n",
              "      <td>0.214697</td>\n",
              "      <td>0</td>\n",
              "      <td>0.279849</td>\n",
              "      <td>0</td>\n",
              "      <td>0.250547</td>\n",
              "      <td>1</td>\n",
              "      <td>0.407633</td>\n",
              "      <td>1</td>\n",
              "      <td>0.132664</td>\n",
              "      <td>1</td>\n",
              "      <td>0.633125</td>\n",
              "      <td>3</td>\n",
              "      <td>0.210302</td>\n",
              "      <td>1</td>\n",
              "      <td>0.189505</td>\n",
              "    </tr>\n",
              "  </tbody>\n",
              "</table>\n",
              "</div>"
            ],
            "text/plain": [
              "   id cat0 cat1 cat2 cat3  ... cat16_loo cat17_le cat17_loo cat18_le cat18_loo\n",
              "0   0    A    I    A    B  ...  0.115391        3  0.210302        1  0.189505\n",
              "1   1    A    I    A    A  ...  0.633125        3  0.210302        1  0.189505\n",
              "2   2    A    K    A    A  ...  0.115391        3  0.210302        1  0.189505\n",
              "3   3    A    K    A    C  ...  0.115391        3  0.210302        1  0.189505\n",
              "4   4    A    I    G    B  ...  0.633125        3  0.210302        1  0.189505\n",
              "\n",
              "[5 rows x 70 columns]"
            ]
          },
          "metadata": {
            "tags": []
          },
          "execution_count": 16
        }
      ]
    },
    {
      "cell_type": "markdown",
      "metadata": {
        "id": "Mt8d7BOvBWpz"
      },
      "source": [
        "# Baseline models"
      ]
    },
    {
      "cell_type": "markdown",
      "metadata": {
        "id": "00DQXDW0rF4F"
      },
      "source": [
        "## Function for plotting"
      ]
    },
    {
      "cell_type": "code",
      "metadata": {
        "id": "wnW0oP5VpzML"
      },
      "source": [
        "def Plot_AUC_Curve(predictions, y_valid): \n",
        "  # Plot AUC curve\n",
        "  plotting_df = pd.DataFrame({'preds': predictions, 'actuals': y_valid})\n",
        "  plotting_df = plotting_df.sort_values('preds', ascending=False)\n",
        "\n",
        "  class_count = plotting_df['actuals'].value_counts()\n",
        "  pos_count = class_count[1]\n",
        "  neg_count = class_count[0]\n",
        "\n",
        "  coords = [(0,0)]\n",
        "  fp = 0 #horizontal\n",
        "  tp = 0 #vertical\n",
        "\n",
        "  for actual in plotting_df['actuals']:\n",
        "    if actual == 1:\n",
        "      tp += 1\n",
        "    else:\n",
        "      fp += 1\n",
        "    coords.append((fp, tp))\n",
        "\n",
        "  fp, tp = map(list, zip(*coords))  #unpacks the coordinates and then produces separate lists\n",
        "\n",
        "  tpr = tp/pos_count\n",
        "  fpr = fp/neg_count\n",
        "\n",
        "  plt.scatter(fpr, tpr)"
      ],
      "execution_count": null,
      "outputs": []
    },
    {
      "cell_type": "markdown",
      "metadata": {
        "id": "mE8nAVbjbA2N"
      },
      "source": [
        "## XGBoost: 88.36"
      ]
    },
    {
      "cell_type": "code",
      "metadata": {
        "id": "YlPj6yvpN2Qx"
      },
      "source": [
        "# Set x and y\n",
        "y = train_clean[\"target\"]\n",
        "xgb_cls = XGBClassifier()\n",
        "\n",
        "xgb_features = xgb_cat_features + list(cont_columns)\n",
        "x = train_clean[xgb_features]\n",
        "\n",
        "x_train, x_valid, y_train, y_valid=train_test_split(x, y, test_size=0.2, random_state=42)"
      ],
      "execution_count": null,
      "outputs": []
    },
    {
      "cell_type": "code",
      "metadata": {
        "colab": {
          "base_uri": "https://localhost:8080/"
        },
        "id": "Wnq5Dbxwo_xo",
        "outputId": "4402c02b-906e-4a7c-a198-cf7fb7b2ff2a"
      },
      "source": [
        "# Fit XGB model\n",
        "xgb_cls.fit(x_train, y_train, verbose=False)\n",
        "predictions = xgb_cls.predict_proba(x_valid)[:,1]\n",
        "\n",
        "auc = roc_auc_score(y_valid, predictions)\n",
        "\n",
        "print(f'Baseline Score: {auc}')"
      ],
      "execution_count": null,
      "outputs": [
        {
          "output_type": "stream",
          "text": [
            "Baseline Score: 0.8836326133856207\n"
          ],
          "name": "stdout"
        }
      ]
    },
    {
      "cell_type": "code",
      "metadata": {
        "colab": {
          "base_uri": "https://localhost:8080/",
          "height": 265
        },
        "id": "XWx9OGfrORD5",
        "outputId": "0d9c3ff9-c1c3-4637-a8e1-99187a460034"
      },
      "source": [
        "Plot_AUC_Curve(predictions, y_valid)"
      ],
      "execution_count": null,
      "outputs": [
        {
          "output_type": "display_data",
          "data": {
            "image/png": "[encoded data removed]",
            "text/plain": [
              "<Figure size 432x288 with 1 Axes>"
            ]
          },
          "metadata": {
            "tags": [],
            "needs_background": "light"
          }
        }
      ]
    },
    {
      "cell_type": "markdown",
      "metadata": {
        "id": "05TZZW_GEkpn"
      },
      "source": [
        "## LGBM: 88.93"
      ]
    },
    {
      "cell_type": "code",
      "metadata": {
        "id": "q5o4JyeaBZQh"
      },
      "source": [
        "# Set x and y\n",
        "y = train_clean[\"target\"]\n",
        "lgbm_features = lgb_cat_features + list(cont_columns)\n",
        "x = train_clean[lgbm_features]\n",
        "\n",
        "x_train, x_valid, y_train, y_valid=train_test_split(x, y, test_size=0.2, random_state=42)"
      ],
      "execution_count": null,
      "outputs": []
    },
    {
      "cell_type": "code",
      "metadata": {
        "colab": {
          "base_uri": "https://localhost:8080/"
        },
        "id": "4YcCQo0LEGrb",
        "outputId": "e0ec271d-08ce-41a7-e727-c3d40bca0680"
      },
      "source": [
        "# Use LGBM Classifier as first base model\n",
        "lgbm = LGBMClassifier()\n",
        "\n",
        "lgbm.fit(x_train, y_train,\n",
        "         eval_set=(x_valid,y_valid),\n",
        "         early_stopping_rounds=150, verbose=False)\n",
        "predictions = lgbm.predict_proba(x_valid)[:,1]\n",
        "\n",
        "auc = roc_auc_score(y_valid, predictions)\n",
        "\n",
        "print(f'Baseline Score: {auc}')"
      ],
      "execution_count": null,
      "outputs": [
        {
          "output_type": "stream",
          "text": [
            "Baseline Score: 0.8893417667451045\n"
          ],
          "name": "stdout"
        }
      ]
    },
    {
      "cell_type": "code",
      "metadata": {
        "colab": {
          "base_uri": "https://localhost:8080/",
          "height": 265
        },
        "id": "l5Qb8qs4NYg9",
        "outputId": "969c0b22-27a4-4795-cab5-3867bc71ebcb"
      },
      "source": [
        "Plot_AUC_Curve(predictions, y_valid)\n"
      ],
      "execution_count": null,
      "outputs": [
        {
          "output_type": "display_data",
          "data": {
            "image/png": "[encoded data removed]",
            "text/plain": [
              "<Figure size 432x288 with 1 Axes>"
            ]
          },
          "metadata": {
            "tags": [],
            "needs_background": "light"
          }
        }
      ]
    },
    {
      "cell_type": "markdown",
      "metadata": {
        "id": "hosov5lgmxEh"
      },
      "source": [
        "## CatBoost: 88.83"
      ]
    },
    {
      "cell_type": "code",
      "metadata": {
        "id": "6enF7rrgnep_"
      },
      "source": [
        "# Set x and y\n",
        "y = train_clean[\"target\"]\n",
        "cb_features = cb_cat_features + list(cont_columns)\n",
        "x = train_clean[cb_features]\n",
        "\n",
        "x_train, x_valid, y_train, y_valid=train_test_split(x, y, test_size=0.2, random_state=42)"
      ],
      "execution_count": null,
      "outputs": []
    },
    {
      "cell_type": "code",
      "metadata": {
        "colab": {
          "base_uri": "https://localhost:8080/"
        },
        "id": "_fIIuD_EmwOX",
        "outputId": "78d0f0fb-928d-428e-da5f-05b0446efb6e"
      },
      "source": [
        "# Fit Model\n",
        "cat_cls = CatBoostClassifier(\n",
        "    verbose = 1,\n",
        "    eval_metric = 'AUC',\n",
        "    loss_function = 'Logloss',\n",
        "    task_type = 'GPU',\n",
        "    cat_features = [x for x in range(len(cb_cat_features))]    \n",
        ")\n",
        "\n",
        "cat_cls.fit(x_train, y_train, verbose=False)\n",
        "predictions = cat_cls.predict_proba(x_valid)[:,1]\n",
        "\n",
        "auc = roc_auc_score(y_valid, predictions)\n",
        "\n",
        "print(f'Baseline Score: {auc}')"
      ],
      "execution_count": null,
      "outputs": [
        {
          "output_type": "stream",
          "text": [
            "Baseline Score: 0.8882935937104544\n"
          ],
          "name": "stdout"
        }
      ]
    },
    {
      "cell_type": "code",
      "metadata": {
        "colab": {
          "base_uri": "https://localhost:8080/",
          "height": 265
        },
        "id": "L-5CXnzxqWji",
        "outputId": "d143219b-3462-48fb-a0a2-4d81ff3c7863"
      },
      "source": [
        "Plot_AUC_Curve(predictions, y_valid)"
      ],
      "execution_count": null,
      "outputs": [
        {
          "output_type": "display_data",
          "data": {
            "image/png": "[encoded data removed]",
            "text/plain": [
              "<Figure size 432x288 with 1 Axes>"
            ]
          },
          "metadata": {
            "tags": [],
            "needs_background": "light"
          }
        }
      ]
    },
    {
      "cell_type": "markdown",
      "metadata": {
        "id": "G3Fve_cLqyCA"
      },
      "source": [
        "## Ridge Model: 87.50"
      ]
    },
    {
      "cell_type": "code",
      "metadata": {
        "id": "_1Fpsn_Bq03-"
      },
      "source": [
        "# Set x and y\n",
        "y = train_clean[\"target\"]\n",
        "ridge_features = ridge_cat_features + list(cont_columns)\n",
        "x = train_clean[ridge_features]\n",
        "\n",
        "x_train, x_valid, y_train, y_valid=train_test_split(x, y, test_size=0.2, random_state=42)"
      ],
      "execution_count": null,
      "outputs": []
    },
    {
      "cell_type": "code",
      "metadata": {
        "colab": {
          "base_uri": "https://localhost:8080/"
        },
        "id": "ZnwzdzaHrKvZ",
        "outputId": "454e6035-cfad-4ea3-b424-57aa6dbba7b9"
      },
      "source": [
        "# Fit Model\n",
        "ridge_cls = RidgeClassifier(random_state=42)\n",
        "\n",
        "ridge_cls.fit(x_train, y_train)\n",
        "predictions = ridge_cls.decision_function(x_valid)\n",
        "\n",
        "auc = roc_auc_score(y_valid, predictions)\n",
        "\n",
        "print(f'Baseline Score: {auc}')"
      ],
      "execution_count": null,
      "outputs": [
        {
          "output_type": "stream",
          "text": [
            "Baseline Score: 0.8749915125973005\n"
          ],
          "name": "stdout"
        }
      ]
    },
    {
      "cell_type": "code",
      "metadata": {
        "colab": {
          "base_uri": "https://localhost:8080/",
          "height": 265
        },
        "id": "we91fJowrXAX",
        "outputId": "475e194b-7e72-422e-9f7a-fa79f5fd6206"
      },
      "source": [
        "Plot_AUC_Curve(predictions, y_valid)"
      ],
      "execution_count": null,
      "outputs": [
        {
          "output_type": "display_data",
          "data": {
            "image/png": "[encoded data removed]",
            "text/plain": [
              "<Figure size 432x288 with 1 Axes>"
            ]
          },
          "metadata": {
            "tags": [],
            "needs_background": "light"
          }
        }
      ]
    },
    {
      "cell_type": "markdown",
      "metadata": {
        "id": "uX9LfG233-Zx"
      },
      "source": [
        "# Essemble models\n"
      ]
    },
    {
      "cell_type": "code",
      "metadata": {
        "id": "iTZrRC3d4E8W"
      },
      "source": [
        "# Prepare four different models for k-fold cross validation\n",
        "random_state = 42\n",
        "n_folds = 10\n",
        "k_fold = StratifiedKFold(n_splits=n_folds,\n",
        "                         random_state=random_state,\n",
        "                         shuffle=True)\n",
        "\n",
        "y = train_clean[\"target\"]\n",
        "\n",
        "# XGB model uses leave one out encoded cat features\n",
        "xgb_train_preds = np.zeros(len(train_clean.index), )\n",
        "xgb_test_preds = np.zeros(len(test_clean.index), )\n",
        "xgb_features = xgb_cat_features + list(cont_columns)\n",
        "\n",
        "# LGB model uses label encoded cat features\n",
        "lgbm_train_preds = np.zeros(len(train_clean.index), )\n",
        "lgbm_test_preds = np.zeros(len(test_clean.index), )\n",
        "lgbm_features = lgb_cat_features + list(cont_columns)\n",
        "\n",
        "# Cat Boost uses cat features as is\n",
        "cb_train_preds = np.zeros(len(train_clean.index), )\n",
        "cb_test_preds = np.zeros(len(test_clean.index), )\n",
        "cb_features = cb_cat_features + list(cont_columns)\n",
        "\n",
        "# Ridge uses leave one out encoded cat features\n",
        "ridge_train_preds = np.zeros(len(train_clean.index), )\n",
        "ridge_test_preds = np.zeros(len(test_clean.index), )\n",
        "ridge_features = ridge_cat_features + list(cont_columns)"
      ],
      "execution_count": null,
      "outputs": []
    },
    {
      "cell_type": "markdown",
      "metadata": {
        "id": "fLuTrgTE4BAA"
      },
      "source": [
        "## K Fold Cross Validation, First Level\n",
        "\n",
        "* XGB - ROC AUC Score = 0.8833\n",
        "* LGB - ROC AUC Score = 0.8920\n",
        "* CB - ROC AUC Score = 0.8895\n",
        "* Ridge - ROC AUC Score = 0.875"
      ]
    },
    {
      "cell_type": "code",
      "metadata": {
        "colab": {
          "base_uri": "https://localhost:8080/"
        },
        "id": "gjTCNqymmUBk",
        "outputId": "403c88bf-e595-44e7-c43f-1b6a568bfb92"
      },
      "source": [
        "for fold, (train_index, valid_index) in enumerate(k_fold.split(train_clean, y)):\n",
        "    print(\"--> Fold {}\".format(fold + 1))\n",
        "    y_train = y.iloc[train_index]\n",
        "    y_valid = y.iloc[valid_index]\n",
        "\n",
        "    ########## Generate train and valid sets ##########\n",
        "    xgb_x_train = pd.DataFrame(train_clean[xgb_features].iloc[train_index])\n",
        "    xgb_x_valid = pd.DataFrame(train_clean[xgb_features].iloc[valid_index])\n",
        "\n",
        "    lgbm_x_train = pd.DataFrame(train_clean[lgbm_features].iloc[train_index])\n",
        "    lgbm_x_valid = pd.DataFrame(train_clean[lgbm_features].iloc[valid_index])\n",
        "    \n",
        "    cb_x_train = pd.DataFrame(train_clean[cb_features].iloc[train_index])\n",
        "    cb_x_valid = pd.DataFrame(train_clean[cb_features].iloc[valid_index])\n",
        "\n",
        "    ridge_x_train = pd.DataFrame(train_clean[ridge_features].iloc[train_index])\n",
        "    ridge_x_valid = pd.DataFrame(train_clean[ridge_features].iloc[valid_index])\n",
        "\n",
        "    ########## XGBoost model ##########\n",
        "    xgb_model = XGBClassifier(\n",
        "        seed=random_state,\n",
        "        verbosity=1,\n",
        "        eval_metric=\"auc\",\n",
        "        tree_method=\"gpu_hist\",\n",
        "        gpu_id=0,\n",
        "        n_jobs = 12,\n",
        "    )\n",
        "    xgb_model.fit(\n",
        "        xgb_x_train,\n",
        "        y_train,\n",
        "        eval_set=[(xgb_x_valid, y_valid)], \n",
        "        verbose=0,\n",
        "        early_stopping_rounds=200\n",
        "    )\n",
        "\n",
        "    train_oof_preds = xgb_model.predict_proba(xgb_x_valid)[:,1]\n",
        "    test_oof_preds = xgb_model.predict_proba(test_clean[xgb_features])[:,1]\n",
        "    xgb_train_preds[valid_index] = train_oof_preds\n",
        "    xgb_test_preds += test_oof_preds / n_folds\n",
        "    \n",
        "    print(\": XGB - ROC AUC Score = {}\".format(roc_auc_score(y_valid, train_oof_preds, average=\"micro\")))\n",
        "    \n",
        "    ########## LGBM model ##########\n",
        "    lgbm_model = LGBMClassifier(\n",
        "        cat_feature=[x for x in range(len(lgb_cat_features))],\n",
        "        random_state=random_state,\n",
        "        metric=\"auc\",\n",
        "        n_jobs=12,\n",
        "    )\n",
        "    lgbm_model.fit(\n",
        "        lgbm_x_train,\n",
        "        y_train,\n",
        "        eval_set=[(lgbm_x_valid, y_valid)], \n",
        "        verbose=0,\n",
        "    )\n",
        "\n",
        "    train_oof_preds = lgbm_model.predict_proba(lgbm_x_valid)[:,1]\n",
        "    test_oof_preds = lgbm_model.predict_proba(test_clean[lgbm_features])[:,1]\n",
        "    lgbm_train_preds[valid_index] = train_oof_preds\n",
        "    lgbm_test_preds += test_oof_preds / n_folds\n",
        "    \n",
        "    print(\": LGB - ROC AUC Score = {}\".format(roc_auc_score(y_valid, train_oof_preds, average=\"micro\")))\n",
        "\n",
        "    ########## CatBoost model ##########\n",
        "    cb_model = CatBoostClassifier(\n",
        "        verbose=0,\n",
        "        eval_metric=\"AUC\",\n",
        "        loss_function=\"Logloss\",\n",
        "        random_state=random_state,\n",
        "        task_type=\"GPU\",\n",
        "        devices=\"0\",\n",
        "        cat_features=[x for x in range(len(cb_cat_features))],\n",
        "    )\n",
        "    cb_model.fit(\n",
        "        cb_x_train,\n",
        "        y_train,\n",
        "        eval_set=[(cb_x_valid, y_valid)], \n",
        "        verbose=0,\n",
        "    )\n",
        "\n",
        "    train_oof_preds = cb_model.predict_proba(cb_x_valid)[:,1]\n",
        "    test_oof_preds = cb_model.predict_proba(test_clean[cb_features])[:,1]\n",
        "    cb_train_preds[valid_index] = train_oof_preds\n",
        "    cb_test_preds += test_oof_preds / n_folds\n",
        "    \n",
        "    print(\": CB - ROC AUC Score = {}\".format(roc_auc_score(y_valid, train_oof_preds, average=\"micro\")))\n",
        "    \n",
        "    ########## Ridge model ##########\n",
        "    ridge_model = RidgeClassifier(\n",
        "        random_state=random_state,\n",
        "    )\n",
        "    ridge_model.fit(\n",
        "        ridge_x_train,\n",
        "        y_train,\n",
        "    )\n",
        "\n",
        "    train_oof_preds = ridge_model.decision_function(ridge_x_valid)\n",
        "    test_oof_preds = ridge_model.decision_function(test_clean[ridge_features])\n",
        "    ridge_train_preds[valid_index] = train_oof_preds\n",
        "    ridge_test_preds += test_oof_preds / n_folds\n",
        "    \n",
        "    print(\": Ridge - ROC AUC Score = {}\".format(roc_auc_score(y_valid, train_oof_preds, average=\"micro\")))\n",
        "    print(\"\")\n",
        "\n",
        "\n",
        "print(\"--> Overall metrics\")\n",
        "print(\": XGB - ROC AUC Score = {}\".format(\n",
        "    roc_auc_score(y, xgb_train_preds, average=\"micro\")\n",
        "))\n",
        "print(\": LGB - ROC AUC Score = {}\".format(\n",
        "    roc_auc_score(y, lgbm_train_preds, average=\"micro\")\n",
        "))\n",
        "print(\": CB - ROC AUC Score = {}\".format(\n",
        "    roc_auc_score(y, cb_train_preds, average=\"micro\")\n",
        "))\n",
        "print(\": Ridge - ROC AUC Score = {}\".format(\n",
        "    roc_auc_score(y, ridge_train_preds, average=\"micro\")\n",
        "))"
      ],
      "execution_count": null,
      "outputs": [
        {
          "output_type": "stream",
          "text": [
            "--> Fold 1\n",
            ": XGB - ROC AUC Score = 0.8817187098660038\n",
            ": LGB - ROC AUC Score = 0.8905359287779799\n",
            ": CB - ROC AUC Score = 0.8870812166398149\n",
            ": Ridge - ROC AUC Score = 0.8738232810748878\n",
            "\n",
            "--> Fold 2\n",
            ": XGB - ROC AUC Score = 0.8834380641014523\n",
            ": LGB - ROC AUC Score = 0.8920187460150613\n",
            ": CB - ROC AUC Score = 0.8888588363217382\n",
            ": Ridge - ROC AUC Score = 0.8748566232333965\n",
            "\n",
            "--> Fold 3\n",
            ": XGB - ROC AUC Score = 0.8812229328597396\n",
            ": LGB - ROC AUC Score = 0.8907625052125333\n",
            ": CB - ROC AUC Score = 0.8878478690533551\n",
            ": Ridge - ROC AUC Score = 0.8732208995009413\n",
            "\n",
            "--> Fold 4\n",
            ": XGB - ROC AUC Score = 0.8830248362307551\n",
            ": LGB - ROC AUC Score = 0.8916760124583569\n",
            ": CB - ROC AUC Score = 0.8896774856745351\n",
            ": Ridge - ROC AUC Score = 0.8741859186399463\n",
            "\n",
            "--> Fold 5\n",
            ": XGB - ROC AUC Score = 0.885059427616871\n",
            ": LGB - ROC AUC Score = 0.8942221619674527\n",
            ": CB - ROC AUC Score = 0.891589982403898\n",
            ": Ridge - ROC AUC Score = 0.877637135593158\n",
            "\n",
            "--> Fold 6\n",
            ": XGB - ROC AUC Score = 0.8837433606607911\n",
            ": LGB - ROC AUC Score = 0.8915335972242673\n",
            ": CB - ROC AUC Score = 0.8886989651353675\n",
            ": Ridge - ROC AUC Score = 0.8761425659749972\n",
            "\n",
            "--> Fold 7\n",
            ": XGB - ROC AUC Score = 0.8834450402052979\n",
            ": LGB - ROC AUC Score = 0.8925625682616756\n",
            ": CB - ROC AUC Score = 0.8903226825508568\n",
            ": Ridge - ROC AUC Score = 0.8743578360882543\n",
            "\n",
            "--> Fold 8\n",
            ": XGB - ROC AUC Score = 0.8821838433731669\n",
            ": LGB - ROC AUC Score = 0.8898527585003981\n",
            ": CB - ROC AUC Score = 0.8882713199833893\n",
            ": Ridge - ROC AUC Score = 0.8751758177893947\n",
            "\n",
            "--> Fold 9\n",
            ": XGB - ROC AUC Score = 0.8864643835460411\n",
            ": LGB - ROC AUC Score = 0.894987102453669\n",
            ": CB - ROC AUC Score = 0.8924243814880762\n",
            ": Ridge - ROC AUC Score = 0.8783978704445814\n",
            "\n",
            "--> Fold 10\n",
            ": XGB - ROC AUC Score = 0.8828966954821897\n",
            ": LGB - ROC AUC Score = 0.8921953587098029\n",
            ": CB - ROC AUC Score = 0.8904678891936502\n",
            ": Ridge - ROC AUC Score = 0.874318433169834\n",
            "\n",
            "--> Overall metrics\n",
            ": XGB - ROC AUC Score = 0.8833117954380614\n",
            ": LGB - ROC AUC Score = 0.8920333076878812\n",
            ": CB - ROC AUC Score = 0.8895156261430668\n",
            ": Ridge - ROC AUC Score = 0.8752132102079165\n"
          ],
          "name": "stdout"
        }
      ]
    },
    {
      "cell_type": "code",
      "metadata": {
        "id": "5V6i9H_6zvEx"
      },
      "source": [
        "#save results\n",
        "os.getcwd()\n",
        "\n",
        "path = '/gdrive/MyDrive/Kaggle/Tabular Playground Series - Mar 2021/Results and Submissions'\n",
        "\n",
        "np.save('/'.join([path, 'xgb_train']),xgb_train_preds)\n",
        "np.save('/'.join([path, 'lgbm_train']),lgbm_train_preds)\n",
        "np.save('/'.join([path, 'cb_train']),cb_train_preds)\n",
        "np.save('/'.join([path, 'ridge_train']),ridge_train_preds)\n",
        "\n",
        "np.save('/'.join([path, 'xgb_test']),xgb_train_preds)\n",
        "np.save('/'.join([path, 'lgbm_test']),lgbm_test_preds)\n",
        "np.save('/'.join([path, 'cb_test']),cb_test_preds)\n",
        "np.save('/'.join([path, 'ridge_test']),ridge_test_preds)\n"
      ],
      "execution_count": null,
      "outputs": []
    },
    {
      "cell_type": "markdown",
      "metadata": {
        "id": "f89Yt0I3zTNi"
      },
      "source": [
        "## Manual Blended classification\n"
      ]
    },
    {
      "cell_type": "code",
      "metadata": {
        "colab": {
          "base_uri": "https://localhost:8080/"
        },
        "id": "E-uSGDh1zZ_U",
        "outputId": "23819176-7f06-49bf-d08f-25265d4b2ef5"
      },
      "source": [
        "#Manually choose weightings, drop Ridge\n",
        "y_train_preds = (\n",
        "    0.3 * xgb_train_preds +\n",
        "    0.4 * lgbm_train_preds +\n",
        "    0.3 * cb_train_preds\n",
        ")\n",
        "\n",
        "print(\": Essemble train test - ROC AUC Score = {}\".format(\n",
        "    roc_auc_score(y, y_train_preds, average=\"micro\")\n",
        "))\n",
        "\n",
        "y_test_preds = (\n",
        "    0.3 * xgb_test_preds +\n",
        "    0.4 * lgbm_test_preds +\n",
        "    0.3 * cb_test_preds\n",
        ")\n",
        "\n",
        "sample_sub['target'] = y_test_preds\n",
        "sample_sub.to_csv('/'.join([path, 'submission_base_essemble.csv']),index=False)\n"
      ],
      "execution_count": null,
      "outputs": [
        {
          "output_type": "stream",
          "text": [
            ": Essemble train test - ROC AUC Score = 0.8909404471050102\n"
          ],
          "name": "stdout"
        }
      ]
    },
    {
      "cell_type": "markdown",
      "metadata": {
        "id": "tdlzsNjP2n85"
      },
      "source": [
        "# Second Level Classification"
      ]
    },
    {
      "cell_type": "code",
      "metadata": {
        "colab": {
          "base_uri": "https://localhost:8080/"
        },
        "id": "QRJMoPJz2nLA",
        "outputId": "cce8f63e-fca7-42b6-81ea-69d7b376ea53"
      },
      "source": [
        "random_state = 42\n",
        "n_folds = 10\n",
        "k_fold = StratifiedKFold(n_splits=n_folds, random_state=random_state, shuffle=True)\n",
        "\n",
        "y = train_clean['target']\n",
        "\n",
        "l1_train = pd.DataFrame(data={\n",
        "    \"xgb\": xgb_train_preds.tolist(),\n",
        "    \"lgbm\": lgbm_train_preds.tolist(),\n",
        "    \"cb\": cb_train_preds.tolist(),\n",
        "    \"ridge\": ridge_train_preds.tolist(),\n",
        "    \"target\": y.tolist()\n",
        "})\n",
        "\n",
        "l1_test = pd.DataFrame(data={\n",
        "    \"xgb\": xgb_test_preds.tolist(),\n",
        "    \"lgbm\": lgbm_test_preds.tolist(),\n",
        "    \"cb\": cb_test_preds.tolist(),\n",
        "    \"ridge\": ridge_test_preds.tolist(),    \n",
        "})\n",
        "\n",
        "train_preds = np.zeros(len(l1_train.index), )\n",
        "test_preds = np.zeros(len(l1_test.index), )\n",
        "features = [\"xgb\", \"lgbm\", \"cb\", \"ridge\"]\n",
        "\n",
        "for fold, (train_index, valid_index) in enumerate(k_fold.split(l1_train, y)):\n",
        "    print(\"--> Fold {}\".format(fold + 1))\n",
        "    y_train = y.iloc[train_index]\n",
        "    y_valid = y.iloc[valid_index]\n",
        "\n",
        "    x_train = pd.DataFrame(l1_train[features].iloc[train_index])\n",
        "    x_valid = pd.DataFrame(l1_train[features].iloc[valid_index])\n",
        "    \n",
        "    model = CalibratedClassifierCV(\n",
        "        RidgeClassifier(random_state=random_state), \n",
        "        cv=3\n",
        "    )\n",
        "    model.fit(\n",
        "        x_train,\n",
        "        y_train,\n",
        "    )\n",
        "\n",
        "    train_oof_preds = model.predict_proba(x_valid)[:,-1]\n",
        "    test_oof_preds = model.predict_proba(l1_test[features])[:,-1]\n",
        "    train_preds[valid_index] = train_oof_preds\n",
        "    test_preds += test_oof_preds / n_folds\n",
        "    \n",
        "    print(\": ROC AUC Score = {}\".format(roc_auc_score(y_valid, train_oof_preds, average=\"micro\")))\n",
        "    print(\"\")\n",
        "    \n",
        "print(\"--> Overall metrics\")\n",
        "print(\": ROC AUC Score = {}\".format(roc_auc_score(y, train_preds, average=\"micro\")))"
      ],
      "execution_count": null,
      "outputs": [
        {
          "output_type": "stream",
          "text": [
            "--> Fold 1\n",
            ": ROC AUC Score = 0.8907889259575682\n",
            "\n",
            "--> Fold 2\n",
            ": ROC AUC Score = 0.8922990627015296\n",
            "\n",
            "--> Fold 3\n",
            ": ROC AUC Score = 0.8915431440723113\n",
            "\n",
            "--> Fold 4\n",
            ": ROC AUC Score = 0.8924845272013953\n",
            "\n",
            "--> Fold 5\n",
            ": ROC AUC Score = 0.8949637917099393\n",
            "\n",
            "--> Fold 6\n",
            ": ROC AUC Score = 0.8918673602817933\n",
            "\n",
            "--> Fold 7\n",
            ": ROC AUC Score = 0.8933580552377776\n",
            "\n",
            "--> Fold 8\n",
            ": ROC AUC Score = 0.8907186456344905\n",
            "\n",
            "--> Fold 9\n",
            ": ROC AUC Score = 0.8956073508424544\n",
            "\n",
            "--> Fold 10\n",
            ": ROC AUC Score = 0.89312838100185\n",
            "\n",
            "--> Overall metrics\n",
            ": ROC AUC Score = 0.8926600181506125\n"
          ],
          "name": "stdout"
        }
      ]
    },
    {
      "cell_type": "markdown",
      "metadata": {
        "id": "tFMBWUuyqfc8"
      },
      "source": [
        "# Hyper parameter tuning with Optuna"
      ]
    },
    {
      "cell_type": "code",
      "metadata": {
        "id": "P6xPKQgPOR5v"
      },
      "source": [
        "#Tune LGB model since consistently highest AUC\n",
        "\n",
        "def objective(trial, X=train_clean[lgbm_features], y=y, meta_random_seed = 42):\n",
        "\n",
        "  X_train,X_valid,y_train,y_valid=train_test_split(X,y,test_size=0.2,random_state=meta_random_seed)\n",
        "\n",
        "  lgb_params={\n",
        "      'learning_rate': trial.suggest_float('learning_rate', 1e-4, 1e-2),\n",
        "      'max_depth': trial.suggest_int('max_depth', 6, 200),\n",
        "      'num_leaves': trial.suggest_int('num_leaves', 31, 120),\n",
        "      'reg_alpha': trial.suggest_float('reg_alpha', 1e-3, 10.0),\n",
        "      'reg_lambda': trial.suggest_float('reg_lambda', 1e-3, 10.0),\n",
        "      'random_state': meta_random_seed,\n",
        "      'metric': 'auc',\n",
        "      'n_estimators': trial.suggest_int('n_estimators', 6, 300000),\n",
        "      'n_jobs': 12,\n",
        "      'cat_feature': [x for x in range(len(cat_columns))],\n",
        "      'bagging_seed': 2021,\n",
        "      'feature_fraction_seed': 2021,\n",
        "      'colsample_bytree': trial.suggest_float('colsample_bytree', 0.2, 0.9),\n",
        "      'min_child_samples': trial.suggest_int('min_child_samples', 1, 500),\n",
        "      'subsample_freq': trial.suggest_int('subsample_freq', 1, 10),\n",
        "      'subsample': trial.suggest_float('subsample', 0.3, 0.9),\n",
        "      'max_bin': trial.suggest_int('max_bin', 128, 1024),\n",
        "      'min_data_per_group': trial.suggest_int('min_data_per_group', 50, 350),\n",
        "      'cat_smooth': trial.suggest_int('cat_smooth', 10, 250),\n",
        "      'cat_l2': trial.suggest_int('cat_l2', 1, 20)\n",
        "  }\n",
        "\n",
        "  lgb = LGBMClassifier(\n",
        "      **lgb_params\n",
        "  )\n",
        "  \n",
        "  lgb.fit(\n",
        "      X_train,\n",
        "      y_train,\n",
        "      eval_set=(X_valid,y_valid),\n",
        "      eval_metric='auc',\n",
        "      early_stopping_rounds=100,\n",
        "      verbose=False\n",
        "  )\n",
        "\n",
        "  predictions=lgb.predict_proba(X_valid)[:,1]\n",
        "\n",
        "  return roc_auc_score(y_valid,predictions)"
      ],
      "execution_count": null,
      "outputs": []
    },
    {
      "cell_type": "code",
      "metadata": {
        "colab": {
          "base_uri": "https://localhost:8080/"
        },
        "id": "p6eQhDZVqjI0",
        "outputId": "28c1ae45-6929-486e-fdce-fce29c4c5ac3"
      },
      "source": [
        "study = optuna.create_study(direction='maximize')\n",
        "study.optimize(objective, timeout=3600*7, n_trials=15)"
      ],
      "execution_count": null,
      "outputs": [
        {
          "output_type": "stream",
          "text": [
            "\u001b[32m[I 2021-03-23 15:28:15,613]\u001b[0m A new study created in memory with name: no-name-fad9d58e-e7f0-461e-b366-ff611a08c682\u001b[0m\n",
            "\u001b[32m[I 2021-03-23 15:33:48,426]\u001b[0m Trial 0 finished with value: 0.8971520973319906 and parameters: {'learning_rate': 0.006786406114306524, 'max_depth': 10, 'num_leaves': 49, 'reg_alpha': 7.18520826715226, 'reg_lambda': 3.8109203540198067, 'n_estimators': 197006, 'colsample_bytree': 0.26964063096272617, 'min_child_samples': 140, 'subsample_freq': 3, 'subsample': 0.4972731841894771, 'max_bin': 166, 'min_data_per_group': 160, 'cat_smooth': 12, 'cat_l2': 6}. Best is trial 0 with value: 0.8971520973319906.\u001b[0m\n",
            "\u001b[32m[I 2021-03-23 15:40:20,204]\u001b[0m Trial 1 finished with value: 0.8966528747869886 and parameters: {'learning_rate': 0.005759410861659484, 'max_depth': 22, 'num_leaves': 98, 'reg_alpha': 7.776144748979597, 'reg_lambda': 3.2485130414362215, 'n_estimators': 297264, 'colsample_bytree': 0.657468335072982, 'min_child_samples': 36, 'subsample_freq': 5, 'subsample': 0.33432501249944235, 'max_bin': 392, 'min_data_per_group': 339, 'cat_smooth': 236, 'cat_l2': 18}. Best is trial 0 with value: 0.8971520973319906.\u001b[0m\n",
            "\u001b[32m[I 2021-03-23 15:54:44,180]\u001b[0m Trial 2 finished with value: 0.897037044915039 and parameters: {'learning_rate': 0.0030106970831838623, 'max_depth': 83, 'num_leaves': 78, 'reg_alpha': 9.888107390731124, 'reg_lambda': 5.043506409769575, 'n_estimators': 39811, 'colsample_bytree': 0.5602134653916706, 'min_child_samples': 35, 'subsample_freq': 1, 'subsample': 0.5743902081697952, 'max_bin': 499, 'min_data_per_group': 255, 'cat_smooth': 117, 'cat_l2': 13}. Best is trial 0 with value: 0.8971520973319906.\u001b[0m\n",
            "\u001b[32m[I 2021-03-23 16:07:14,992]\u001b[0m Trial 3 finished with value: 0.8967108501214222 and parameters: {'learning_rate': 0.003399895250036552, 'max_depth': 54, 'num_leaves': 117, 'reg_alpha': 7.729594111287509, 'reg_lambda': 5.135016973180108, 'n_estimators': 26625, 'colsample_bytree': 0.7726382854195353, 'min_child_samples': 160, 'subsample_freq': 4, 'subsample': 0.649458591608344, 'max_bin': 958, 'min_data_per_group': 178, 'cat_smooth': 234, 'cat_l2': 5}. Best is trial 0 with value: 0.8971520973319906.\u001b[0m\n",
            "\u001b[32m[I 2021-03-23 16:17:34,690]\u001b[0m Trial 4 finished with value: 0.8973855695326747 and parameters: {'learning_rate': 0.004277549026567215, 'max_depth': 167, 'num_leaves': 81, 'reg_alpha': 7.942324971676128, 'reg_lambda': 0.511460245836029, 'n_estimators': 261317, 'colsample_bytree': 0.3315180208179222, 'min_child_samples': 162, 'subsample_freq': 10, 'subsample': 0.6512684717168147, 'max_bin': 606, 'min_data_per_group': 267, 'cat_smooth': 214, 'cat_l2': 20}. Best is trial 4 with value: 0.8973855695326747.\u001b[0m\n",
            "\u001b[32m[I 2021-03-23 16:21:38,401]\u001b[0m Trial 5 finished with value: 0.8956368325826582 and parameters: {'learning_rate': 0.007980157556144908, 'max_depth': 198, 'num_leaves': 57, 'reg_alpha': 6.084239580524572, 'reg_lambda': 6.048731856504431, 'n_estimators': 109347, 'colsample_bytree': 0.8832669311049091, 'min_child_samples': 115, 'subsample_freq': 10, 'subsample': 0.38178147567955234, 'max_bin': 214, 'min_data_per_group': 323, 'cat_smooth': 142, 'cat_l2': 12}. Best is trial 4 with value: 0.8973855695326747.\u001b[0m\n",
            "\u001b[32m[I 2021-03-23 16:25:36,746]\u001b[0m Trial 6 finished with value: 0.8972856321803562 and parameters: {'learning_rate': 0.008870412868274256, 'max_depth': 24, 'num_leaves': 71, 'reg_alpha': 0.7391761011917338, 'reg_lambda': 5.3909815733137645, 'n_estimators': 231228, 'colsample_bytree': 0.3675707137760426, 'min_child_samples': 210, 'subsample_freq': 7, 'subsample': 0.45961630835510503, 'max_bin': 990, 'min_data_per_group': 272, 'cat_smooth': 100, 'cat_l2': 9}. Best is trial 4 with value: 0.8973855695326747.\u001b[0m\n",
            "\u001b[32m[I 2021-03-23 17:07:06,453]\u001b[0m Trial 7 finished with value: 0.8972560861597488 and parameters: {'learning_rate': 0.0008263750464975777, 'max_depth': 195, 'num_leaves': 75, 'reg_alpha': 1.833490376588891, 'reg_lambda': 8.659784992415881, 'n_estimators': 211981, 'colsample_bytree': 0.5814090864441459, 'min_child_samples': 424, 'subsample_freq': 7, 'subsample': 0.8279444598441861, 'max_bin': 309, 'min_data_per_group': 248, 'cat_smooth': 124, 'cat_l2': 9}. Best is trial 4 with value: 0.8973855695326747.\u001b[0m\n",
            "\u001b[32m[I 2021-03-23 17:19:05,388]\u001b[0m Trial 8 finished with value: 0.8970326427620513 and parameters: {'learning_rate': 0.002696237401930733, 'max_depth': 81, 'num_leaves': 82, 'reg_alpha': 6.640836551939658, 'reg_lambda': 1.6720451088893609, 'n_estimators': 254766, 'colsample_bytree': 0.430458050965674, 'min_child_samples': 112, 'subsample_freq': 6, 'subsample': 0.3394002978154948, 'max_bin': 901, 'min_data_per_group': 314, 'cat_smooth': 28, 'cat_l2': 8}. Best is trial 4 with value: 0.8973855695326747.\u001b[0m\n",
            "\u001b[32m[I 2021-03-23 17:22:44,254]\u001b[0m Trial 9 finished with value: 0.8965125807726088 and parameters: {'learning_rate': 0.008355511131656909, 'max_depth': 191, 'num_leaves': 86, 'reg_alpha': 6.934590551886994, 'reg_lambda': 0.8873477534196866, 'n_estimators': 223557, 'colsample_bytree': 0.6777667926078743, 'min_child_samples': 283, 'subsample_freq': 7, 'subsample': 0.5589425840664104, 'max_bin': 173, 'min_data_per_group': 113, 'cat_smooth': 172, 'cat_l2': 3}. Best is trial 4 with value: 0.8973855695326747.\u001b[0m\n",
            "\u001b[32m[I 2021-03-23 17:23:04,154]\u001b[0m Trial 10 finished with value: 0.8822877570850877 and parameters: {'learning_rate': 0.00012495563103414892, 'max_depth': 133, 'num_leaves': 117, 'reg_alpha': 3.368879789513586, 'reg_lambda': 0.0022318372977182532, 'n_estimators': 137141, 'colsample_bytree': 0.20417467985641397, 'min_child_samples': 323, 'subsample_freq': 10, 'subsample': 0.7438438906238584, 'max_bin': 712, 'min_data_per_group': 72, 'cat_smooth': 174, 'cat_l2': 20}. Best is trial 4 with value: 0.8973855695326747.\u001b[0m\n",
            "\u001b[32m[I 2021-03-23 17:27:08,970]\u001b[0m Trial 11 finished with value: 0.8973490645748272 and parameters: {'learning_rate': 0.009755268888745273, 'max_depth': 145, 'num_leaves': 63, 'reg_alpha': 3.854759870966789, 'reg_lambda': 7.468087976605721, 'n_estimators': 290228, 'colsample_bytree': 0.34002195630753823, 'min_child_samples': 234, 'subsample_freq': 9, 'subsample': 0.4673513130203878, 'max_bin': 737, 'min_data_per_group': 261, 'cat_smooth': 66, 'cat_l2': 16}. Best is trial 4 with value: 0.8973855695326747.\u001b[0m\n",
            "\u001b[32m[I 2021-03-23 17:30:49,452]\u001b[0m Trial 12 finished with value: 0.8970046704787998 and parameters: {'learning_rate': 0.009988170284524318, 'max_depth': 148, 'num_leaves': 31, 'reg_alpha': 4.106863745378388, 'reg_lambda': 8.478701995598927, 'n_estimators': 294179, 'colsample_bytree': 0.3906594542338139, 'min_child_samples': 344, 'subsample_freq': 9, 'subsample': 0.6965728370927864, 'max_bin': 694, 'min_data_per_group': 224, 'cat_smooth': 59, 'cat_l2': 17}. Best is trial 4 with value: 0.8973855695326747.\u001b[0m\n",
            "\u001b[32m[I 2021-03-23 17:40:22,554]\u001b[0m Trial 13 finished with value: 0.8971817640776554 and parameters: {'learning_rate': 0.004495156770393727, 'max_depth': 154, 'num_leaves': 56, 'reg_alpha': 9.643756728991963, 'reg_lambda': 7.229198081500561, 'n_estimators': 288019, 'colsample_bytree': 0.2849619745421524, 'min_child_samples': 227, 'subsample_freq': 9, 'subsample': 0.4766379376134908, 'max_bin': 739, 'min_data_per_group': 279, 'cat_smooth': 81, 'cat_l2': 15}. Best is trial 4 with value: 0.8973855695326747.\u001b[0m\n",
            "\u001b[32m[I 2021-03-23 17:49:52,133]\u001b[0m Trial 14 finished with value: 0.8973488116270878 and parameters: {'learning_rate': 0.0051019922988232, 'max_depth': 166, 'num_leaves': 38, 'reg_alpha': 4.620142563695225, 'reg_lambda': 9.586813033655627, 'n_estimators': 172119, 'colsample_bytree': 0.45649863383914424, 'min_child_samples': 451, 'subsample_freq': 9, 'subsample': 0.8989990901130349, 'max_bin': 569, 'min_data_per_group': 201, 'cat_smooth': 197, 'cat_l2': 20}. Best is trial 4 with value: 0.8973855695326747.\u001b[0m\n"
          ],
          "name": "stderr"
        }
      ]
    },
    {
      "cell_type": "code",
      "metadata": {
        "colab": {
          "base_uri": "https://localhost:8080/"
        },
        "id": "hlkuTVwDr1Ix",
        "outputId": "dbeafc95-ec1b-4673-cb1f-b639464bbc8e"
      },
      "source": [
        "study.best_params\n"
      ],
      "execution_count": null,
      "outputs": [
        {
          "output_type": "execute_result",
          "data": {
            "text/plain": [
              "{'cat_l2': 20,\n",
              " 'cat_smooth': 214,\n",
              " 'colsample_bytree': 0.3315180208179222,\n",
              " 'learning_rate': 0.004277549026567215,\n",
              " 'max_bin': 606,\n",
              " 'max_depth': 167,\n",
              " 'min_child_samples': 162,\n",
              " 'min_data_per_group': 267,\n",
              " 'n_estimators': 261317,\n",
              " 'num_leaves': 81,\n",
              " 'reg_alpha': 7.942324971676128,\n",
              " 'reg_lambda': 0.511460245836029,\n",
              " 'subsample': 0.6512684717168147,\n",
              " 'subsample_freq': 10}"
            ]
          },
          "metadata": {
            "tags": []
          },
          "execution_count": 26
        }
      ]
    },
    {
      "cell_type": "code",
      "metadata": {
        "colab": {
          "base_uri": "https://localhost:8080/"
        },
        "id": "4odXMzlZ0TKI",
        "outputId": "88bfdd2d-757c-4df8-aeeb-ab2119ae21d3"
      },
      "source": [
        "!pip install joblib\n",
        "import joblib\n",
        "import pickle\n",
        "\n",
        "path = '/gdrive/MyDrive/Kaggle/Tabular Playground Series - Mar 2021/Results and Submissions'\n",
        "\n",
        "\n",
        "joblib.dump(study, '/'.join([path, 'lgb_study.pkl']))\n",
        "\n"
      ],
      "execution_count": null,
      "outputs": [
        {
          "output_type": "stream",
          "text": [
            "Requirement already satisfied: joblib in /usr/local/lib/python3.7/dist-packages (1.0.1)\n"
          ],
          "name": "stdout"
        },
        {
          "output_type": "execute_result",
          "data": {
            "text/plain": [
              "['/gdrive/MyDrive/Kaggle/Tabular Playground Series - Mar 2021/Results and Submissions/lgb_study.pkl']"
            ]
          },
          "metadata": {
            "tags": []
          },
          "execution_count": 48
        }
      ]
    },
    {
      "cell_type": "markdown",
      "metadata": {
        "id": "jM5hHXkYN22u"
      },
      "source": [
        "## LGM Model with optimized hyperparameters"
      ]
    },
    {
      "cell_type": "code",
      "metadata": {
        "colab": {
          "base_uri": "https://localhost:8080/"
        },
        "id": "vYHKZg-5Xq5M",
        "outputId": "e6b9aee3-6fc6-4caa-90cb-17e89b53fe42"
      },
      "source": [
        "path = '/gdrive/MyDrive/Kaggle/Tabular Playground Series - Mar 2021/Results and Submissions'\n",
        "\n",
        "study = joblib.load('/'.join([path, 'lgb_study.pkl']))\n",
        "\n",
        "lgb_opt_params = {**study.best_params, **{\n",
        "    'random_state': 32,\n",
        "    'metric': 'auc',\n",
        "    'n_jobs': 12,\n",
        "    'cat_feature': [x for x in range(len(cat_columns))],\n",
        "    'bagging_seed': 2021,\n",
        "    'feature_fraction_seed': 2021}}\n",
        "\n",
        "print(lgb_opt_params)"
      ],
      "execution_count": null,
      "outputs": [
        {
          "output_type": "stream",
          "text": [
            "{'learning_rate': 0.004277549026567215, 'max_depth': 167, 'num_leaves': 81, 'reg_alpha': 7.942324971676128, 'reg_lambda': 0.511460245836029, 'n_estimators': 261317, 'colsample_bytree': 0.3315180208179222, 'min_child_samples': 162, 'subsample_freq': 10, 'subsample': 0.6512684717168147, 'max_bin': 606, 'min_data_per_group': 267, 'cat_smooth': 214, 'cat_l2': 20, 'random_state': 32, 'metric': 'auc', 'n_jobs': 12, 'cat_feature': [0, 1, 2, 3, 4, 5, 6, 7, 8, 9, 10, 11, 12, 13, 14, 15, 16, 17, 18], 'bagging_seed': 2021, 'feature_fraction_seed': 2021}\n"
          ],
          "name": "stdout"
        }
      ]
    },
    {
      "cell_type": "code",
      "metadata": {
        "colab": {
          "base_uri": "https://localhost:8080/"
        },
        "id": "9K5kcA-lNgWE",
        "outputId": "6cb60e46-6221-4724-e534-55eba42b1b95"
      },
      "source": [
        "########## Set up cross val ##########\n",
        "random_state = 42\n",
        "n_folds = 10\n",
        "k_fold = StratifiedKFold(n_splits=n_folds, random_state=random_state, shuffle=True)\n",
        "y = train_clean[\"target\"]\n",
        "\n",
        "########## \n",
        "lgbm_opt_train_preds = np.zeros(len(train_clean.index), )\n",
        "lgbm_opt_test_preds = np.zeros(len(test_clean.index), )\n",
        "\n",
        "for fold, (train_index, valid_index) in enumerate(k_fold.split(train_clean, y)):\n",
        "  print(\"--> Fold {}\".format(fold + 1))\n",
        "  y_train = y.iloc[train_index]\n",
        "  y_valid = y.iloc[valid_index]\n",
        "\n",
        "  ########## LGBM Optimized X and Y ##############\n",
        "  lgbm_x_train = pd.DataFrame(train_clean[lgbm_features].iloc[train_index])\n",
        "  lgbm_x_valid = pd.DataFrame(train_clean[lgbm_features].iloc[valid_index])\n",
        "\n",
        "  ########## LGBM Optimized model ##########\n",
        "  lgbm_opt_model = LGBMClassifier(\n",
        "      **lgb_opt_params\n",
        "  )\n",
        "\n",
        "  ########## LGBM Optimized Fit ###############\n",
        "  lgbm_opt_model.fit(\n",
        "      lgbm_x_train,\n",
        "      y_train,\n",
        "      eval_set=[(lgbm_x_valid, y_valid)], \n",
        "      eval_metric='auc',\n",
        "      early_stopping_rounds=200,\n",
        "      verbose=0,\n",
        "  )\n",
        "\n",
        "  ########## Collect Out of Fold predictions ####\n",
        "  train_oof_preds = lgbm_model.predict_proba(lgbm_x_valid)[:,1]\n",
        "  test_oof_preds = lgbm_model.predict_proba(test_clean[lgbm_features])[:,1]\n",
        "  lgbm_opt_train_preds[valid_index] = train_oof_preds\n",
        "  lgbm_opt_test_preds += test_oof_preds / n_folds\n",
        "\n",
        "  sample_sub['target'] = lgbm_opt_test_preds\n",
        "  save_file_name = f'lgbm_opt_{fold}.csv'\n",
        "  sample_sub.to_csv('/'.join([path, save_file_name]),index=False)\n",
        "\n",
        "  print(\": LGB - ROC AUC Score = {}\".format(roc_auc_score(y_valid, train_oof_preds, average=\"micro\")))\n",
        "\n",
        "\n",
        "sample_sub['target'] = lgbm_opt_test_preds\n",
        "sample_sub.to_csv('/'.join([path, 'lgbm_opt.csv']),index=False)\n"
      ],
      "execution_count": null,
      "outputs": [
        {
          "output_type": "stream",
          "text": [
            "--> Fold 1\n",
            ": LGB - ROC AUC Score = 0.8996460670147416\n",
            "--> Fold 2\n",
            ": LGB - ROC AUC Score = 0.9004835875130743\n",
            "--> Fold 3\n",
            ": LGB - ROC AUC Score = 0.8989699099327644\n",
            "--> Fold 4\n",
            ": LGB - ROC AUC Score = 0.9003322417247772\n",
            "--> Fold 5\n",
            ": LGB - ROC AUC Score = 0.902690595659634\n",
            "--> Fold 6\n",
            ": LGB - ROC AUC Score = 0.8999689079759401\n",
            "--> Fold 7\n",
            ": LGB - ROC AUC Score = 0.9011589628149071\n",
            "--> Fold 8\n",
            ": LGB - ROC AUC Score = 0.8988345278667643\n",
            "--> Fold 9\n",
            ": LGB - ROC AUC Score = 0.9031854339590824\n",
            "--> Fold 10\n",
            ": LGB - ROC AUC Score = 0.8921953587098029\n"
          ],
          "name": "stdout"
        }
      ]
    }
  ]
}